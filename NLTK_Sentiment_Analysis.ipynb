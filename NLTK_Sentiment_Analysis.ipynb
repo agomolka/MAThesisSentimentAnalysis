{
 "cells": [
  {
   "cell_type": "code",
   "execution_count": 1,
   "id": "8b23299c",
   "metadata": {},
   "outputs": [
    {
     "name": "stdout",
     "output_type": "stream",
     "text": [
      "Requirement already satisfied: nltk in /opt/anaconda3/lib/python3.9/site-packages (3.7)\n",
      "Requirement already satisfied: click in /opt/anaconda3/lib/python3.9/site-packages (from nltk) (8.0.4)\n",
      "Requirement already satisfied: joblib in /opt/anaconda3/lib/python3.9/site-packages (from nltk) (1.2.0)\n",
      "Requirement already satisfied: regex>=2021.8.3 in /opt/anaconda3/lib/python3.9/site-packages (from nltk) (2022.7.9)\n",
      "Requirement already satisfied: tqdm in /opt/anaconda3/lib/python3.9/site-packages (from nltk) (4.64.1)\n",
      "\n",
      "\u001b[1m[\u001b[0m\u001b[34;49mnotice\u001b[0m\u001b[1;39;49m]\u001b[0m\u001b[39;49m A new release of pip is available: \u001b[0m\u001b[31;49m23.1\u001b[0m\u001b[39;49m -> \u001b[0m\u001b[32;49m23.2.1\u001b[0m\n",
      "\u001b[1m[\u001b[0m\u001b[34;49mnotice\u001b[0m\u001b[1;39;49m]\u001b[0m\u001b[39;49m To update, run: \u001b[0m\u001b[32;49mpip install --upgrade pip\u001b[0m\n"
     ]
    }
   ],
   "source": [
    "!pip install nltk"
   ]
  },
  {
   "cell_type": "code",
   "execution_count": 2,
   "id": "8a90d0e4",
   "metadata": {},
   "outputs": [
    {
     "name": "stderr",
     "output_type": "stream",
     "text": [
      "[nltk_data] Downloading collection 'all'\n",
      "[nltk_data]    | \n",
      "[nltk_data]    | Downloading package abc to\n",
      "[nltk_data]    |     /Users/aleksandrarozwadowska/nltk_data...\n",
      "[nltk_data]    |   Package abc is already up-to-date!\n",
      "[nltk_data]    | Downloading package alpino to\n",
      "[nltk_data]    |     /Users/aleksandrarozwadowska/nltk_data...\n",
      "[nltk_data]    |   Package alpino is already up-to-date!\n",
      "[nltk_data]    | Downloading package averaged_perceptron_tagger to\n",
      "[nltk_data]    |     /Users/aleksandrarozwadowska/nltk_data...\n",
      "[nltk_data]    |   Package averaged_perceptron_tagger is already up-\n",
      "[nltk_data]    |       to-date!\n",
      "[nltk_data]    | Downloading package averaged_perceptron_tagger_ru to\n",
      "[nltk_data]    |     /Users/aleksandrarozwadowska/nltk_data...\n",
      "[nltk_data]    |   Package averaged_perceptron_tagger_ru is already\n",
      "[nltk_data]    |       up-to-date!\n",
      "[nltk_data]    | Downloading package basque_grammars to\n",
      "[nltk_data]    |     /Users/aleksandrarozwadowska/nltk_data...\n",
      "[nltk_data]    |   Package basque_grammars is already up-to-date!\n",
      "[nltk_data]    | Downloading package bcp47 to\n",
      "[nltk_data]    |     /Users/aleksandrarozwadowska/nltk_data...\n",
      "[nltk_data]    |   Package bcp47 is already up-to-date!\n",
      "[nltk_data]    | Downloading package biocreative_ppi to\n",
      "[nltk_data]    |     /Users/aleksandrarozwadowska/nltk_data...\n",
      "[nltk_data]    |   Package biocreative_ppi is already up-to-date!\n",
      "[nltk_data]    | Downloading package bllip_wsj_no_aux to\n",
      "[nltk_data]    |     /Users/aleksandrarozwadowska/nltk_data...\n",
      "[nltk_data]    |   Package bllip_wsj_no_aux is already up-to-date!\n",
      "[nltk_data]    | Downloading package book_grammars to\n",
      "[nltk_data]    |     /Users/aleksandrarozwadowska/nltk_data...\n",
      "[nltk_data]    |   Package book_grammars is already up-to-date!\n",
      "[nltk_data]    | Downloading package brown to\n",
      "[nltk_data]    |     /Users/aleksandrarozwadowska/nltk_data...\n",
      "[nltk_data]    |   Package brown is already up-to-date!\n",
      "[nltk_data]    | Downloading package brown_tei to\n",
      "[nltk_data]    |     /Users/aleksandrarozwadowska/nltk_data...\n",
      "[nltk_data]    |   Package brown_tei is already up-to-date!\n",
      "[nltk_data]    | Downloading package cess_cat to\n",
      "[nltk_data]    |     /Users/aleksandrarozwadowska/nltk_data...\n",
      "[nltk_data]    |   Package cess_cat is already up-to-date!\n",
      "[nltk_data]    | Downloading package cess_esp to\n",
      "[nltk_data]    |     /Users/aleksandrarozwadowska/nltk_data...\n",
      "[nltk_data]    |   Package cess_esp is already up-to-date!\n",
      "[nltk_data]    | Downloading package chat80 to\n",
      "[nltk_data]    |     /Users/aleksandrarozwadowska/nltk_data...\n",
      "[nltk_data]    |   Package chat80 is already up-to-date!\n",
      "[nltk_data]    | Downloading package city_database to\n",
      "[nltk_data]    |     /Users/aleksandrarozwadowska/nltk_data...\n",
      "[nltk_data]    |   Package city_database is already up-to-date!\n",
      "[nltk_data]    | Downloading package cmudict to\n",
      "[nltk_data]    |     /Users/aleksandrarozwadowska/nltk_data...\n",
      "[nltk_data]    |   Package cmudict is already up-to-date!\n",
      "[nltk_data]    | Downloading package comparative_sentences to\n",
      "[nltk_data]    |     /Users/aleksandrarozwadowska/nltk_data...\n",
      "[nltk_data]    |   Package comparative_sentences is already up-to-\n",
      "[nltk_data]    |       date!\n",
      "[nltk_data]    | Downloading package comtrans to\n",
      "[nltk_data]    |     /Users/aleksandrarozwadowska/nltk_data...\n",
      "[nltk_data]    |   Package comtrans is already up-to-date!\n",
      "[nltk_data]    | Downloading package conll2000 to\n",
      "[nltk_data]    |     /Users/aleksandrarozwadowska/nltk_data...\n",
      "[nltk_data]    |   Package conll2000 is already up-to-date!\n",
      "[nltk_data]    | Downloading package conll2002 to\n",
      "[nltk_data]    |     /Users/aleksandrarozwadowska/nltk_data...\n",
      "[nltk_data]    |   Package conll2002 is already up-to-date!\n",
      "[nltk_data]    | Downloading package conll2007 to\n",
      "[nltk_data]    |     /Users/aleksandrarozwadowska/nltk_data...\n",
      "[nltk_data]    |   Package conll2007 is already up-to-date!\n",
      "[nltk_data]    | Downloading package crubadan to\n",
      "[nltk_data]    |     /Users/aleksandrarozwadowska/nltk_data...\n",
      "[nltk_data]    |   Package crubadan is already up-to-date!\n",
      "[nltk_data]    | Downloading package dependency_treebank to\n",
      "[nltk_data]    |     /Users/aleksandrarozwadowska/nltk_data...\n",
      "[nltk_data]    |   Package dependency_treebank is already up-to-date!\n",
      "[nltk_data]    | Downloading package dolch to\n",
      "[nltk_data]    |     /Users/aleksandrarozwadowska/nltk_data...\n",
      "[nltk_data]    |   Package dolch is already up-to-date!\n",
      "[nltk_data]    | Downloading package europarl_raw to\n",
      "[nltk_data]    |     /Users/aleksandrarozwadowska/nltk_data...\n",
      "[nltk_data]    |   Package europarl_raw is already up-to-date!\n",
      "[nltk_data]    | Downloading package extended_omw to\n",
      "[nltk_data]    |     /Users/aleksandrarozwadowska/nltk_data...\n",
      "[nltk_data]    |   Package extended_omw is already up-to-date!\n",
      "[nltk_data]    | Downloading package floresta to\n",
      "[nltk_data]    |     /Users/aleksandrarozwadowska/nltk_data...\n",
      "[nltk_data]    |   Package floresta is already up-to-date!\n",
      "[nltk_data]    | Downloading package framenet_v15 to\n",
      "[nltk_data]    |     /Users/aleksandrarozwadowska/nltk_data...\n",
      "[nltk_data]    |   Package framenet_v15 is already up-to-date!\n",
      "[nltk_data]    | Downloading package framenet_v17 to\n",
      "[nltk_data]    |     /Users/aleksandrarozwadowska/nltk_data...\n",
      "[nltk_data]    |   Package framenet_v17 is already up-to-date!\n",
      "[nltk_data]    | Downloading package gazetteers to\n",
      "[nltk_data]    |     /Users/aleksandrarozwadowska/nltk_data...\n",
      "[nltk_data]    |   Package gazetteers is already up-to-date!\n",
      "[nltk_data]    | Downloading package genesis to\n",
      "[nltk_data]    |     /Users/aleksandrarozwadowska/nltk_data...\n",
      "[nltk_data]    |   Package genesis is already up-to-date!\n",
      "[nltk_data]    | Downloading package gutenberg to\n",
      "[nltk_data]    |     /Users/aleksandrarozwadowska/nltk_data...\n",
      "[nltk_data]    |   Package gutenberg is already up-to-date!\n",
      "[nltk_data]    | Downloading package ieer to\n",
      "[nltk_data]    |     /Users/aleksandrarozwadowska/nltk_data...\n",
      "[nltk_data]    |   Package ieer is already up-to-date!\n",
      "[nltk_data]    | Downloading package inaugural to\n",
      "[nltk_data]    |     /Users/aleksandrarozwadowska/nltk_data...\n",
      "[nltk_data]    |   Package inaugural is already up-to-date!\n",
      "[nltk_data]    | Downloading package indian to\n",
      "[nltk_data]    |     /Users/aleksandrarozwadowska/nltk_data...\n",
      "[nltk_data]    |   Package indian is already up-to-date!\n",
      "[nltk_data]    | Downloading package jeita to\n",
      "[nltk_data]    |     /Users/aleksandrarozwadowska/nltk_data...\n",
      "[nltk_data]    |   Package jeita is already up-to-date!\n",
      "[nltk_data]    | Downloading package kimmo to\n",
      "[nltk_data]    |     /Users/aleksandrarozwadowska/nltk_data...\n",
      "[nltk_data]    |   Package kimmo is already up-to-date!\n",
      "[nltk_data]    | Downloading package knbc to\n",
      "[nltk_data]    |     /Users/aleksandrarozwadowska/nltk_data...\n",
      "[nltk_data]    |   Package knbc is already up-to-date!\n",
      "[nltk_data]    | Downloading package large_grammars to\n",
      "[nltk_data]    |     /Users/aleksandrarozwadowska/nltk_data...\n",
      "[nltk_data]    |   Package large_grammars is already up-to-date!\n",
      "[nltk_data]    | Downloading package lin_thesaurus to\n",
      "[nltk_data]    |     /Users/aleksandrarozwadowska/nltk_data...\n",
      "[nltk_data]    |   Package lin_thesaurus is already up-to-date!\n",
      "[nltk_data]    | Downloading package mac_morpho to\n",
      "[nltk_data]    |     /Users/aleksandrarozwadowska/nltk_data...\n",
      "[nltk_data]    |   Package mac_morpho is already up-to-date!\n",
      "[nltk_data]    | Downloading package machado to\n",
      "[nltk_data]    |     /Users/aleksandrarozwadowska/nltk_data...\n",
      "[nltk_data]    |   Package machado is already up-to-date!\n",
      "[nltk_data]    | Downloading package masc_tagged to\n",
      "[nltk_data]    |     /Users/aleksandrarozwadowska/nltk_data...\n",
      "[nltk_data]    |   Package masc_tagged is already up-to-date!\n",
      "[nltk_data]    | Downloading package maxent_ne_chunker to\n",
      "[nltk_data]    |     /Users/aleksandrarozwadowska/nltk_data...\n",
      "[nltk_data]    |   Package maxent_ne_chunker is already up-to-date!\n",
      "[nltk_data]    | Downloading package maxent_treebank_pos_tagger to\n",
      "[nltk_data]    |     /Users/aleksandrarozwadowska/nltk_data...\n",
      "[nltk_data]    |   Package maxent_treebank_pos_tagger is already up-\n",
      "[nltk_data]    |       to-date!\n",
      "[nltk_data]    | Downloading package moses_sample to\n",
      "[nltk_data]    |     /Users/aleksandrarozwadowska/nltk_data...\n",
      "[nltk_data]    |   Package moses_sample is already up-to-date!\n",
      "[nltk_data]    | Downloading package movie_reviews to\n",
      "[nltk_data]    |     /Users/aleksandrarozwadowska/nltk_data...\n",
      "[nltk_data]    |   Package movie_reviews is already up-to-date!\n",
      "[nltk_data]    | Downloading package mte_teip5 to\n",
      "[nltk_data]    |     /Users/aleksandrarozwadowska/nltk_data...\n",
      "[nltk_data]    |   Package mte_teip5 is already up-to-date!\n",
      "[nltk_data]    | Downloading package mwa_ppdb to\n",
      "[nltk_data]    |     /Users/aleksandrarozwadowska/nltk_data...\n",
      "[nltk_data]    |   Package mwa_ppdb is already up-to-date!\n",
      "[nltk_data]    | Downloading package names to\n",
      "[nltk_data]    |     /Users/aleksandrarozwadowska/nltk_data...\n",
      "[nltk_data]    |   Package names is already up-to-date!\n",
      "[nltk_data]    | Downloading package nombank.1.0 to\n",
      "[nltk_data]    |     /Users/aleksandrarozwadowska/nltk_data...\n",
      "[nltk_data]    |   Package nombank.1.0 is already up-to-date!\n",
      "[nltk_data]    | Downloading package nonbreaking_prefixes to\n",
      "[nltk_data]    |     /Users/aleksandrarozwadowska/nltk_data...\n",
      "[nltk_data]    |   Package nonbreaking_prefixes is already up-to-date!\n",
      "[nltk_data]    | Downloading package nps_chat to\n",
      "[nltk_data]    |     /Users/aleksandrarozwadowska/nltk_data...\n",
      "[nltk_data]    |   Package nps_chat is already up-to-date!\n",
      "[nltk_data]    | Downloading package omw to\n",
      "[nltk_data]    |     /Users/aleksandrarozwadowska/nltk_data...\n"
     ]
    },
    {
     "name": "stderr",
     "output_type": "stream",
     "text": [
      "[nltk_data]    |   Package omw is already up-to-date!\n",
      "[nltk_data]    | Downloading package omw-1.4 to\n",
      "[nltk_data]    |     /Users/aleksandrarozwadowska/nltk_data...\n",
      "[nltk_data]    |   Package omw-1.4 is already up-to-date!\n",
      "[nltk_data]    | Downloading package opinion_lexicon to\n",
      "[nltk_data]    |     /Users/aleksandrarozwadowska/nltk_data...\n",
      "[nltk_data]    |   Package opinion_lexicon is already up-to-date!\n",
      "[nltk_data]    | Downloading package panlex_swadesh to\n",
      "[nltk_data]    |     /Users/aleksandrarozwadowska/nltk_data...\n",
      "[nltk_data]    |   Package panlex_swadesh is already up-to-date!\n",
      "[nltk_data]    | Downloading package paradigms to\n",
      "[nltk_data]    |     /Users/aleksandrarozwadowska/nltk_data...\n",
      "[nltk_data]    |   Package paradigms is already up-to-date!\n",
      "[nltk_data]    | Downloading package pe08 to\n",
      "[nltk_data]    |     /Users/aleksandrarozwadowska/nltk_data...\n",
      "[nltk_data]    |   Package pe08 is already up-to-date!\n",
      "[nltk_data]    | Downloading package perluniprops to\n",
      "[nltk_data]    |     /Users/aleksandrarozwadowska/nltk_data...\n",
      "[nltk_data]    |   Package perluniprops is already up-to-date!\n",
      "[nltk_data]    | Downloading package pil to\n",
      "[nltk_data]    |     /Users/aleksandrarozwadowska/nltk_data...\n",
      "[nltk_data]    |   Package pil is already up-to-date!\n",
      "[nltk_data]    | Downloading package pl196x to\n",
      "[nltk_data]    |     /Users/aleksandrarozwadowska/nltk_data...\n",
      "[nltk_data]    |   Package pl196x is already up-to-date!\n",
      "[nltk_data]    | Downloading package porter_test to\n",
      "[nltk_data]    |     /Users/aleksandrarozwadowska/nltk_data...\n",
      "[nltk_data]    |   Package porter_test is already up-to-date!\n",
      "[nltk_data]    | Downloading package ppattach to\n",
      "[nltk_data]    |     /Users/aleksandrarozwadowska/nltk_data...\n",
      "[nltk_data]    |   Package ppattach is already up-to-date!\n",
      "[nltk_data]    | Downloading package problem_reports to\n",
      "[nltk_data]    |     /Users/aleksandrarozwadowska/nltk_data...\n",
      "[nltk_data]    |   Package problem_reports is already up-to-date!\n",
      "[nltk_data]    | Downloading package product_reviews_1 to\n",
      "[nltk_data]    |     /Users/aleksandrarozwadowska/nltk_data...\n",
      "[nltk_data]    |   Package product_reviews_1 is already up-to-date!\n",
      "[nltk_data]    | Downloading package product_reviews_2 to\n",
      "[nltk_data]    |     /Users/aleksandrarozwadowska/nltk_data...\n",
      "[nltk_data]    |   Package product_reviews_2 is already up-to-date!\n",
      "[nltk_data]    | Downloading package propbank to\n",
      "[nltk_data]    |     /Users/aleksandrarozwadowska/nltk_data...\n",
      "[nltk_data]    |   Package propbank is already up-to-date!\n",
      "[nltk_data]    | Downloading package pros_cons to\n",
      "[nltk_data]    |     /Users/aleksandrarozwadowska/nltk_data...\n",
      "[nltk_data]    |   Package pros_cons is already up-to-date!\n",
      "[nltk_data]    | Downloading package ptb to\n",
      "[nltk_data]    |     /Users/aleksandrarozwadowska/nltk_data...\n",
      "[nltk_data]    |   Package ptb is already up-to-date!\n",
      "[nltk_data]    | Downloading package punkt to\n",
      "[nltk_data]    |     /Users/aleksandrarozwadowska/nltk_data...\n",
      "[nltk_data]    |   Package punkt is already up-to-date!\n",
      "[nltk_data]    | Downloading package qc to\n",
      "[nltk_data]    |     /Users/aleksandrarozwadowska/nltk_data...\n",
      "[nltk_data]    |   Package qc is already up-to-date!\n",
      "[nltk_data]    | Downloading package reuters to\n",
      "[nltk_data]    |     /Users/aleksandrarozwadowska/nltk_data...\n",
      "[nltk_data]    |   Package reuters is already up-to-date!\n",
      "[nltk_data]    | Downloading package rslp to\n",
      "[nltk_data]    |     /Users/aleksandrarozwadowska/nltk_data...\n",
      "[nltk_data]    |   Package rslp is already up-to-date!\n",
      "[nltk_data]    | Downloading package rte to\n",
      "[nltk_data]    |     /Users/aleksandrarozwadowska/nltk_data...\n",
      "[nltk_data]    |   Package rte is already up-to-date!\n",
      "[nltk_data]    | Downloading package sample_grammars to\n",
      "[nltk_data]    |     /Users/aleksandrarozwadowska/nltk_data...\n",
      "[nltk_data]    |   Package sample_grammars is already up-to-date!\n",
      "[nltk_data]    | Downloading package semcor to\n",
      "[nltk_data]    |     /Users/aleksandrarozwadowska/nltk_data...\n",
      "[nltk_data]    |   Package semcor is already up-to-date!\n",
      "[nltk_data]    | Downloading package senseval to\n",
      "[nltk_data]    |     /Users/aleksandrarozwadowska/nltk_data...\n",
      "[nltk_data]    |   Package senseval is already up-to-date!\n",
      "[nltk_data]    | Downloading package sentence_polarity to\n",
      "[nltk_data]    |     /Users/aleksandrarozwadowska/nltk_data...\n",
      "[nltk_data]    |   Package sentence_polarity is already up-to-date!\n",
      "[nltk_data]    | Downloading package sentiwordnet to\n",
      "[nltk_data]    |     /Users/aleksandrarozwadowska/nltk_data...\n",
      "[nltk_data]    |   Package sentiwordnet is already up-to-date!\n",
      "[nltk_data]    | Downloading package shakespeare to\n",
      "[nltk_data]    |     /Users/aleksandrarozwadowska/nltk_data...\n",
      "[nltk_data]    |   Package shakespeare is already up-to-date!\n",
      "[nltk_data]    | Downloading package sinica_treebank to\n",
      "[nltk_data]    |     /Users/aleksandrarozwadowska/nltk_data...\n",
      "[nltk_data]    |   Package sinica_treebank is already up-to-date!\n",
      "[nltk_data]    | Downloading package smultron to\n",
      "[nltk_data]    |     /Users/aleksandrarozwadowska/nltk_data...\n",
      "[nltk_data]    |   Package smultron is already up-to-date!\n",
      "[nltk_data]    | Downloading package snowball_data to\n",
      "[nltk_data]    |     /Users/aleksandrarozwadowska/nltk_data...\n",
      "[nltk_data]    |   Package snowball_data is already up-to-date!\n",
      "[nltk_data]    | Downloading package spanish_grammars to\n",
      "[nltk_data]    |     /Users/aleksandrarozwadowska/nltk_data...\n",
      "[nltk_data]    |   Package spanish_grammars is already up-to-date!\n",
      "[nltk_data]    | Downloading package state_union to\n",
      "[nltk_data]    |     /Users/aleksandrarozwadowska/nltk_data...\n",
      "[nltk_data]    |   Package state_union is already up-to-date!\n",
      "[nltk_data]    | Downloading package stopwords to\n",
      "[nltk_data]    |     /Users/aleksandrarozwadowska/nltk_data...\n",
      "[nltk_data]    |   Package stopwords is already up-to-date!\n",
      "[nltk_data]    | Downloading package subjectivity to\n",
      "[nltk_data]    |     /Users/aleksandrarozwadowska/nltk_data...\n",
      "[nltk_data]    |   Package subjectivity is already up-to-date!\n",
      "[nltk_data]    | Downloading package swadesh to\n",
      "[nltk_data]    |     /Users/aleksandrarozwadowska/nltk_data...\n",
      "[nltk_data]    |   Package swadesh is already up-to-date!\n",
      "[nltk_data]    | Downloading package switchboard to\n",
      "[nltk_data]    |     /Users/aleksandrarozwadowska/nltk_data...\n",
      "[nltk_data]    |   Package switchboard is already up-to-date!\n",
      "[nltk_data]    | Downloading package tagsets to\n",
      "[nltk_data]    |     /Users/aleksandrarozwadowska/nltk_data...\n",
      "[nltk_data]    |   Package tagsets is already up-to-date!\n",
      "[nltk_data]    | Downloading package timit to\n",
      "[nltk_data]    |     /Users/aleksandrarozwadowska/nltk_data...\n",
      "[nltk_data]    |   Package timit is already up-to-date!\n",
      "[nltk_data]    | Downloading package toolbox to\n",
      "[nltk_data]    |     /Users/aleksandrarozwadowska/nltk_data...\n",
      "[nltk_data]    |   Package toolbox is already up-to-date!\n",
      "[nltk_data]    | Downloading package treebank to\n",
      "[nltk_data]    |     /Users/aleksandrarozwadowska/nltk_data...\n",
      "[nltk_data]    |   Package treebank is already up-to-date!\n",
      "[nltk_data]    | Downloading package twitter_samples to\n",
      "[nltk_data]    |     /Users/aleksandrarozwadowska/nltk_data...\n",
      "[nltk_data]    |   Package twitter_samples is already up-to-date!\n",
      "[nltk_data]    | Downloading package udhr to\n",
      "[nltk_data]    |     /Users/aleksandrarozwadowska/nltk_data...\n",
      "[nltk_data]    |   Package udhr is already up-to-date!\n",
      "[nltk_data]    | Downloading package udhr2 to\n",
      "[nltk_data]    |     /Users/aleksandrarozwadowska/nltk_data...\n",
      "[nltk_data]    |   Package udhr2 is already up-to-date!\n",
      "[nltk_data]    | Downloading package unicode_samples to\n",
      "[nltk_data]    |     /Users/aleksandrarozwadowska/nltk_data...\n",
      "[nltk_data]    |   Package unicode_samples is already up-to-date!\n",
      "[nltk_data]    | Downloading package universal_tagset to\n",
      "[nltk_data]    |     /Users/aleksandrarozwadowska/nltk_data...\n",
      "[nltk_data]    |   Package universal_tagset is already up-to-date!\n",
      "[nltk_data]    | Downloading package universal_treebanks_v20 to\n",
      "[nltk_data]    |     /Users/aleksandrarozwadowska/nltk_data...\n",
      "[nltk_data]    |   Package universal_treebanks_v20 is already up-to-\n",
      "[nltk_data]    |       date!\n",
      "[nltk_data]    | Downloading package vader_lexicon to\n",
      "[nltk_data]    |     /Users/aleksandrarozwadowska/nltk_data...\n",
      "[nltk_data]    |   Package vader_lexicon is already up-to-date!\n",
      "[nltk_data]    | Downloading package verbnet to\n",
      "[nltk_data]    |     /Users/aleksandrarozwadowska/nltk_data...\n",
      "[nltk_data]    |   Package verbnet is already up-to-date!\n",
      "[nltk_data]    | Downloading package verbnet3 to\n",
      "[nltk_data]    |     /Users/aleksandrarozwadowska/nltk_data...\n",
      "[nltk_data]    |   Package verbnet3 is already up-to-date!\n",
      "[nltk_data]    | Downloading package webtext to\n",
      "[nltk_data]    |     /Users/aleksandrarozwadowska/nltk_data...\n",
      "[nltk_data]    |   Package webtext is already up-to-date!\n",
      "[nltk_data]    | Downloading package wmt15_eval to\n",
      "[nltk_data]    |     /Users/aleksandrarozwadowska/nltk_data...\n",
      "[nltk_data]    |   Package wmt15_eval is already up-to-date!\n",
      "[nltk_data]    | Downloading package word2vec_sample to\n",
      "[nltk_data]    |     /Users/aleksandrarozwadowska/nltk_data...\n",
      "[nltk_data]    |   Package word2vec_sample is already up-to-date!\n",
      "[nltk_data]    | Downloading package wordnet to\n",
      "[nltk_data]    |     /Users/aleksandrarozwadowska/nltk_data...\n",
      "[nltk_data]    |   Package wordnet is already up-to-date!\n",
      "[nltk_data]    | Downloading package wordnet2021 to\n",
      "[nltk_data]    |     /Users/aleksandrarozwadowska/nltk_data...\n",
      "[nltk_data]    |   Package wordnet2021 is already up-to-date!\n",
      "[nltk_data]    | Downloading package wordnet2022 to\n",
      "[nltk_data]    |     /Users/aleksandrarozwadowska/nltk_data...\n",
      "[nltk_data]    |   Package wordnet2022 is already up-to-date!\n",
      "[nltk_data]    | Downloading package wordnet31 to\n",
      "[nltk_data]    |     /Users/aleksandrarozwadowska/nltk_data...\n"
     ]
    },
    {
     "name": "stderr",
     "output_type": "stream",
     "text": [
      "[nltk_data]    |   Package wordnet31 is already up-to-date!\n",
      "[nltk_data]    | Downloading package wordnet_ic to\n",
      "[nltk_data]    |     /Users/aleksandrarozwadowska/nltk_data...\n",
      "[nltk_data]    |   Package wordnet_ic is already up-to-date!\n",
      "[nltk_data]    | Downloading package words to\n",
      "[nltk_data]    |     /Users/aleksandrarozwadowska/nltk_data...\n",
      "[nltk_data]    |   Package words is already up-to-date!\n",
      "[nltk_data]    | Downloading package ycoe to\n",
      "[nltk_data]    |     /Users/aleksandrarozwadowska/nltk_data...\n",
      "[nltk_data]    |   Package ycoe is already up-to-date!\n",
      "[nltk_data]    | \n",
      "[nltk_data]  Done downloading collection all\n"
     ]
    },
    {
     "data": {
      "text/plain": [
       "True"
      ]
     },
     "execution_count": 2,
     "metadata": {},
     "output_type": "execute_result"
    }
   ],
   "source": [
    "import nltk\n",
    "nltk.download(\"all\")"
   ]
  },
  {
   "cell_type": "code",
   "execution_count": 3,
   "id": "86f95407",
   "metadata": {},
   "outputs": [],
   "source": [
    "import pandas as pd\n",
    "import nltk\n",
    "\n",
    "from nltk.sentiment.vader import SentimentIntensityAnalyzer\n",
    "from nltk.corpus import stopwords\n",
    "from nltk.tokenize import word_tokenize\n",
    "from nltk.stem import WordNetLemmatizer"
   ]
  },
  {
   "cell_type": "code",
   "execution_count": 4,
   "id": "db2ee2f0",
   "metadata": {},
   "outputs": [
    {
     "data": {
      "text/html": [
       "<div>\n",
       "<style scoped>\n",
       "    .dataframe tbody tr th:only-of-type {\n",
       "        vertical-align: middle;\n",
       "    }\n",
       "\n",
       "    .dataframe tbody tr th {\n",
       "        vertical-align: top;\n",
       "    }\n",
       "\n",
       "    .dataframe thead th {\n",
       "        text-align: right;\n",
       "    }\n",
       "</style>\n",
       "<table border=\"1\" class=\"dataframe\">\n",
       "  <thead>\n",
       "    <tr style=\"text-align: right;\">\n",
       "      <th></th>\n",
       "      <th>reviewText</th>\n",
       "      <th>Positive</th>\n",
       "    </tr>\n",
       "  </thead>\n",
       "  <tbody>\n",
       "    <tr>\n",
       "      <th>0</th>\n",
       "      <td>This is a one of the best apps acording to a b...</td>\n",
       "      <td>1</td>\n",
       "    </tr>\n",
       "    <tr>\n",
       "      <th>1</th>\n",
       "      <td>This is a pretty good version of the game for ...</td>\n",
       "      <td>1</td>\n",
       "    </tr>\n",
       "    <tr>\n",
       "      <th>2</th>\n",
       "      <td>this is a really cool game. there are a bunch ...</td>\n",
       "      <td>1</td>\n",
       "    </tr>\n",
       "    <tr>\n",
       "      <th>3</th>\n",
       "      <td>This is a silly game and can be frustrating, b...</td>\n",
       "      <td>1</td>\n",
       "    </tr>\n",
       "    <tr>\n",
       "      <th>4</th>\n",
       "      <td>This is a terrific game on any pad. Hrs of fun...</td>\n",
       "      <td>1</td>\n",
       "    </tr>\n",
       "    <tr>\n",
       "      <th>...</th>\n",
       "      <td>...</td>\n",
       "      <td>...</td>\n",
       "    </tr>\n",
       "    <tr>\n",
       "      <th>19995</th>\n",
       "      <td>this app is fricken stupid.it froze on the kin...</td>\n",
       "      <td>0</td>\n",
       "    </tr>\n",
       "    <tr>\n",
       "      <th>19996</th>\n",
       "      <td>Please add me!!!!! I need neighbors! Ginger101...</td>\n",
       "      <td>1</td>\n",
       "    </tr>\n",
       "    <tr>\n",
       "      <th>19997</th>\n",
       "      <td>love it!  this game. is awesome. wish it had m...</td>\n",
       "      <td>1</td>\n",
       "    </tr>\n",
       "    <tr>\n",
       "      <th>19998</th>\n",
       "      <td>I love love love this app on my side of fashio...</td>\n",
       "      <td>1</td>\n",
       "    </tr>\n",
       "    <tr>\n",
       "      <th>19999</th>\n",
       "      <td>This game is a rip off. Here is a list of thin...</td>\n",
       "      <td>0</td>\n",
       "    </tr>\n",
       "  </tbody>\n",
       "</table>\n",
       "<p>20000 rows × 2 columns</p>\n",
       "</div>"
      ],
      "text/plain": [
       "                                              reviewText  Positive\n",
       "0      This is a one of the best apps acording to a b...         1\n",
       "1      This is a pretty good version of the game for ...         1\n",
       "2      this is a really cool game. there are a bunch ...         1\n",
       "3      This is a silly game and can be frustrating, b...         1\n",
       "4      This is a terrific game on any pad. Hrs of fun...         1\n",
       "...                                                  ...       ...\n",
       "19995  this app is fricken stupid.it froze on the kin...         0\n",
       "19996  Please add me!!!!! I need neighbors! Ginger101...         1\n",
       "19997  love it!  this game. is awesome. wish it had m...         1\n",
       "19998  I love love love this app on my side of fashio...         1\n",
       "19999  This game is a rip off. Here is a list of thin...         0\n",
       "\n",
       "[20000 rows x 2 columns]"
      ]
     },
     "execution_count": 4,
     "metadata": {},
     "output_type": "execute_result"
    }
   ],
   "source": [
    "df = pd.read_csv('https://raw.githubusercontent.com/pycaret/pycaret/master/datasets/amazon.csv')\n",
    "\n",
    "df"
   ]
  },
  {
   "cell_type": "code",
   "execution_count": 5,
   "id": "5928b273",
   "metadata": {},
   "outputs": [],
   "source": [
    "#create preprocessed text function\n",
    "\n",
    "def preprocessed_text(text):\n",
    "    \n",
    "    #tokenized the text\n",
    "    tokens = word_tokenize(text.lower())\n",
    "    \n",
    "    #remove stop words\n",
    "    filtered_tokens = [token for token in tokens if token not in stopwords.words('english')]\n",
    "    \n",
    "    #lemmatize the tokens \n",
    "    lemmatizer = WordNetLemmatizer()\n",
    "    lemmatized_tokens = [lemmatizer.lemmatize(token) for token in filtered_tokens]\n",
    "    \n",
    "    #join the tokens back to the string\n",
    "    processed_text = ' '.join(lemmatized_tokens)\n",
    "    \n",
    "    return processed_text"
   ]
  },
  {
   "cell_type": "code",
   "execution_count": 6,
   "id": "c49b52f1",
   "metadata": {},
   "outputs": [],
   "source": [
    "#appply the function\n",
    "df['processedText'] = df['reviewText'].apply(preprocessed_text)"
   ]
  },
  {
   "cell_type": "code",
   "execution_count": 7,
   "id": "279ebb65",
   "metadata": {},
   "outputs": [
    {
     "data": {
      "text/html": [
       "<div>\n",
       "<style scoped>\n",
       "    .dataframe tbody tr th:only-of-type {\n",
       "        vertical-align: middle;\n",
       "    }\n",
       "\n",
       "    .dataframe tbody tr th {\n",
       "        vertical-align: top;\n",
       "    }\n",
       "\n",
       "    .dataframe thead th {\n",
       "        text-align: right;\n",
       "    }\n",
       "</style>\n",
       "<table border=\"1\" class=\"dataframe\">\n",
       "  <thead>\n",
       "    <tr style=\"text-align: right;\">\n",
       "      <th></th>\n",
       "      <th>reviewText</th>\n",
       "      <th>Positive</th>\n",
       "      <th>processedText</th>\n",
       "    </tr>\n",
       "  </thead>\n",
       "  <tbody>\n",
       "    <tr>\n",
       "      <th>0</th>\n",
       "      <td>This is a one of the best apps acording to a b...</td>\n",
       "      <td>1</td>\n",
       "      <td>one best apps acording bunch people agree bomb...</td>\n",
       "    </tr>\n",
       "    <tr>\n",
       "      <th>1</th>\n",
       "      <td>This is a pretty good version of the game for ...</td>\n",
       "      <td>1</td>\n",
       "      <td>pretty good version game free . lot different ...</td>\n",
       "    </tr>\n",
       "    <tr>\n",
       "      <th>2</th>\n",
       "      <td>this is a really cool game. there are a bunch ...</td>\n",
       "      <td>1</td>\n",
       "      <td>really cool game . bunch level find golden egg...</td>\n",
       "    </tr>\n",
       "    <tr>\n",
       "      <th>3</th>\n",
       "      <td>This is a silly game and can be frustrating, b...</td>\n",
       "      <td>1</td>\n",
       "      <td>silly game frustrating , lot fun definitely re...</td>\n",
       "    </tr>\n",
       "    <tr>\n",
       "      <th>4</th>\n",
       "      <td>This is a terrific game on any pad. Hrs of fun...</td>\n",
       "      <td>1</td>\n",
       "      <td>terrific game pad . hr fun . grandkids love . ...</td>\n",
       "    </tr>\n",
       "    <tr>\n",
       "      <th>...</th>\n",
       "      <td>...</td>\n",
       "      <td>...</td>\n",
       "      <td>...</td>\n",
       "    </tr>\n",
       "    <tr>\n",
       "      <th>19995</th>\n",
       "      <td>this app is fricken stupid.it froze on the kin...</td>\n",
       "      <td>0</td>\n",
       "      <td>app fricken stupid.it froze kindle wont allow ...</td>\n",
       "    </tr>\n",
       "    <tr>\n",
       "      <th>19996</th>\n",
       "      <td>Please add me!!!!! I need neighbors! Ginger101...</td>\n",
       "      <td>1</td>\n",
       "      <td>please add ! ! ! ! ! need neighbor ! ginger101...</td>\n",
       "    </tr>\n",
       "    <tr>\n",
       "      <th>19997</th>\n",
       "      <td>love it!  this game. is awesome. wish it had m...</td>\n",
       "      <td>1</td>\n",
       "      <td>love ! game . awesome . wish free stuff house ...</td>\n",
       "    </tr>\n",
       "    <tr>\n",
       "      <th>19998</th>\n",
       "      <td>I love love love this app on my side of fashio...</td>\n",
       "      <td>1</td>\n",
       "      <td>love love love app side fashion story fight wo...</td>\n",
       "    </tr>\n",
       "    <tr>\n",
       "      <th>19999</th>\n",
       "      <td>This game is a rip off. Here is a list of thin...</td>\n",
       "      <td>0</td>\n",
       "      <td>game rip . list thing make better &amp; bull ; fir...</td>\n",
       "    </tr>\n",
       "  </tbody>\n",
       "</table>\n",
       "<p>20000 rows × 3 columns</p>\n",
       "</div>"
      ],
      "text/plain": [
       "                                              reviewText  Positive   \n",
       "0      This is a one of the best apps acording to a b...         1  \\\n",
       "1      This is a pretty good version of the game for ...         1   \n",
       "2      this is a really cool game. there are a bunch ...         1   \n",
       "3      This is a silly game and can be frustrating, b...         1   \n",
       "4      This is a terrific game on any pad. Hrs of fun...         1   \n",
       "...                                                  ...       ...   \n",
       "19995  this app is fricken stupid.it froze on the kin...         0   \n",
       "19996  Please add me!!!!! I need neighbors! Ginger101...         1   \n",
       "19997  love it!  this game. is awesome. wish it had m...         1   \n",
       "19998  I love love love this app on my side of fashio...         1   \n",
       "19999  This game is a rip off. Here is a list of thin...         0   \n",
       "\n",
       "                                           processedText  \n",
       "0      one best apps acording bunch people agree bomb...  \n",
       "1      pretty good version game free . lot different ...  \n",
       "2      really cool game . bunch level find golden egg...  \n",
       "3      silly game frustrating , lot fun definitely re...  \n",
       "4      terrific game pad . hr fun . grandkids love . ...  \n",
       "...                                                  ...  \n",
       "19995  app fricken stupid.it froze kindle wont allow ...  \n",
       "19996  please add ! ! ! ! ! need neighbor ! ginger101...  \n",
       "19997  love ! game . awesome . wish free stuff house ...  \n",
       "19998  love love love app side fashion story fight wo...  \n",
       "19999  game rip . list thing make better & bull ; fir...  \n",
       "\n",
       "[20000 rows x 3 columns]"
      ]
     },
     "execution_count": 7,
     "metadata": {},
     "output_type": "execute_result"
    }
   ],
   "source": [
    "df"
   ]
  },
  {
   "cell_type": "code",
   "execution_count": 8,
   "id": "5a6b5b8b",
   "metadata": {},
   "outputs": [],
   "source": [
    "#initialize NLTK sentiment analizer\n",
    "\n",
    "analyzer = SentimentIntensityAnalyzer()\n",
    "\n",
    "#create fun get_sentiment\n",
    "def get_sentiment(text):\n",
    "    scores = analyzer.polarity_scores(text)\n",
    "    \n",
    "    sentiment = 1 if scores['pos'] > 0 else 0\n",
    "    \n",
    "    return sentiment"
   ]
  },
  {
   "cell_type": "code",
   "execution_count": 9,
   "id": "6e0d6137",
   "metadata": {},
   "outputs": [],
   "source": [
    "#apply get_setiment fun\n",
    "df['sentimentScore'] = df['processedText'].apply(get_sentiment)"
   ]
  },
  {
   "cell_type": "code",
   "execution_count": 10,
   "id": "ba9e94eb",
   "metadata": {},
   "outputs": [
    {
     "data": {
      "text/html": [
       "<div>\n",
       "<style scoped>\n",
       "    .dataframe tbody tr th:only-of-type {\n",
       "        vertical-align: middle;\n",
       "    }\n",
       "\n",
       "    .dataframe tbody tr th {\n",
       "        vertical-align: top;\n",
       "    }\n",
       "\n",
       "    .dataframe thead th {\n",
       "        text-align: right;\n",
       "    }\n",
       "</style>\n",
       "<table border=\"1\" class=\"dataframe\">\n",
       "  <thead>\n",
       "    <tr style=\"text-align: right;\">\n",
       "      <th></th>\n",
       "      <th>reviewText</th>\n",
       "      <th>Positive</th>\n",
       "      <th>processedText</th>\n",
       "      <th>sentimentScore</th>\n",
       "    </tr>\n",
       "  </thead>\n",
       "  <tbody>\n",
       "    <tr>\n",
       "      <th>0</th>\n",
       "      <td>This is a one of the best apps acording to a b...</td>\n",
       "      <td>1</td>\n",
       "      <td>one best apps acording bunch people agree bomb...</td>\n",
       "      <td>1</td>\n",
       "    </tr>\n",
       "    <tr>\n",
       "      <th>1</th>\n",
       "      <td>This is a pretty good version of the game for ...</td>\n",
       "      <td>1</td>\n",
       "      <td>pretty good version game free . lot different ...</td>\n",
       "      <td>1</td>\n",
       "    </tr>\n",
       "    <tr>\n",
       "      <th>2</th>\n",
       "      <td>this is a really cool game. there are a bunch ...</td>\n",
       "      <td>1</td>\n",
       "      <td>really cool game . bunch level find golden egg...</td>\n",
       "      <td>1</td>\n",
       "    </tr>\n",
       "    <tr>\n",
       "      <th>3</th>\n",
       "      <td>This is a silly game and can be frustrating, b...</td>\n",
       "      <td>1</td>\n",
       "      <td>silly game frustrating , lot fun definitely re...</td>\n",
       "      <td>1</td>\n",
       "    </tr>\n",
       "    <tr>\n",
       "      <th>4</th>\n",
       "      <td>This is a terrific game on any pad. Hrs of fun...</td>\n",
       "      <td>1</td>\n",
       "      <td>terrific game pad . hr fun . grandkids love . ...</td>\n",
       "      <td>1</td>\n",
       "    </tr>\n",
       "    <tr>\n",
       "      <th>...</th>\n",
       "      <td>...</td>\n",
       "      <td>...</td>\n",
       "      <td>...</td>\n",
       "      <td>...</td>\n",
       "    </tr>\n",
       "    <tr>\n",
       "      <th>19995</th>\n",
       "      <td>this app is fricken stupid.it froze on the kin...</td>\n",
       "      <td>0</td>\n",
       "      <td>app fricken stupid.it froze kindle wont allow ...</td>\n",
       "      <td>0</td>\n",
       "    </tr>\n",
       "    <tr>\n",
       "      <th>19996</th>\n",
       "      <td>Please add me!!!!! I need neighbors! Ginger101...</td>\n",
       "      <td>1</td>\n",
       "      <td>please add ! ! ! ! ! need neighbor ! ginger101...</td>\n",
       "      <td>1</td>\n",
       "    </tr>\n",
       "    <tr>\n",
       "      <th>19997</th>\n",
       "      <td>love it!  this game. is awesome. wish it had m...</td>\n",
       "      <td>1</td>\n",
       "      <td>love ! game . awesome . wish free stuff house ...</td>\n",
       "      <td>1</td>\n",
       "    </tr>\n",
       "    <tr>\n",
       "      <th>19998</th>\n",
       "      <td>I love love love this app on my side of fashio...</td>\n",
       "      <td>1</td>\n",
       "      <td>love love love app side fashion story fight wo...</td>\n",
       "      <td>1</td>\n",
       "    </tr>\n",
       "    <tr>\n",
       "      <th>19999</th>\n",
       "      <td>This game is a rip off. Here is a list of thin...</td>\n",
       "      <td>0</td>\n",
       "      <td>game rip . list thing make better &amp; bull ; fir...</td>\n",
       "      <td>1</td>\n",
       "    </tr>\n",
       "  </tbody>\n",
       "</table>\n",
       "<p>20000 rows × 4 columns</p>\n",
       "</div>"
      ],
      "text/plain": [
       "                                              reviewText  Positive   \n",
       "0      This is a one of the best apps acording to a b...         1  \\\n",
       "1      This is a pretty good version of the game for ...         1   \n",
       "2      this is a really cool game. there are a bunch ...         1   \n",
       "3      This is a silly game and can be frustrating, b...         1   \n",
       "4      This is a terrific game on any pad. Hrs of fun...         1   \n",
       "...                                                  ...       ...   \n",
       "19995  this app is fricken stupid.it froze on the kin...         0   \n",
       "19996  Please add me!!!!! I need neighbors! Ginger101...         1   \n",
       "19997  love it!  this game. is awesome. wish it had m...         1   \n",
       "19998  I love love love this app on my side of fashio...         1   \n",
       "19999  This game is a rip off. Here is a list of thin...         0   \n",
       "\n",
       "                                           processedText  sentimentScore  \n",
       "0      one best apps acording bunch people agree bomb...               1  \n",
       "1      pretty good version game free . lot different ...               1  \n",
       "2      really cool game . bunch level find golden egg...               1  \n",
       "3      silly game frustrating , lot fun definitely re...               1  \n",
       "4      terrific game pad . hr fun . grandkids love . ...               1  \n",
       "...                                                  ...             ...  \n",
       "19995  app fricken stupid.it froze kindle wont allow ...               0  \n",
       "19996  please add ! ! ! ! ! need neighbor ! ginger101...               1  \n",
       "19997  love ! game . awesome . wish free stuff house ...               1  \n",
       "19998  love love love app side fashion story fight wo...               1  \n",
       "19999  game rip . list thing make better & bull ; fir...               1  \n",
       "\n",
       "[20000 rows x 4 columns]"
      ]
     },
     "execution_count": 10,
     "metadata": {},
     "output_type": "execute_result"
    }
   ],
   "source": [
    "df"
   ]
  },
  {
   "cell_type": "code",
   "execution_count": 11,
   "id": "9bf11637",
   "metadata": {},
   "outputs": [
    {
     "name": "stdout",
     "output_type": "stream",
     "text": [
      "[[ 1131  3636]\n",
      " [  576 14657]]\n"
     ]
    }
   ],
   "source": [
    "from sklearn.metrics import confusion_matrix\n",
    "\n",
    "print(confusion_matrix(df['Positive'], df['sentimentScore']))"
   ]
  },
  {
   "cell_type": "code",
   "execution_count": 12,
   "id": "b02c183f",
   "metadata": {},
   "outputs": [
    {
     "name": "stdout",
     "output_type": "stream",
     "text": [
      "              precision    recall  f1-score   support\n",
      "\n",
      "           0       0.66      0.24      0.35      4767\n",
      "           1       0.80      0.96      0.87     15233\n",
      "\n",
      "    accuracy                           0.79     20000\n",
      "   macro avg       0.73      0.60      0.61     20000\n",
      "weighted avg       0.77      0.79      0.75     20000\n",
      "\n"
     ]
    }
   ],
   "source": [
    "from sklearn.metrics import classification_report\n",
    "\n",
    "print(classification_report(df['Positive'], df['sentimentScore']))"
   ]
  },
  {
   "cell_type": "code",
   "execution_count": 13,
   "id": "8e2d4297",
   "metadata": {},
   "outputs": [],
   "source": [
    "#stemming\n",
    "from nltk.stem import PorterStemmer\n",
    "\n",
    "#initialize python porter stemmer\n",
    "ps = PorterStemmer()"
   ]
  },
  {
   "cell_type": "code",
   "execution_count": 14,
   "id": "443d5e7b",
   "metadata": {},
   "outputs": [
    {
     "name": "stdout",
     "output_type": "stream",
     "text": [
      "--Word--            --Stem--            \n",
      "program             program             \n",
      "programming         program             \n",
      "programer           program             \n",
      "programs            program             \n",
      "programmed          program             \n"
     ]
    }
   ],
   "source": [
    "#example inflection to reduce\n",
    "\n",
    "example_use = [\"program\",\"programming\",\"programer\",\"programs\",\"programmed\"]\n",
    "\n",
    "#perform stemming\n",
    "print(\"{0:20}{1:20}\".format(\"--Word--\",\"--Stem--\"))\n",
    "\n",
    "for word in example_use:\n",
    "    print(\"{0:20}{1:20}\".format(word, ps.stem(word)))"
   ]
  },
  {
   "cell_type": "code",
   "execution_count": 15,
   "id": "847bbf17",
   "metadata": {},
   "outputs": [],
   "source": [
    "import string\n",
    "from nltk.tokenize import word_tokenize"
   ]
  },
  {
   "cell_type": "code",
   "execution_count": 16,
   "id": "f5d4839c",
   "metadata": {},
   "outputs": [],
   "source": [
    "example_sentence = \"Python programmers often tend like programming in python because it's like english. We call people who program in python pythonistas.\""
   ]
  },
  {
   "cell_type": "code",
   "execution_count": 17,
   "id": "f95cfc64",
   "metadata": {},
   "outputs": [],
   "source": [
    "#remove punctuaction\n",
    "example_sentence_no_punc = example_sentence.translate(str.maketrans(\"\", \"\", string.punctuation))"
   ]
  },
  {
   "cell_type": "code",
   "execution_count": 18,
   "id": "abaae549",
   "metadata": {},
   "outputs": [],
   "source": [
    "#create tokens\n",
    "word_tokens = word_tokenize(example_sentence_no_punc)"
   ]
  },
  {
   "cell_type": "code",
   "execution_count": 19,
   "id": "b89b942f",
   "metadata": {},
   "outputs": [
    {
     "name": "stdout",
     "output_type": "stream",
     "text": [
      "--Word--            --Stem--            \n",
      "Python              python              \n",
      "programmers         programm            \n",
      "often               often               \n",
      "tend                tend                \n",
      "like                like                \n",
      "programming         program             \n",
      "in                  in                  \n",
      "python              python              \n",
      "because             becaus              \n",
      "its                 it                  \n",
      "like                like                \n",
      "english             english             \n",
      "We                  we                  \n",
      "call                call                \n",
      "people              peopl               \n",
      "who                 who                 \n",
      "program             program             \n",
      "in                  in                  \n",
      "python              python              \n",
      "pythonistas         pythonista          \n"
     ]
    }
   ],
   "source": [
    "#perform stemming\n",
    "print(\"{0:20}{1:20}\".format(\"--Word--\", \"--Stem--\"))\n",
    "for word in word_tokens:\n",
    "    print(\"{0:20}{1:20}\".format(word, ps.stem(word)))"
   ]
  },
  {
   "cell_type": "code",
   "execution_count": 20,
   "id": "bae65c2d",
   "metadata": {},
   "outputs": [],
   "source": [
    "from nltk.stem import WordNetLemmatizer"
   ]
  },
  {
   "cell_type": "code",
   "execution_count": 21,
   "id": "372dbf05",
   "metadata": {},
   "outputs": [
    {
     "name": "stderr",
     "output_type": "stream",
     "text": [
      "[nltk_data] Downloading package wordnet to\n",
      "[nltk_data]     /Users/aleksandrarozwadowska/nltk_data...\n",
      "[nltk_data]   Package wordnet is already up-to-date!\n",
      "[nltk_data] Downloading package omw-1.4 to\n",
      "[nltk_data]     /Users/aleksandrarozwadowska/nltk_data...\n",
      "[nltk_data]   Package omw-1.4 is already up-to-date!\n"
     ]
    },
    {
     "data": {
      "text/plain": [
       "True"
      ]
     },
     "execution_count": 21,
     "metadata": {},
     "output_type": "execute_result"
    }
   ],
   "source": [
    "nltk.download('wordnet')\n",
    "nltk.download(\"omw-1.4\")"
   ]
  },
  {
   "cell_type": "code",
   "execution_count": 22,
   "id": "38c042be",
   "metadata": {},
   "outputs": [],
   "source": [
    "# Initialize wordnet lemmatizer\n",
    "wnl = WordNetLemmatizer()\n",
    "\n",
    "example_words = [\"program\",\"programming\",\"programer\",\"programs\",\"programmed\"]"
   ]
  },
  {
   "cell_type": "code",
   "execution_count": 23,
   "id": "bb2405db",
   "metadata": {},
   "outputs": [
    {
     "name": "stdout",
     "output_type": "stream",
     "text": [
      "--Word--            --Lemma--           \n",
      "program             program             \n",
      "programming         program             \n",
      "programer           programer           \n",
      "programs            program             \n",
      "programmed          program             \n"
     ]
    }
   ],
   "source": [
    "#perform lemmatizer\n",
    "\n",
    "print(\"{0:20}{1:20}\".format(\"--Word--\", \"--Lemma--\"))\n",
    "for word in example_words:\n",
    "    print(\"{0:20}{1:20}\".format(word, wnl.lemmatize(word, pos = \"v\")))"
   ]
  },
  {
   "cell_type": "code",
   "execution_count": null,
   "id": "59b0aefc",
   "metadata": {},
   "outputs": [],
   "source": []
  },
  {
   "cell_type": "code",
   "execution_count": 24,
   "id": "95a37449",
   "metadata": {},
   "outputs": [],
   "source": [
    "example_sentence = \"Python programmers often tend like programming in python because it's like english. We call people who program in python pythonistas.\""
   ]
  },
  {
   "cell_type": "code",
   "execution_count": 25,
   "id": "a8a29d15",
   "metadata": {},
   "outputs": [],
   "source": [
    "#remove punctuation\n",
    "example_sentence_no_pun = example_sentence.translate(str.maketrans(\"\", \"\", string.punctuation))"
   ]
  },
  {
   "cell_type": "code",
   "execution_count": 26,
   "id": "e1f2ad76",
   "metadata": {},
   "outputs": [],
   "source": [
    "word_tokens = word_tokenize(example_sentence_no_pun)"
   ]
  },
  {
   "cell_type": "code",
   "execution_count": 27,
   "id": "6ff78b50",
   "metadata": {},
   "outputs": [
    {
     "name": "stdout",
     "output_type": "stream",
     "text": [
      "--Word--            --Lemma--           \n",
      "Python              Python              \n",
      "programmers         programmers         \n",
      "often               often               \n",
      "tend                tend                \n",
      "like                like                \n",
      "programming         program             \n",
      "in                  in                  \n",
      "python              python              \n",
      "because             because             \n",
      "its                 its                 \n",
      "like                like                \n",
      "english             english             \n",
      "We                  We                  \n",
      "call                call                \n",
      "people              people              \n",
      "who                 who                 \n",
      "program             program             \n",
      "in                  in                  \n",
      "python              python              \n",
      "pythonistas         pythonistas         \n"
     ]
    }
   ],
   "source": [
    "#perform lemmatization\n",
    "\n",
    "print(\"{0:20}{1:20}\".format(\"--Word--\", \"--Lemma--\"))\n",
    "\n",
    "for word in word_tokens:\n",
    "    print(\"{0:20}{1:20}\".format(word, wnl.lemmatize(word, pos=\"v\")))"
   ]
  },
  {
   "cell_type": "code",
   "execution_count": 28,
   "id": "a8ac000b",
   "metadata": {},
   "outputs": [
    {
     "name": "stdout",
     "output_type": "stream",
     "text": [
      "[\"Let's write RegEx\", \"  Won't that be fun\", '  I sure think so.  Can you find 4 sentences', '  Or perhaps, all 19 words', '']\n",
      "[\"Let's\", 'write', 'RegEx', '', '', \"Won't\", 'that', 'be', 'fun', '', '', 'I', 'sure', 'think', 'so.', '', 'Can', 'you', 'find', '4', 'sentences', '', '', 'Or', 'perhaps,', 'all', '19', 'words', '']\n"
     ]
    }
   ],
   "source": [
    "#Practising regular expression: re.split() and re.findall()\n",
    "import re\n",
    "\n",
    "my_string = \"Let's write RegEx!  Won't that be fun?  I sure think so.  Can you find 4 sentences?  Or perhaps, all 19 words?\"\n",
    "\n",
    "#write the pattern to match sentences endings: sentence_ending\n",
    "sentence_endings = r\"[?!]\"\n",
    "\n",
    "#split my_string on sentence endings and print the result\n",
    "print(re.split(sentence_endings, my_string))\n",
    "\n",
    "sentence_endings = r\"[?! ]\"\n",
    "print(re.split(sentence_endings, my_string))"
   ]
  },
  {
   "cell_type": "code",
   "execution_count": 29,
   "id": "e1f68e67",
   "metadata": {},
   "outputs": [
    {
     "name": "stdout",
     "output_type": "stream",
     "text": [
      "['Let', 'RegEx', 'Won', 'Can', 'Or']\n"
     ]
    }
   ],
   "source": [
    "#find all capitalized words in my_string and print the result\n",
    "capitalized_words = r\"[A-Z]\\w+\"\n",
    "print(re.findall(capitalized_words, my_string))"
   ]
  },
  {
   "cell_type": "code",
   "execution_count": 30,
   "id": "8a6acb8f",
   "metadata": {},
   "outputs": [
    {
     "name": "stdout",
     "output_type": "stream",
     "text": [
      "[\"Let's\", 'write', 'RegEx!', '', \"Won't\", 'that', 'be', 'fun?', '', 'I', 'sure', 'think', 'so.', '', 'Can', 'you', 'find', '4', 'sentences?', '', 'Or', 'perhaps,', 'all', '19', 'words?']\n",
      "[\"Let's\", 'write', 'RegEx!', \"Won't\", 'that', 'be', 'fun?', 'I', 'sure', 'think', 'so.', 'Can', 'you', 'find', '4', 'sentences?', 'Or', 'perhaps,', 'all', '19', 'words?']\n",
      "[\"Let's\", 'write', 'RegEx!', '', \"Won't\", 'that', 'be', 'fun?', '', 'I', 'sure', 'think', 'so.', '', 'Can', 'you', 'find', '4', 'sentences?', '', 'Or', 'perhaps,', 'all', '19', 'words?']\n"
     ]
    }
   ],
   "source": [
    "#split my_string on space and print the result\n",
    "\n",
    "space = r\" \"\n",
    "print(re.split(space, my_string))\n",
    "\n",
    "space = r\"\\s+\"\n",
    "print(re.split(space, my_string))\n",
    "\n",
    "space = r\"\\s\"\n",
    "print(re.split(space, my_string))"
   ]
  },
  {
   "cell_type": "code",
   "execution_count": 31,
   "id": "a29fb139",
   "metadata": {},
   "outputs": [
    {
     "name": "stdout",
     "output_type": "stream",
     "text": [
      "['4', '19']\n"
     ]
    }
   ],
   "source": [
    "#find all digits in my_string and print the result\n",
    "\n",
    "digits = r\"\\d+\"\n",
    "print(re.findall(digits, my_string))"
   ]
  },
  {
   "cell_type": "code",
   "execution_count": 32,
   "id": "bb68c04a",
   "metadata": {},
   "outputs": [
    {
     "data": {
      "text/plain": [
       "['Let', 's', 'write', 'RegEx']"
      ]
     },
     "execution_count": 32,
     "metadata": {},
     "output_type": "execute_result"
    }
   ],
   "source": [
    "my_string = \"Let's write RegEx!\"\n",
    "PATTERN = r\"\\w+\"\n",
    "re.findall(PATTERN, my_string)\n",
    "['Let', 's', 'write', 'RegEx']"
   ]
  },
  {
   "cell_type": "code",
   "execution_count": 33,
   "id": "a6ba33b9",
   "metadata": {},
   "outputs": [
    {
     "data": {
      "text/plain": [
       "['Let', 's', 'write', 'RegEx']"
      ]
     },
     "execution_count": 33,
     "metadata": {},
     "output_type": "execute_result"
    }
   ],
   "source": [
    "PATTERN = r\"\\s+\"\n",
    "re.findall(PATTERN, my_string)\n",
    "['Let', 's', 'write', 'RegEx']"
   ]
  },
  {
   "cell_type": "code",
   "execution_count": 34,
   "id": "3f0a60f1",
   "metadata": {},
   "outputs": [],
   "source": [
    "scene_one1 = \"\"\"SCENE 1: [wind] [clop clop clop] \n",
    "KING ARTHUR: Whoa there!  [clop clop clop] \n",
    "SOLDIER #1: Halt!  Who goes there?\n",
    "ARTHUR: It is I, Arthur, son of Uther Pendragon, from the castle of Camelot.  King of the Britons, defeator of the Saxons, sovereign of all England!\n",
    "SOLDIER #1: Pull the other one!\n",
    "ARTHUR: I am, ...  and this is my trusty servant Patsy.  We have ridden the length and breadth of the land in search of knights who will join me in my court at Camelot.  I must speak with your lord and master.\n",
    "SOLDIER #1: What?  Ridden on a horse?\n",
    "ARTHUR: Yes!\n",
    "SOLDIER #1: You're using coconuts!\n",
    "ARTHUR: What?\n",
    "SOLDIER #1: You've got two empty halves of coconut and you're bangin' 'em together.\n",
    "ARTHUR: So?  We have ridden since the snows of winter covered this land, through the kingdom of Mercea, through--\n",
    "SOLDIER #1: Where'd you get the coconuts?\n",
    "ARTHUR: We found them.\n",
    "SOLDIER #1: Found them?  In Mercea?  The coconut's tropical!\n",
    "ARTHUR: What do you mean?\n",
    "SOLDIER #1: Well, this is a temperate zone.\n",
    "ARTHUR: The swallow may fly south with the sun or the house martin or the plover may seek warmer climes in winter, yet these are not strangers to our land?\n",
    "SOLDIER #1: Are you suggesting coconuts migrate?\n",
    "ARTHUR: Not at all.  They could be carried.\n",
    "SOLDIER #1: What?  A swallow carrying a coconut?\n",
    "ARTHUR: It could grip it by the husk!\n",
    "SOLDIER #1: It's not a question of where he grips it!  It's a simple question of weight ratios!  A five ounce bird could not carry a one pound coconut.\n",
    "ARTHUR: Well, it doesn't matter.  Will you go and tell your master that Arthur from the Court of Camelot is here.\n",
    "SOLDIER #1: Listen.  In order to maintain air-speed velocity, a swallow needs to beat its wings forty-three times every second, right?\n",
    "ARTHUR: Please!\n",
    "SOLDIER #1: Am I right?\n",
    "ARTHUR: I'm not interested!\n",
    "SOLDIER #2: It could be carried by an African swallow!\n",
    "SOLDIER #1: Oh, yeah, an African swallow maybe, but not a European swallow.  That's my point.\n",
    "SOLDIER #2: Oh, yeah, I agree with that.\n",
    "ARTHUR: Will you ask your master if he wants to join my court at Camelot?!\n",
    "SOLDIER #1: But then of course a-- African swallows are non-migratory.\n",
    "SOLDIER #2: Oh, yeah...\n",
    "SOLDIER #1: So they couldn't bring a coconut back anyway...  [clop clop clop] \n",
    "SOLDIER #2: Wait a minute!  Supposing two swallows carried it together?\n",
    "SOLDIER #1: No, they'd have to have it on a line.\n",
    "SOLDIER #2: Well, simple!  They'd just use a strand of creeper!\n",
    "SOLDIER #1: What, held under the dorsal guiding feathers?\n",
    "SOLDIER #2: Well, why not?\"\"\""
   ]
  },
  {
   "cell_type": "code",
   "execution_count": 35,
   "id": "b2928a2b",
   "metadata": {},
   "outputs": [
    {
     "name": "stdout",
     "output_type": "stream",
     "text": [
      "['SCENE 1: [wind] [clop clop clop] \\nKING ARTHUR: Whoa there!', '[clop clop clop] \\nSOLDIER #1: Halt!', 'Who goes there?', 'ARTHUR: It is I, Arthur, son of Uther Pendragon, from the castle of Camelot.', 'King of the Britons, defeator of the Saxons, sovereign of all England!', 'SOLDIER #1: Pull the other one!', 'ARTHUR: I am, ...  and this is my trusty servant Patsy.', 'We have ridden the length and breadth of the land in search of knights who will join me in my court at Camelot.', 'I must speak with your lord and master.', 'SOLDIER #1: What?', 'Ridden on a horse?', 'ARTHUR: Yes!', \"SOLDIER #1: You're using coconuts!\", 'ARTHUR: What?', \"SOLDIER #1: You've got two empty halves of coconut and you're bangin' 'em together.\", 'ARTHUR: So?', \"We have ridden since the snows of winter covered this land, through the kingdom of Mercea, through--\\nSOLDIER #1: Where'd you get the coconuts?\", 'ARTHUR: We found them.', 'SOLDIER #1: Found them?', 'In Mercea?', \"The coconut's tropical!\", 'ARTHUR: What do you mean?', 'SOLDIER #1: Well, this is a temperate zone.', 'ARTHUR: The swallow may fly south with the sun or the house martin or the plover may seek warmer climes in winter, yet these are not strangers to our land?', 'SOLDIER #1: Are you suggesting coconuts migrate?', 'ARTHUR: Not at all.', 'They could be carried.', 'SOLDIER #1: What?', 'A swallow carrying a coconut?', 'ARTHUR: It could grip it by the husk!', \"SOLDIER #1: It's not a question of where he grips it!\", \"It's a simple question of weight ratios!\", 'A five ounce bird could not carry a one pound coconut.', \"ARTHUR: Well, it doesn't matter.\", 'Will you go and tell your master that Arthur from the Court of Camelot is here.', 'SOLDIER #1: Listen.', 'In order to maintain air-speed velocity, a swallow needs to beat its wings forty-three times every second, right?', 'ARTHUR: Please!', 'SOLDIER #1: Am I right?', \"ARTHUR: I'm not interested!\", 'SOLDIER #2: It could be carried by an African swallow!', 'SOLDIER #1: Oh, yeah, an African swallow maybe, but not a European swallow.', \"That's my point.\", 'SOLDIER #2: Oh, yeah, I agree with that.', 'ARTHUR: Will you ask your master if he wants to join my court at Camelot?!', 'SOLDIER #1: But then of course a-- African swallows are non-migratory.', 'SOLDIER #2: Oh, yeah...', \"SOLDIER #1: So they couldn't bring a coconut back anyway...  [clop clop clop] \\nSOLDIER #2: Wait a minute!\", 'Supposing two swallows carried it together?', \"SOLDIER #1: No, they'd have to have it on a line.\", 'SOLDIER #2: Well, simple!', \"They'd just use a strand of creeper!\", 'SOLDIER #1: What, held under the dorsal guiding feathers?', 'SOLDIER #2: Well, why not?']\n"
     ]
    }
   ],
   "source": [
    "#word tokenization with NLTK\n",
    "\n",
    "# Import necessary modules\n",
    "from nltk.tokenize import word_tokenize\n",
    "from nltk.tokenize import sent_tokenize\n",
    "\n",
    "# Split scene_one into sentences: sentences\n",
    "sentences = sent_tokenize(scene_one1)\n",
    "print(sentences)"
   ]
  },
  {
   "cell_type": "code",
   "execution_count": 36,
   "id": "c6dea670",
   "metadata": {},
   "outputs": [
    {
     "name": "stdout",
     "output_type": "stream",
     "text": [
      "['King', 'of', 'the', 'Britons', ',', 'defeator', 'of', 'the', 'Saxons', ',', 'sovereign', 'of', 'all', 'England', '!']\n"
     ]
    }
   ],
   "source": [
    "# Use word_tokenize to tokenize the fourth sentence: tokenized_sent\n",
    "tokenized_sent = word_tokenize(sentences[4])\n",
    "print(tokenized_sent)"
   ]
  },
  {
   "cell_type": "code",
   "execution_count": 37,
   "id": "07b1ada4",
   "metadata": {},
   "outputs": [
    {
     "name": "stdout",
     "output_type": "stream",
     "text": [
      "{'seek', 'interested', ':', 'That', 'zone', 'guiding', 'SOLDIER', 'not', 'Not', \"n't\", 'could', 'other', 'winter', 'goes', 'one', 'grip', 'son', 'are', 'join', 'No', 'bird', 'these', 'strangers', '...', 'together', 'air-speed', 'that', '2', 'Please', 'So', 'them', 'What', 'in', 'Well', 'use', 'lord', 'anyway', 'get', 'where', 'am', 'weight', 'Listen', 'SCENE', \"'s\", 'will', 'there', '!', 'master', 'coconut', 'castle', 'me', 'Where', 'course', 'yeah', 'then', 'knights', '--', 'sovereign', 'of', 'temperate', 'climes', 'forty-three', 'it', 'may', 'to', 'clop', 'search', 'length', 'non-migratory', 'Saxons', 'ratios', 'why', 'England', 'Oh', 'from', 'do', 'Pendragon', 'Am', 'wants', 'Mercea', 'five', 'ask', 'or', 'Court', 'Pull', 'house', 'tropical', 'order', 'We', 'migrate', 'Uther', 'two', 'an', 'question', 'got', 'maybe', \"'em\", 'But', 'since', 'who', 'be', 'at', 'carry', 'Will', 'It', 'matter', 'I', 'swallow', 'you', 'covered', 'African', 'halves', 'every', 'fly', 'carried', 'They', 'A', 'and', \"'d\", 'agree', 'our', 'You', 'breadth', 'they', \"'m\", '[', 'he', 'your', 'minute', 'bangin', 'the', 'go', 'simple', 'grips', 'Arthur', 'servant', 'ridden', 'right', 'strand', 'line', 'dorsal', 'is', 'here', 'suggesting', ',', 'a', 'held', 'land', 'Whoa', 'Supposing', 'ounce', 'court', 'beat', 'sun', 'all', 'defeator', 'must', 'tell', 'Halt', 'my', 'Ridden', \"'\", 'ARTHUR', 'on', 'Wait', 'but', 'through', 'feathers', 'times', 'pound', 'warmer', 'King', 'KING', 'if', 'coconuts', 'this', 'have', 'using', 'speak', 'trusty', 'bring', 'just', 'with', 'Found', 'In', 'south', '?', 'Are', 'its', 'The', 'husk', 'Who', '.', '1', 'kingdom', 'Britons', 'Patsy', 'second', '#', 'horse', 'swallows', 'snows', 'martin', 'Yes', 'found', 'carrying', 'yet', 'creeper', 'plover', 'under', 'European', 'wings', ']', 'back', \"'ve\", 'does', 'Camelot', \"'re\", 'mean', 'maintain', 'velocity', 'needs', 'wind', 'point', 'by', 'empty'}\n"
     ]
    }
   ],
   "source": [
    "# Make a set of unique tokens in the entire sceimportne: unique_tokens\n",
    "unique_tokens = set(word_tokenize(scene_one1))\n",
    "\n",
    "# Print the unique tokens result\n",
    "print(unique_tokens)"
   ]
  },
  {
   "cell_type": "code",
   "execution_count": 38,
   "id": "509f6b49",
   "metadata": {},
   "outputs": [
    {
     "name": "stdout",
     "output_type": "stream",
     "text": [
      "<re.Match object; span=(580, 588), match='coconuts'>\n"
     ]
    }
   ],
   "source": [
    "#search for the first occurance of \"coconuts\" in the scene one\n",
    "match = re.search(\"coconuts\", scene_one1)\n",
    "print(match)"
   ]
  },
  {
   "cell_type": "code",
   "execution_count": 39,
   "id": "f29925c5",
   "metadata": {},
   "outputs": [
    {
     "name": "stdout",
     "output_type": "stream",
     "text": [
      "580 588\n"
     ]
    }
   ],
   "source": [
    "# Print the start and end indexes of match\n",
    "print(match.start(), match.end())"
   ]
  },
  {
   "cell_type": "code",
   "execution_count": 40,
   "id": "da001021",
   "metadata": {},
   "outputs": [
    {
     "name": "stdout",
     "output_type": "stream",
     "text": [
      "<re.Match object; span=(9, 15), match='[wind]'>\n"
     ]
    }
   ],
   "source": [
    "# Write a regular expression to search for anything in square brackets: pattern1\n",
    "pattern1 = r\"\\[([^\\]]+)\\]\"\n",
    "\n",
    "#use re.search to find the first text in square brackets\n",
    "print(re.search(pattern1, scene_one1))"
   ]
  },
  {
   "cell_type": "code",
   "execution_count": 41,
   "id": "f6f8fd82",
   "metadata": {},
   "outputs": [
    {
     "name": "stdout",
     "output_type": "stream",
     "text": [
      "vvv text\n",
      "xxx example\n"
     ]
    }
   ],
   "source": [
    "import re\n",
    "\n",
    "# Sample scene text\n",
    "scene_one = \"This is [vvv text] within square brackets. [xxx example] is here.\"\n",
    "\n",
    "# Define the pattern to find text within square brackets (without brackets)\n",
    "#pattern = r'\\[([^\\]]+)\\]'\n",
    "pattern = r'\\[(.*?)\\]'\n",
    "\n",
    "# Use re.findall() to find all matches of the pattern\n",
    "matches = re.findall(pattern, scene_one)\n",
    "\n",
    "if matches:\n",
    "    # Print all matched text without square brackets\n",
    "    for match in matches:\n",
    "        print(match)\n",
    "else:\n",
    "    print(\"No text within square brackets found in the scene.\")"
   ]
  },
  {
   "cell_type": "code",
   "execution_count": 42,
   "id": "2efdf2c1",
   "metadata": {},
   "outputs": [
    {
     "name": "stdout",
     "output_type": "stream",
     "text": [
      "sample text] within square brackets. [Another example\n"
     ]
    }
   ],
   "source": [
    "import re\n",
    "\n",
    "# Sample scene text\n",
    "scene_one = \"This is [sample text] within square brackets. [Another example] is here.\"\n",
    "\n",
    "# Define the pattern to find text within square brackets (including brackets)\n",
    "pattern1 = r\"\\[.*\\]\"\n",
    "\n",
    "# Use re.search() to find the first match of the pattern\n",
    "match = re.search(pattern1, scene_one)\n",
    "\n",
    "if match:\n",
    "    # Get the matched text\n",
    "    matched_text = match.group(0)\n",
    "\n",
    "    # Remove the square brackets from the matched text\n",
    "    text_within_brackets = matched_text[1:-1]\n",
    "\n",
    "    print(text_within_brackets)\n",
    "else:\n",
    "    print(\"No text within square brackets found in the scene.\")\n"
   ]
  },
  {
   "cell_type": "code",
   "execution_count": 43,
   "id": "eacc8c42",
   "metadata": {},
   "outputs": [
    {
     "name": "stdout",
     "output_type": "stream",
     "text": [
      "<re.Match object; span=(0, 7), match='ARTHUR:'>\n"
     ]
    }
   ],
   "source": [
    "# Find the script notation at the beginning of the fourth sentence and print it\n",
    "#pattern2 = r\"[Character]+:\" - wrong\n",
    "pattern2 = r'[\\w\\s]+:'\n",
    "\n",
    "print(re.match(pattern2, sentences[3]))"
   ]
  },
  {
   "cell_type": "code",
   "execution_count": 44,
   "id": "f613109b",
   "metadata": {},
   "outputs": [
    {
     "name": "stdout",
     "output_type": "stream",
     "text": [
      "['#NLP', '#learning']\n"
     ]
    }
   ],
   "source": [
    "#Regex with NLTK tokenization\n",
    "#Twitter is a frequently used source for NLP text and tasks. \n",
    "#In this exercise, you'll build a more complex tokenizer for tweets with hashtags and mentions using nltk and regex. \n",
    "#The nltk.tokenize.TweetTokenizer class gives you some extra methods and attributes for parsing tweets.\n",
    "\n",
    "#Here, you're given some example tweets to parse using both TweetTokenizer and regexp_tokenize from the nltk.tokenize module. \n",
    "#These example tweets have been pre-loaded into the variable tweets. Feel free to explore it in the IPython Shell!\n",
    "\n",
    "#Unlike the syntax for the regex library, with nltk_tokenize() you pass the pattern as the second argument.\n",
    "\n",
    "# Import the necessary modules\n",
    "from nltk.tokenize import regexp_tokenize\n",
    "from nltk.tokenize import TweetTokenizer\n",
    "# Define a regex pattern to find hashtags: pattern1\n",
    "pattern1 = r\"#\\w+\"\n",
    "tweets = ['This is the best #nlp exercise ive found online! #python', '#NLP is super fun! <3 #learning', 'Thanks @datacamp :) #nlp #python']\n",
    "\n",
    "# Use the pattern on the first tweet in the tweets list\n",
    "hashtags = regexp_tokenize(tweets[1], pattern1)\n",
    "print(hashtags)"
   ]
  },
  {
   "cell_type": "code",
   "execution_count": 45,
   "id": "cf428af5",
   "metadata": {},
   "outputs": [
    {
     "name": "stdout",
     "output_type": "stream",
     "text": [
      "['@datacamp', '#nlp', '#python']\n"
     ]
    }
   ],
   "source": [
    "# Write a pattern that matches both mentions (@) and hashtags\n",
    "pattern2 = r\"([@|#]\\w+)\"\n",
    "# Use the pattern on the last tweet in the tweets list\n",
    "mentions_hashtags = regexp_tokenize(tweets[len(tweets)-1], pattern2)\n",
    "print(mentions_hashtags)"
   ]
  },
  {
   "cell_type": "code",
   "execution_count": 46,
   "id": "01558804",
   "metadata": {},
   "outputs": [
    {
     "name": "stdout",
     "output_type": "stream",
     "text": [
      "[['This', 'is', 'the', 'best', '#nlp', 'exercise', 'ive', 'found', 'online', '!', '#python'], ['#NLP', 'is', 'super', 'fun', '!', '<3', '#learning'], ['Thanks', '@datacamp', ':)', '#nlp', '#python']]\n"
     ]
    }
   ],
   "source": [
    "# Use the TweetTokenizer to tokenize all tweets into one list\n",
    "tknzr = TweetTokenizer()\n",
    "all_tokens = [tknzr.tokenize(t) for t in tweets]\n",
    "print(all_tokens)"
   ]
  },
  {
   "cell_type": "code",
   "execution_count": 47,
   "id": "c432adf3",
   "metadata": {},
   "outputs": [
    {
     "name": "stdout",
     "output_type": "stream",
     "text": [
      "['Wann', 'gehen', 'wir', 'Pizza', 'essen', '?', '🍕', 'Und', 'fährst', 'du', 'mit', 'Über', '?', '🚕']\n",
      "['Wann', 'Pizza', 'Und']\n"
     ]
    }
   ],
   "source": [
    "german_text = \"Wann gehen wir Pizza essen? 🍕 Und fährst du mit Über? 🚕\"\n",
    "# Tokenize and print all words in german_text\n",
    "all_words = word_tokenize(german_text)\n",
    "print(all_words)\n",
    "\n",
    "# Tokenize and print only capital words\n",
    "capital_words = r\"[A-Z]+\\w+\"\n",
    "print(regexp_tokenize(german_text, capital_words))"
   ]
  },
  {
   "cell_type": "code",
   "execution_count": 48,
   "id": "0542b901",
   "metadata": {},
   "outputs": [
    {
     "name": "stdout",
     "output_type": "stream",
     "text": [
      "['🍕', '🚕']\n"
     ]
    }
   ],
   "source": [
    "# Tokenize and print only emoji\n",
    "emoji = \"['\\U0001F300-\\U0001F5FF'|'\\U0001F600-\\U0001F64F'|'\\U0001F680-\\U0001F6FF'|'\\u2600-\\u26FF\\u2700-\\u27BF']\"\n",
    "print(regexp_tokenize(german_text, emoji))"
   ]
  },
  {
   "cell_type": "code",
   "execution_count": 49,
   "id": "e56f0ccf",
   "metadata": {},
   "outputs": [
    {
     "name": "stdout",
     "output_type": "stream",
     "text": [
      "['Wann', 'gehen', 'wir', 'Pizza', 'essen', '?', '🍕', 'Und', 'fährst', 'du', 'mit', 'Über', '?', '🚕']\n",
      "['Wann', 'Pizza', 'Und', 'Über']\n",
      "['🍕', '🚕']\n"
     ]
    }
   ],
   "source": [
    "import nltk\n",
    "# Tokenize and print all words in german_text\n",
    "all_words = nltk.word_tokenize(german_text)\n",
    "print(all_words)\n",
    "\n",
    "# Tokenize and print only capital words\n",
    "capital_words = r\"[A-ZÜ]\\w+\"\n",
    "capital_tokens = nltk.regexp_tokenize(german_text, capital_words)\n",
    "print(capital_tokens)\n",
    "\n",
    "# Tokenize and print only emoji\n",
    "emoji_pattern = r\"[\\U0001F300-\\U0001F5FF\\U0001F600-\\U0001F64F\\U0001F680-\\U0001F6FF\\u2600-\\u26FF\\u2700-\\u27BF]+\"\n",
    "emoji_tokens = nltk.regexp_tokenize(german_text, emoji_pattern)\n",
    "print(emoji_tokens)\n"
   ]
  },
  {
   "cell_type": "code",
   "execution_count": 50,
   "id": "4c26afc6",
   "metadata": {},
   "outputs": [
    {
     "name": "stdout",
     "output_type": "stream",
     "text": [
      "This is [sample text] within square brackets. [Another example] is here.\n"
     ]
    }
   ],
   "source": [
    "print(scene_one)"
   ]
  },
  {
   "cell_type": "code",
   "execution_count": 51,
   "id": "6f1e3df0",
   "metadata": {},
   "outputs": [
    {
     "name": "stdout",
     "output_type": "stream",
     "text": [
      "['SCENE 1: [wind] [clop clop clop] ', 'KING ARTHUR: Whoa there!  [clop clop clop] ', 'SOLDIER #1: Halt!  Who goes there?', 'ARTHUR: It is I, Arthur, son of Uther Pendragon, from the castle of Camelot.  King of the Britons, defeator of the Saxons, sovereign of all England!', 'SOLDIER #1: Pull the other one!', 'ARTHUR: I am, ...  and this is my trusty servant Patsy.  We have ridden the length and breadth of the land in search of knights who will join me in my court at Camelot.  I must speak with your lord and master.', 'SOLDIER #1: What?  Ridden on a horse?', 'ARTHUR: Yes!', \"SOLDIER #1: You're using coconuts!\", 'ARTHUR: What?', \"SOLDIER #1: You've got two empty halves of coconut and you're bangin' 'em together.\", 'ARTHUR: So?  We have ridden since the snows of winter covered this land, through the kingdom of Mercea, through--', \"SOLDIER #1: Where'd you get the coconuts?\", 'ARTHUR: We found them.', \"SOLDIER #1: Found them?  In Mercea?  The coconut's tropical!\", 'ARTHUR: What do you mean?', 'SOLDIER #1: Well, this is a temperate zone.', 'ARTHUR: The swallow may fly south with the sun or the house martin or the plover may seek warmer climes in winter, yet these are not strangers to our land?', 'SOLDIER #1: Are you suggesting coconuts migrate?', 'ARTHUR: Not at all.  They could be carried.', 'SOLDIER #1: What?  A swallow carrying a coconut?', 'ARTHUR: It could grip it by the husk!', \"SOLDIER #1: It's not a question of where he grips it!  It's a simple question of weight ratios!  A five ounce bird could not carry a one pound coconut.\", \"ARTHUR: Well, it doesn't matter.  Will you go and tell your master that Arthur from the Court of Camelot is here.\", 'SOLDIER #1: Listen.  In order to maintain air-speed velocity, a swallow needs to beat its wings forty-three times every second, right?', 'ARTHUR: Please!', 'SOLDIER #1: Am I right?', \"ARTHUR: I'm not interested!\", 'SOLDIER #2: It could be carried by an African swallow!', \"SOLDIER #1: Oh, yeah, an African swallow maybe, but not a European swallow.  That's my point.\", 'SOLDIER #2: Oh, yeah, I agree with that.', 'ARTHUR: Will you ask your master if he wants to join my court at Camelot?!', 'SOLDIER #1: But then of course a-- African swallows are non-migratory.', 'SOLDIER #2: Oh, yeah...', \"SOLDIER #1: So they couldn't bring a coconut back anyway...  [clop clop clop] \", 'SOLDIER #2: Wait a minute!  Supposing two swallows carried it together?', \"SOLDIER #1: No, they'd have to have it on a line.\", \"SOLDIER #2: Well, simple!  They'd just use a strand of creeper!\", 'SOLDIER #1: What, held under the dorsal guiding feathers?', 'SOLDIER #2: Well, why not?']\n"
     ]
    }
   ],
   "source": [
    "# Split the script into lines: lines\n",
    "lines = scene_one1.split('\\n')\n",
    "print(lines)"
   ]
  },
  {
   "cell_type": "code",
   "execution_count": 52,
   "id": "405bb3e1",
   "metadata": {},
   "outputs": [
    {
     "name": "stdout",
     "output_type": "stream",
     "text": [
      "['SCENE 1: [wind] [clop clop clop] ', ' Whoa there!  [clop clop clop] ', ' Halt!  Who goes there?', ' It is I, Arthur, son of Uther Pendragon, from the castle of Camelot.  King of the Britons, defeator of the Saxons, sovereign of all England!', ' Pull the other one!', ' I am, ...  and this is my trusty servant Patsy.  We have ridden the length and breadth of the land in search of knights who will join me in my court at Camelot.  I must speak with your lord and master.', ' What?  Ridden on a horse?', ' Yes!', \" You're using coconuts!\", ' What?', \" You've got two empty halves of coconut and you're bangin' 'em together.\", ' So?  We have ridden since the snows of winter covered this land, through the kingdom of Mercea, through--', \" Where'd you get the coconuts?\", ' We found them.', \" Found them?  In Mercea?  The coconut's tropical!\", ' What do you mean?', ' Well, this is a temperate zone.', ' The swallow may fly south with the sun or the house martin or the plover may seek warmer climes in winter, yet these are not strangers to our land?', ' Are you suggesting coconuts migrate?', ' Not at all.  They could be carried.', ' What?  A swallow carrying a coconut?', ' It could grip it by the husk!', \" It's not a question of where he grips it!  It's a simple question of weight ratios!  A five ounce bird could not carry a one pound coconut.\", \" Well, it doesn't matter.  Will you go and tell your master that Arthur from the Court of Camelot is here.\", ' Listen.  In order to maintain air-speed velocity, a swallow needs to beat its wings forty-three times every second, right?', ' Please!', ' Am I right?', \" I'm not interested!\", ' It could be carried by an African swallow!', \" Oh, yeah, an African swallow maybe, but not a European swallow.  That's my point.\", ' Oh, yeah, I agree with that.', ' Will you ask your master if he wants to join my court at Camelot?!', ' But then of course a-- African swallows are non-migratory.', ' Oh, yeah...', \" So they couldn't bring a coconut back anyway...  [clop clop clop] \", ' Wait a minute!  Supposing two swallows carried it together?', \" No, they'd have to have it on a line.\", \" Well, simple!  They'd just use a strand of creeper!\", ' What, held under the dorsal guiding feathers?', ' Well, why not?']\n"
     ]
    }
   ],
   "source": [
    "# Replace all script lines for speaker\n",
    "pattern = \"[A-Z]{2,}(\\s)?(#\\d)?([A-Z]{2,})?:\"\n",
    "lines = [re.sub(pattern, '', l) for l in lines]\n",
    "print(lines)"
   ]
  },
  {
   "cell_type": "code",
   "execution_count": 53,
   "id": "95e7341c",
   "metadata": {},
   "outputs": [
    {
     "name": "stdout",
     "output_type": "stream",
     "text": [
      "[['SCENE', '1', 'wind', 'clop', 'clop', 'clop'], ['Whoa', 'there', 'clop', 'clop', 'clop'], ['Halt', 'Who', 'goes', 'there'], ['It', 'is', 'I', 'Arthur', 'son', 'of', 'Uther', 'Pendragon', 'from', 'the', 'castle', 'of', 'Camelot', 'King', 'of', 'the', 'Britons', 'defeator', 'of', 'the', 'Saxons', 'sovereign', 'of', 'all', 'England'], ['Pull', 'the', 'other', 'one'], ['I', 'am', 'and', 'this', 'is', 'my', 'trusty', 'servant', 'Patsy', 'We', 'have', 'ridden', 'the', 'length', 'and', 'breadth', 'of', 'the', 'land', 'in', 'search', 'of', 'knights', 'who', 'will', 'join', 'me', 'in', 'my', 'court', 'at', 'Camelot', 'I', 'must', 'speak', 'with', 'your', 'lord', 'and', 'master'], ['What', 'Ridden', 'on', 'a', 'horse'], ['Yes'], ['You', 're', 'using', 'coconuts'], ['What'], ['You', 've', 'got', 'two', 'empty', 'halves', 'of', 'coconut', 'and', 'you', 're', 'bangin', 'em', 'together'], ['So', 'We', 'have', 'ridden', 'since', 'the', 'snows', 'of', 'winter', 'covered', 'this', 'land', 'through', 'the', 'kingdom', 'of', 'Mercea', 'through'], ['Where', 'd', 'you', 'get', 'the', 'coconuts'], ['We', 'found', 'them'], ['Found', 'them', 'In', 'Mercea', 'The', 'coconut', 's', 'tropical'], ['What', 'do', 'you', 'mean'], ['Well', 'this', 'is', 'a', 'temperate', 'zone'], ['The', 'swallow', 'may', 'fly', 'south', 'with', 'the', 'sun', 'or', 'the', 'house', 'martin', 'or', 'the', 'plover', 'may', 'seek', 'warmer', 'climes', 'in', 'winter', 'yet', 'these', 'are', 'not', 'strangers', 'to', 'our', 'land'], ['Are', 'you', 'suggesting', 'coconuts', 'migrate'], ['Not', 'at', 'all', 'They', 'could', 'be', 'carried'], ['What', 'A', 'swallow', 'carrying', 'a', 'coconut'], ['It', 'could', 'grip', 'it', 'by', 'the', 'husk'], ['It', 's', 'not', 'a', 'question', 'of', 'where', 'he', 'grips', 'it', 'It', 's', 'a', 'simple', 'question', 'of', 'weight', 'ratios', 'A', 'five', 'ounce', 'bird', 'could', 'not', 'carry', 'a', 'one', 'pound', 'coconut'], ['Well', 'it', 'doesn', 't', 'matter', 'Will', 'you', 'go', 'and', 'tell', 'your', 'master', 'that', 'Arthur', 'from', 'the', 'Court', 'of', 'Camelot', 'is', 'here'], ['Listen', 'In', 'order', 'to', 'maintain', 'air', 'speed', 'velocity', 'a', 'swallow', 'needs', 'to', 'beat', 'its', 'wings', 'forty', 'three', 'times', 'every', 'second', 'right'], ['Please'], ['Am', 'I', 'right'], ['I', 'm', 'not', 'interested'], ['It', 'could', 'be', 'carried', 'by', 'an', 'African', 'swallow'], ['Oh', 'yeah', 'an', 'African', 'swallow', 'maybe', 'but', 'not', 'a', 'European', 'swallow', 'That', 's', 'my', 'point'], ['Oh', 'yeah', 'I', 'agree', 'with', 'that'], ['Will', 'you', 'ask', 'your', 'master', 'if', 'he', 'wants', 'to', 'join', 'my', 'court', 'at', 'Camelot'], ['But', 'then', 'of', 'course', 'a', 'African', 'swallows', 'are', 'non', 'migratory'], ['Oh', 'yeah'], ['So', 'they', 'couldn', 't', 'bring', 'a', 'coconut', 'back', 'anyway', 'clop', 'clop', 'clop'], ['Wait', 'a', 'minute', 'Supposing', 'two', 'swallows', 'carried', 'it', 'together'], ['No', 'they', 'd', 'have', 'to', 'have', 'it', 'on', 'a', 'line'], ['Well', 'simple', 'They', 'd', 'just', 'use', 'a', 'strand', 'of', 'creeper'], ['What', 'held', 'under', 'the', 'dorsal', 'guiding', 'feathers'], ['Well', 'why', 'not']]\n",
      "[6, 5, 4, 25, 4, 40, 5, 1, 4, 1, 14, 18, 6, 3, 8, 4, 6, 29, 5, 7, 6, 7, 29, 21, 21, 1, 3, 4, 8, 15, 6, 14, 10, 2, 12, 9, 10, 10, 7, 3]\n"
     ]
    }
   ],
   "source": [
    "# Tokenize each line: tokenized_lines\n",
    "tokenized_lines = [regexp_tokenize(s, \"\\w+\") for s in lines]\n",
    "print(tokenized_lines)\n",
    "\n",
    "# Make a frequency list of lengths: line_num_words\n",
    "line_num_words = [len(t_line) for t_line in tokenized_lines]\n",
    "print(line_num_words)"
   ]
  },
  {
   "cell_type": "code",
   "execution_count": 54,
   "id": "041fc1a5",
   "metadata": {},
   "outputs": [
    {
     "data": {
      "image/png": "[encoded data removed]",
      "text/plain": [
       "<Figure size 640x480 with 1 Axes>"
      ]
     },
     "metadata": {},
     "output_type": "display_data"
    }
   ],
   "source": [
    "# Plot a histogram of the line lengths\n",
    "import matplotlib.pyplot as plt\n",
    "plt.hist(line_num_words)\n",
    "\n",
    "# Show the plot\n",
    "plt.show()"
   ]
  },
  {
   "cell_type": "markdown",
   "id": "43ad6a87",
   "metadata": {},
   "source": [
    "# Simple topic identification\n",
    "Word counts with bag-of-words\n",
    "\n",
    "Bag-of-words picker\n",
    "\n",
    "Building a Counter with bag-of-words\n",
    "\n",
    "Simple text preprocessing\n",
    "\n",
    "Text preprocessing steps\n",
    "\n",
    "Text preprocessing practice\n",
    "\n",
    "Introduction to gensim\n",
    "\n",
    "What are word vectors?\n",
    "\n",
    "Creating and querying a corpus with gensim\n",
    "\n",
    "Gensim bag-of-words\n",
    "\n",
    "Tf-idf with gensim\n",
    "\n",
    "What is tf-idf?\n",
    "\n",
    "Tf-idf with Wikipedia"
   ]
  },
  {
   "cell_type": "markdown",
   "id": "c18af2d7",
   "metadata": {},
   "source": [
    "# Named-entity recognition\n",
    "\n",
    "#### This chapter will introduce a slightly more advanced topic: named-entity recognition. You'll learn how to identify the who, what, and where of your texts using pre-trained models on English and non-English text. You'll also learn how to use some new libraries, polyglot and spaCy, to add to your NLP toolbox.\n",
    "\n",
    "Named Entity Recognition\n",
    "\n",
    "NER with NLTK\n",
    "\n",
    "Charting practice\n",
    "\n",
    "Stanford library with NLTK\n",
    "\n",
    "Introduction to SpaCy\n",
    "\n",
    "Comparing NLTK with spaCy NER\n",
    "\n",
    "spaCy NER Categories\n",
    "\n",
    "Multilingual NER with polyglot\n",
    "\n",
    "French NER with polyglot I\n",
    "\n",
    "French NER with polyglot II\n",
    "\n",
    "Spanish NER with polyglot"
   ]
  },
  {
   "cell_type": "markdown",
   "id": "3d43d41a",
   "metadata": {},
   "source": [
    "# Building a \"fake news\" classifier\n",
    "\n",
    "#### You'll apply the basics of what you've learned along with some supervised machine learning to build a \"fake news\" detector. You'll begin by learning the basics of supervised machine learning, and then move forward by choosing a few important features and testing ideas to identify and classify fake news articles. Classifying fake news using supervised learning with NLP\n",
    "\n",
    "\n",
    "Which possible features?\n",
    "\n",
    "Training and testing\n",
    "\n",
    "Building word count vectors with scikit-learn\n",
    "\n",
    "CountVectorizer for text classification\n",
    "\n",
    "TfidfVectorizer for text classification\n",
    "\n",
    "Inspecting the vectors\n",
    "\n",
    "Training and testing a classification model with scikit-learn\n",
    "\n",
    "Text classification models\n",
    "\n",
    "Training and testing the \"fake news\" model with CountVectorizer\n",
    "\n",
    "Training and testing the \"fake news\" model with TfidfVectorizer\n",
    "\n",
    "Simple NLP, complex problems\n",
    "\n",
    "Improving the model\n",
    "\n",
    "Improving your model\n",
    "\n",
    "Inspecting your model"
   ]
  },
  {
   "cell_type": "code",
   "execution_count": null,
   "id": "acdc029d",
   "metadata": {},
   "outputs": [],
   "source": []
  },
  {
   "cell_type": "markdown",
   "id": "3e2838f0",
   "metadata": {},
   "source": [
    "# Sentiment Analysis in Python"
   ]
  },
  {
   "cell_type": "markdown",
   "id": "8739f4ef",
   "metadata": {},
   "source": [
    "# Sentiment Analysis Nuts and Bolts\n",
    "\n",
    "#### Have you ever checked the reviews or ratings of a product or a service before you purchased it? Then you have very likely came face-to-face with sentiment analysis. In this chapter, you will learn the basic structure of a sentiment analysis problem and start exploring the sentiment of movie reviews.\n",
    "\n",
    "Elements of a sentiment analysis problem\n",
    "\n",
    "How many positive and negative reviews are there?\n",
    "\n",
    "Longest and shortest reviews\n",
    "\n",
    "Sentiment analysis types and approaches\n",
    "\n",
    "Detecting the sentiment of Tale of Two Cities\n",
    "\n",
    "Comparing the sentiment of two strings\n",
    "\n",
    "What is the sentiment of a movie review?\n",
    "\n",
    "Let's build a word cloud!\n",
    "\n",
    "Your first word cloud\n",
    "\n",
    "Which words are in the word cloud?\n",
    "\n",
    "Word Cloud on movie reviews"
   ]
  },
  {
   "cell_type": "code",
   "execution_count": 55,
   "id": "124fce55",
   "metadata": {},
   "outputs": [
    {
     "data": {
      "text/html": [
       "<div>\n",
       "<style scoped>\n",
       "    .dataframe tbody tr th:only-of-type {\n",
       "        vertical-align: middle;\n",
       "    }\n",
       "\n",
       "    .dataframe tbody tr th {\n",
       "        vertical-align: top;\n",
       "    }\n",
       "\n",
       "    .dataframe thead th {\n",
       "        text-align: right;\n",
       "    }\n",
       "</style>\n",
       "<table border=\"1\" class=\"dataframe\">\n",
       "  <thead>\n",
       "    <tr style=\"text-align: right;\">\n",
       "      <th></th>\n",
       "      <th>review</th>\n",
       "      <th>sentiment</th>\n",
       "      <th>label</th>\n",
       "    </tr>\n",
       "  </thead>\n",
       "  <tbody>\n",
       "    <tr>\n",
       "      <th>0</th>\n",
       "      <td>One of the other reviewers has mentioned that ...</td>\n",
       "      <td>positive</td>\n",
       "      <td>1</td>\n",
       "    </tr>\n",
       "    <tr>\n",
       "      <th>1</th>\n",
       "      <td>A wonderful little production. &lt;br /&gt;&lt;br /&gt;The...</td>\n",
       "      <td>positive</td>\n",
       "      <td>1</td>\n",
       "    </tr>\n",
       "    <tr>\n",
       "      <th>2</th>\n",
       "      <td>I thought this was a wonderful way to spend ti...</td>\n",
       "      <td>positive</td>\n",
       "      <td>1</td>\n",
       "    </tr>\n",
       "    <tr>\n",
       "      <th>3</th>\n",
       "      <td>Basically there's a family where a little boy ...</td>\n",
       "      <td>negative</td>\n",
       "      <td>0</td>\n",
       "    </tr>\n",
       "    <tr>\n",
       "      <th>4</th>\n",
       "      <td>Petter Mattei's \"Love in the Time of Money\" is...</td>\n",
       "      <td>positive</td>\n",
       "      <td>1</td>\n",
       "    </tr>\n",
       "  </tbody>\n",
       "</table>\n",
       "</div>"
      ],
      "text/plain": [
       "                                              review sentiment  label\n",
       "0  One of the other reviewers has mentioned that ...  positive      1\n",
       "1  A wonderful little production. <br /><br />The...  positive      1\n",
       "2  I thought this was a wonderful way to spend ti...  positive      1\n",
       "3  Basically there's a family where a little boy ...  negative      0\n",
       "4  Petter Mattei's \"Love in the Time of Money\" is...  positive      1"
      ]
     },
     "execution_count": 55,
     "metadata": {},
     "output_type": "execute_result"
    }
   ],
   "source": [
    "#How many positive and negative reviews are there?\n",
    "import pandas as pd\n",
    "movies = pd.read_csv(\"data/IMDB Dataset.csv\")\n",
    "# replace_map = {\"sentiment\" : {\"positive\": 1, \"negative\": 0}}\n",
    "# movies.replace(replace_map, inplace = True)\n",
    "\n",
    "def map_sentiment(sentiment):\n",
    "    if sentiment == \"positive\":\n",
    "        return 1\n",
    "    elif sentiment == \"negative\":\n",
    "        return 0\n",
    "\n",
    "movies[\"label\"] = movies[\"sentiment\"].apply(map_sentiment)\n",
    "movies.head()"
   ]
  },
  {
   "cell_type": "code",
   "execution_count": 56,
   "id": "e41a8d4d",
   "metadata": {},
   "outputs": [
    {
     "name": "stdout",
     "output_type": "stream",
     "text": [
      "Number of positive and negative reviews:  label\n",
      "1    25000\n",
      "0    25000\n",
      "Name: count, dtype: int64\n",
      "Proportion of positive and negative reviews:  0.5\n",
      "----------- \n",
      " Proportion of positive and negative reviews:  label\n",
      "1    0.5\n",
      "0    0.5\n",
      "Name: count, dtype: float64\n"
     ]
    }
   ],
   "source": [
    "# Find the number of positive and negative reviews\n",
    "print('Number of positive and negative reviews: ', movies.label.value_counts())\n",
    "\n",
    "# Find the proportion of positive and negative reviews\n",
    "print('Proportion of positive and negative reviews: ', (movies.label == 1).sum() / len(movies))\n",
    "print(\"----------- \\n\", 'Proportion of positive and negative reviews: ', movies.label.value_counts() / len(movies))"
   ]
  },
  {
   "cell_type": "code",
   "execution_count": 57,
   "id": "3bd7e73f",
   "metadata": {},
   "outputs": [
    {
     "data": {
      "image/png": "[encoded data removed]",
      "text/plain": [
       "<Figure size 640x480 with 1 Axes>"
      ]
     },
     "metadata": {},
     "output_type": "display_data"
    }
   ],
   "source": [
    "from matplotlib import pyplot as plt\n",
    "from wordcloud import WordCloud\n",
    "\n",
    "east_of_eden = \"I remember my childhood names for grasses and secret flowers. I remember where a toad may live and what time the birds awaken in the summer—and what trees and seasons smelled like—how people looked and walked and smelled even. The memory of odors is very rich.\"\n",
    "\n",
    "# Generate the word cloud from the east_of_eden string\n",
    "cloud_east_of_eden = WordCloud(background_color=\"white\").generate(east_of_eden)\n",
    "plt.imshow(cloud_east_of_eden)\n",
    "plt.axis(\"off\")\n",
    "plt.show()"
   ]
  },
  {
   "cell_type": "code",
   "execution_count": 58,
   "id": "30ae4ba3",
   "metadata": {},
   "outputs": [
    {
     "data": {
      "text/plain": [
       "<matplotlib.image.AxesImage at 0x7fe99b9f3af0>"
      ]
     },
     "execution_count": 58,
     "metadata": {},
     "output_type": "execute_result"
    },
    {
     "data": {
      "image/png": "[encoded data removed]",
      "text/plain": [
       "<Figure size 640x480 with 1 Axes>"
      ]
     },
     "metadata": {},
     "output_type": "display_data"
    }
   ],
   "source": [
    "illuminated = \"I am not sad, he would repeat to himself over and over, I am not sad. As if he might one day convince himself or convince others -- the only thing worse than being sad is for others to know that you are sad. I am not sad.\"\n",
    "\n",
    "plt.imshow(WordCloud().generate(illuminated))"
   ]
  },
  {
   "cell_type": "code",
   "execution_count": 59,
   "id": "96625913",
   "metadata": {},
   "outputs": [
    {
     "data": {
      "image/png": "[encoded data removed]",
      "text/plain": [
       "<Figure size 640x480 with 1 Axes>"
      ]
     },
     "metadata": {},
     "output_type": "display_data"
    }
   ],
   "source": [
    "# Create and generate a word cloud image\n",
    "my_stopwords = {'yours', 'she', \"what's\", 'www', 'over', 'just', 'him', 'film', 'who', \"you've\", 'whom', 'movie', 'of', \"she'd\", 'only', 'are', 'did', \"they're\", \"couldn't\", 'being', \"there's\", \"you'd\", 'can', \"shan't\", 'her', 'again', \"shouldn't\", 'so', 'should', 'own', \"i've\", \"where's\", 'all', 'ever', 'herself', 'its', \"can't\", 'those', 'movies', 'am', 'out', 'me', \"isn't\", 'shall', \"that's\", \"i'll\", 'but', \"it's\", \"she'll\", 'after', 'http', 'during', 'they', 'was', 'against', 'their', \"we're\", 'hence', 'br', 'too', 'could', 'an', 'any', 'nor', 'there', 'yourselves', 'until', 'cannot', 'that', \"you're\", 'very', 'what', 'same', 'it', 'else', 'myself', \"hadn't\", 'theirs', 'for', \"he's\", \"mustn't\", 'our', 'more', 'such', 'r', 'no', 'before', 'most', 'themselves', 'would', 'further', 'about', 'com', 'hers', 'below', 'been', \"wasn't\", 'above', \"i'd\", \"weren't\", 'itself', 'k', 'does', 'between', 'down', 'have', \"he'd\", 'we', \"when's\", \"didn't\", 'where', 'is', 'other', 'then', 'from', \"she's\", 'under', 'these', 'a', 'ours', 'because', 'however', \"we've\", 'to', 'here', 'not', 'or', 'watch', 'my', 'his', 'at', 'had', \"here's\", 'on', \"aren't\", 'which', 'yourself', 'how', 'each', 'films', 'having', 'also', \"wouldn't\", \"we'll\", 'than', 'has', \"won't\", \"they've\", 'i', 'otherwise', 'off', \"they'd\", \"who's\", \"you'll\", \"why's\", 'do', 'doing', \"hasn't\", \"how's\", 'once', 'up', 'like', 'as', 'the', 'himself', 'get', 'in', 'you', 'this', 'he', 'with', 'therefore', \"they'll\", 'your', 'while', \"haven't\", 'ought', 'some', 'why', \"doesn't\", \"let's\", 'if', \"he'll\", 'few', 'and', 'them', 'both', \"i'm\", 'were', 'by', 'when', \"we'd\", \"don't\", 'through', 'into', 'since', 'be', 'ourselves'}\n",
    "my_cloud = WordCloud(background_color='white', stopwords=my_stopwords).generate(illuminated)\n",
    "\n",
    "# Display the generated wordcloud image\n",
    "plt.imshow(my_cloud, interpolation='bilinear') \n",
    "plt.axis(\"off\")\n",
    "\n",
    "# Don't forget to show the final image\n",
    "plt.show()"
   ]
  },
  {
   "cell_type": "markdown",
   "id": "0914e7f7",
   "metadata": {},
   "source": [
    "#Numeric Features from Reviews\n",
    "\n",
    "### Imagine you are in the shoes of a company offering a variety of products. You want to know which of your products are bestsellers and most of all - why. We embark on step 1 of understanding the reviews of products, using a dataset with Amazon product reviews. To that end, we transform the text into a numeric form and consider a few complexities in the process. Bag-of-words\n",
    "\n",
    "Which statement about BOW is true?\n",
    "\n",
    "Your first BOW\n",
    "\n",
    "BOW using product reviews\n",
    "\n",
    "Getting granular with n-grams\n",
    "\n",
    "Specify token sequence length with BOW\n",
    "\n",
    "Size of vocabulary of movies reviews\n",
    "\n",
    "BOW with n-grams and vocabulary size\n",
    "\n",
    "Build new features from text\n",
    "\n",
    "Tokenize a string from GoT\n",
    "\n",
    "Word tokens from the Avengers\n",
    "\n",
    "A feature for the length of a review\n",
    "\n",
    "Can you guess the language?\n",
    "\n",
    "Identify the language of a string\n",
    "\n",
    "Detect language of a list of strings\n",
    "\n",
    "Language detection of product reviews"
   ]
  },
  {
   "cell_type": "code",
   "execution_count": 60,
   "id": "622f625c",
   "metadata": {},
   "outputs": [],
   "source": [
    "import pandas as pd\n",
    "from sklearn.feature_extraction.text import CountVectorizer"
   ]
  },
  {
   "cell_type": "code",
   "execution_count": 61,
   "id": "74787cb2",
   "metadata": {},
   "outputs": [
    {
     "name": "stdout",
     "output_type": "stream",
     "text": [
      "   amazing  and  bought  but  ever  fantastic  great  is  it  love  ...   \n",
      "0        1    1       0    0     0          0      1   1   0     0  ...  \\\n",
      "1        0    0       0    0     0          0      0   0   1     0  ...   \n",
      "2        0    0       0    1     0          0      0   0   1     0  ...   \n",
      "3        0    0       0    0     0          1      0   0   1     1  ...   \n",
      "4        0    0       1    0     1          0      0   0   0     0  ...   \n",
      "\n",
      "   recommend  terrible  the  this  ve  works  worst  worth  would  label  \n",
      "0          0         0    0     1   0      1      0      0      0      1  \n",
      "1          1         1    0     0   0      0      0      0      1      0  \n",
      "2          0         0    1     0   0      0      0      1      0      0  \n",
      "3          0         0    0     1   0      0      0      0      0      1  \n",
      "4          0         0    1     0   1      0      1      0      0      0  \n",
      "\n",
      "[5 rows x 24 columns]\n"
     ]
    }
   ],
   "source": [
    "# Sample dataset of Amazon product reviews\n",
    "data = {\n",
    "    'text': [\n",
    "        \"This product is amazing and works great!\",\n",
    "        \"Terrible product. I would not recommend it.\",\n",
    "        \"It's okay, but not worth the price.\",\n",
    "        \"I love this product. It's fantastic!\",\n",
    "        \"The worst product I've ever bought.\",\n",
    "    ],\n",
    "    'label': [1, 0, 0, 1, 0]  # 1 for positive, 0 for negative\n",
    "}\n",
    "\n",
    "df = pd.DataFrame(data)\n",
    "\n",
    "#create a CountVectorizer to convert text into bow\n",
    "vectorizer = CountVectorizer()\n",
    "X=vectorizer.fit_transform(df['text'])\n",
    "\n",
    "bow_df = pd.DataFrame(X.toarray(), columns = vectorizer.get_feature_names_out())\n",
    "bow_df['label'] = df['label']\n",
    "\n",
    "print(bow_df)"
   ]
  },
  {
   "cell_type": "code",
   "execution_count": 62,
   "id": "483da5cc",
   "metadata": {},
   "outputs": [],
   "source": [
    "sentance = \"Mary and Samantha arrived at the bus station early but waited until noon for the bus\"\n",
    "\n",
    "def word_extraction(sentance):\n",
    "    ignore = [\"a\", \"the\", \"is\", \"and\"]\n",
    "    words = re.sub(\"[^\\w]\", \" \", sentance).split()\n",
    "    cleaned_text = [w.lower() for w in words if w not in ignore]\n",
    "    return cleaned_text\n"
   ]
  },
  {
   "cell_type": "code",
   "execution_count": 63,
   "id": "78ee21b2",
   "metadata": {},
   "outputs": [
    {
     "data": {
      "text/plain": [
       "{'a',\n",
       " 'about',\n",
       " 'above',\n",
       " 'after',\n",
       " 'again',\n",
       " 'against',\n",
       " 'ain',\n",
       " 'all',\n",
       " 'am',\n",
       " 'an',\n",
       " 'and',\n",
       " 'any',\n",
       " 'are',\n",
       " 'aren',\n",
       " \"aren't\",\n",
       " 'as',\n",
       " 'at',\n",
       " 'be',\n",
       " 'because',\n",
       " 'been',\n",
       " 'before',\n",
       " 'being',\n",
       " 'below',\n",
       " 'between',\n",
       " 'both',\n",
       " 'but',\n",
       " 'by',\n",
       " 'can',\n",
       " 'couldn',\n",
       " \"couldn't\",\n",
       " 'd',\n",
       " 'did',\n",
       " 'didn',\n",
       " \"didn't\",\n",
       " 'do',\n",
       " 'does',\n",
       " 'doesn',\n",
       " \"doesn't\",\n",
       " 'doing',\n",
       " 'don',\n",
       " \"don't\",\n",
       " 'down',\n",
       " 'during',\n",
       " 'each',\n",
       " 'few',\n",
       " 'for',\n",
       " 'from',\n",
       " 'further',\n",
       " 'had',\n",
       " 'hadn',\n",
       " \"hadn't\",\n",
       " 'has',\n",
       " 'hasn',\n",
       " \"hasn't\",\n",
       " 'have',\n",
       " 'haven',\n",
       " \"haven't\",\n",
       " 'having',\n",
       " 'he',\n",
       " 'her',\n",
       " 'here',\n",
       " 'hers',\n",
       " 'herself',\n",
       " 'him',\n",
       " 'himself',\n",
       " 'his',\n",
       " 'how',\n",
       " 'i',\n",
       " 'if',\n",
       " 'in',\n",
       " 'into',\n",
       " 'is',\n",
       " 'isn',\n",
       " \"isn't\",\n",
       " 'it',\n",
       " \"it's\",\n",
       " 'its',\n",
       " 'itself',\n",
       " 'just',\n",
       " 'll',\n",
       " 'm',\n",
       " 'ma',\n",
       " 'me',\n",
       " 'mightn',\n",
       " \"mightn't\",\n",
       " 'more',\n",
       " 'most',\n",
       " 'mustn',\n",
       " \"mustn't\",\n",
       " 'my',\n",
       " 'myself',\n",
       " 'needn',\n",
       " \"needn't\",\n",
       " 'no',\n",
       " 'nor',\n",
       " 'not',\n",
       " 'now',\n",
       " 'o',\n",
       " 'of',\n",
       " 'off',\n",
       " 'on',\n",
       " 'once',\n",
       " 'only',\n",
       " 'or',\n",
       " 'other',\n",
       " 'our',\n",
       " 'ours',\n",
       " 'ourselves',\n",
       " 'out',\n",
       " 'over',\n",
       " 'own',\n",
       " 're',\n",
       " 's',\n",
       " 'same',\n",
       " 'shan',\n",
       " \"shan't\",\n",
       " 'she',\n",
       " \"she's\",\n",
       " 'should',\n",
       " \"should've\",\n",
       " 'shouldn',\n",
       " \"shouldn't\",\n",
       " 'so',\n",
       " 'some',\n",
       " 'such',\n",
       " 't',\n",
       " 'than',\n",
       " 'that',\n",
       " \"that'll\",\n",
       " 'the',\n",
       " 'their',\n",
       " 'theirs',\n",
       " 'them',\n",
       " 'themselves',\n",
       " 'then',\n",
       " 'there',\n",
       " 'these',\n",
       " 'they',\n",
       " 'this',\n",
       " 'those',\n",
       " 'through',\n",
       " 'to',\n",
       " 'too',\n",
       " 'under',\n",
       " 'until',\n",
       " 'up',\n",
       " 've',\n",
       " 'very',\n",
       " 'was',\n",
       " 'wasn',\n",
       " \"wasn't\",\n",
       " 'we',\n",
       " 'were',\n",
       " 'weren',\n",
       " \"weren't\",\n",
       " 'what',\n",
       " 'when',\n",
       " 'where',\n",
       " 'which',\n",
       " 'while',\n",
       " 'who',\n",
       " 'whom',\n",
       " 'why',\n",
       " 'will',\n",
       " 'with',\n",
       " 'won',\n",
       " \"won't\",\n",
       " 'wouldn',\n",
       " \"wouldn't\",\n",
       " 'y',\n",
       " 'you',\n",
       " \"you'd\",\n",
       " \"you'll\",\n",
       " \"you're\",\n",
       " \"you've\",\n",
       " 'your',\n",
       " 'yours',\n",
       " 'yourself',\n",
       " 'yourselves'}"
      ]
     },
     "execution_count": 63,
     "metadata": {},
     "output_type": "execute_result"
    }
   ],
   "source": [
    "import nltk \n",
    "from nltk.corpus import stopwords\n",
    "\n",
    "#set of predefined words per language\n",
    "set(stopwords.words('english'))"
   ]
  },
  {
   "cell_type": "code",
   "execution_count": 64,
   "id": "be48b125",
   "metadata": {},
   "outputs": [],
   "source": [
    "def tokenize(sentences):    \n",
    "    words = []    \n",
    "    for sentence in sentences:        \n",
    "        w = word_extraction(sentence)        \n",
    "        words.extend(w)            \n",
    "        words = sorted(list(set(words)))    \n",
    "    return words\n"
   ]
  },
  {
   "cell_type": "code",
   "execution_count": 65,
   "id": "17bf0811",
   "metadata": {},
   "outputs": [
    {
     "data": {
      "text/plain": [
       "['arrived',\n",
       " 'at',\n",
       " 'bus',\n",
       " 'but',\n",
       " 'early',\n",
       " 'for',\n",
       " 'i',\n",
       " 'joe',\n",
       " 'late',\n",
       " 'looked',\n",
       " 'mary',\n",
       " 'noon',\n",
       " 'samantha',\n",
       " 'station',\n",
       " 'the',\n",
       " 'took',\n",
       " 'train',\n",
       " 'until',\n",
       " 'waited',\n",
       " 'was']"
      ]
     },
     "execution_count": 65,
     "metadata": {},
     "output_type": "execute_result"
    }
   ],
   "source": [
    "txt = [\"Joe waited for the train\", \"The train was late\", \"Mary and Samantha took the bus\",\"I looked for Mary and Samantha at the bus station\", \"Mary and Samantha arrived at the bus station early but waited until noon for the bus\"]\n",
    "tokenize(txt)"
   ]
  },
  {
   "cell_type": "code",
   "execution_count": 66,
   "id": "34c41c0c",
   "metadata": {},
   "outputs": [],
   "source": [
    "import numpy\n",
    "\n",
    "def generate_bow(allsentences):        \n",
    "    vocab = tokenize(allsentences)    \n",
    "    print(\"Word List for Document \\n{0} \\n\".format(vocab))\n",
    "    \n",
    "    for sentence in allsentences:        \n",
    "        words = word_extraction(sentence)        \n",
    "        bag_vector = numpy.zeros(len(vocab))        \n",
    "        for w in words:            \n",
    "            for i, word in enumerate(vocab):                \n",
    "                if word == w:                     \n",
    "                    bag_vector[i] += 1                            \n",
    "        print(\"{0}\\n{1}\\n\".format(sentence, numpy.array(bag_vector)))\n"
   ]
  },
  {
   "cell_type": "code",
   "execution_count": 67,
   "id": "465659f9",
   "metadata": {},
   "outputs": [
    {
     "name": "stdout",
     "output_type": "stream",
     "text": [
      "Word List for Document \n",
      "['arrived', 'at', 'bus', 'but', 'early', 'for', 'i', 'joe', 'late', 'looked', 'mary', 'noon', 'samantha', 'station', 'the', 'took', 'train', 'until', 'waited', 'was'] \n",
      "\n",
      "Joe waited for the train train train\n",
      "[0. 0. 0. 0. 0. 1. 0. 1. 0. 0. 0. 0. 0. 0. 0. 0. 3. 0. 1. 0.]\n",
      "\n",
      "The train was late\n",
      "[0. 0. 0. 0. 0. 0. 0. 0. 1. 0. 0. 0. 0. 0. 1. 0. 1. 0. 0. 1.]\n",
      "\n",
      "Mary and Samantha took the bus\n",
      "[0. 0. 1. 0. 0. 0. 0. 0. 0. 0. 1. 0. 1. 0. 0. 1. 0. 0. 0. 0.]\n",
      "\n",
      "I looked for Mary and Samantha at the bus station\n",
      "[0. 1. 1. 0. 0. 1. 1. 0. 0. 1. 1. 0. 1. 1. 0. 0. 0. 0. 0. 0.]\n",
      "\n",
      "Mary and Samantha arrived at the bus station early but waited until noon for the bus\n",
      "[1. 1. 2. 1. 1. 1. 0. 0. 0. 0. 1. 1. 1. 1. 0. 0. 0. 1. 1. 0.]\n",
      "\n"
     ]
    }
   ],
   "source": [
    "allsentences = [\"Joe waited for the train train train\", \"The train was late\", \"Mary and Samantha took the bus\", \"I looked for Mary and Samantha at the bus station\", \"Mary and Samantha arrived at the bus station early but waited until noon for the bus\"]\n",
    " \n",
    "generate_bow(allsentences)"
   ]
  },
  {
   "cell_type": "code",
   "execution_count": 68,
   "id": "da329ff8",
   "metadata": {},
   "outputs": [],
   "source": [
    "def vecorized_tokens(tokens):\n",
    "    ''' This function takes list of words in a sentence as input \n",
    "    and returns a vector of size of filtered_vocab.It puts 0 if the \n",
    "    word is not present in tokens and count of token if present.'''\n",
    "    vectors = []\n",
    "    for w in filtered_vocab:\n",
    "        vectors.append(tokens.count(w))\n",
    "    return vectors"
   ]
  },
  {
   "cell_type": "code",
   "execution_count": 69,
   "id": "7483111e",
   "metadata": {},
   "outputs": [],
   "source": [
    "def unique(sequence):\n",
    "    '''This functions returns a list in which the order remains \n",
    "    same and no item repeats.Using the set() function does not \n",
    "    preserve the original ordering,so i didnt use that instead'''\n",
    "    seen = set()\n",
    "    return [x for x in sequence if not (x in seen or seen.add(x))]"
   ]
  },
  {
   "cell_type": "code",
   "execution_count": 70,
   "id": "2f3e6492",
   "metadata": {},
   "outputs": [
    {
     "name": "stderr",
     "output_type": "stream",
     "text": [
      "[nltk_data] Downloading package stopwords to\n",
      "[nltk_data]     /Users/aleksandrarozwadowska/nltk_data...\n",
      "[nltk_data]   Package stopwords is already up-to-date!\n"
     ]
    }
   ],
   "source": [
    "#create a list of stopwords.You can import stopwords from nltk too\n",
    "stopwords = [\"and\", \"to\", \"for\", \"a\"]\n",
    "\n",
    "#stop words from nltk\n",
    "import nltk \n",
    "from nltk.corpus import stopwords\n",
    "nltk.download(\"stopwords\")\n",
    "stopwords = stopwords.words(\"english\")"
   ]
  },
  {
   "cell_type": "code",
   "execution_count": 71,
   "id": "30ecaf69",
   "metadata": {},
   "outputs": [],
   "source": [
    "#list of special characters.You can use regular expressions too\n",
    "special_char = [\",\", \".\", \";\", \"?\", \"!\", \"-\"]\n",
    "\n",
    "#Write the sentences in the corpus,in our case, just two \n",
    "string1=\"Welcome to Great Learning , NOW start learning\"\n",
    "string2=\"Learning is a good practice\""
   ]
  },
  {
   "cell_type": "code",
   "execution_count": 72,
   "id": "e9a3cdec",
   "metadata": {},
   "outputs": [
    {
     "name": "stdout",
     "output_type": "stream",
     "text": [
      "['welcome', 'to', 'great', 'learning', ',', 'now', 'start', 'learning']\n",
      "['learning', 'is', 'a', 'good', 'practice']\n"
     ]
    }
   ],
   "source": [
    "#convert them to lower case\n",
    "string1 = string1.lower()\n",
    "string2 = string2.lower()\n",
    "\n",
    "#split the sentences into tokens\n",
    "tokens1 = string1.split()\n",
    "tokens2 = string2.split()\n",
    "\n",
    "print(tokens1)\n",
    "print(tokens2)"
   ]
  },
  {
   "cell_type": "code",
   "execution_count": 73,
   "id": "7b016552",
   "metadata": {},
   "outputs": [
    {
     "name": "stdout",
     "output_type": "stream",
     "text": [
      "['welcome', 'to', 'great', 'learning', ',', 'now', 'start', 'is', 'a', 'good', 'practice']\n"
     ]
    }
   ],
   "source": [
    "#create a vocabulary list\n",
    "vocab = unique(tokens1+tokens2)\n",
    "print(vocab)"
   ]
  },
  {
   "cell_type": "code",
   "execution_count": 74,
   "id": "aa645653",
   "metadata": {},
   "outputs": [
    {
     "name": "stdout",
     "output_type": "stream",
     "text": [
      "['welcome', 'great', 'learning', 'start', 'good', 'practice']\n"
     ]
    }
   ],
   "source": [
    "#filter the vocabulary list\n",
    "filtered_vocab = []\n",
    "for w in vocab:\n",
    "    if w not in stopwords and w not in special_char:\n",
    "        filtered_vocab.append(w)\n",
    "print(filtered_vocab)"
   ]
  },
  {
   "cell_type": "code",
   "execution_count": 75,
   "id": "35a6f38c",
   "metadata": {},
   "outputs": [
    {
     "name": "stdout",
     "output_type": "stream",
     "text": [
      "[1, 1, 2, 1, 0, 0]\n",
      "[0, 0, 1, 0, 1, 1]\n"
     ]
    }
   ],
   "source": [
    "#convert sentences into vectords\n",
    "vector1 = vecorized_tokens(tokens1)\n",
    "vector2 = vecorized_tokens(tokens2)\n",
    "\n",
    "print(vector1)\n",
    "print(vector2)"
   ]
  },
  {
   "cell_type": "code",
   "execution_count": 76,
   "id": "79e4f3ec",
   "metadata": {},
   "outputs": [
    {
     "data": {
      "text/html": [
       "<div>\n",
       "<style scoped>\n",
       "    .dataframe tbody tr th:only-of-type {\n",
       "        vertical-align: middle;\n",
       "    }\n",
       "\n",
       "    .dataframe tbody tr th {\n",
       "        vertical-align: top;\n",
       "    }\n",
       "\n",
       "    .dataframe thead th {\n",
       "        text-align: right;\n",
       "    }\n",
       "</style>\n",
       "<table border=\"1\" class=\"dataframe\">\n",
       "  <thead>\n",
       "    <tr style=\"text-align: right;\">\n",
       "      <th></th>\n",
       "      <th>good</th>\n",
       "      <th>job</th>\n",
       "      <th>miss</th>\n",
       "    </tr>\n",
       "  </thead>\n",
       "  <tbody>\n",
       "    <tr>\n",
       "      <th>0</th>\n",
       "      <td>1</td>\n",
       "      <td>1</td>\n",
       "      <td>1</td>\n",
       "    </tr>\n",
       "    <tr>\n",
       "      <th>1</th>\n",
       "      <td>1</td>\n",
       "      <td>0</td>\n",
       "      <td>0</td>\n",
       "    </tr>\n",
       "  </tbody>\n",
       "</table>\n",
       "</div>"
      ],
      "text/plain": [
       "   good  job  miss\n",
       "0     1    1     1\n",
       "1     1    0     0"
      ]
     },
     "execution_count": 76,
     "metadata": {},
     "output_type": "execute_result"
    }
   ],
   "source": [
    "#Create a Bag of Words Model with Sklearn\n",
    "import pandas as pd\n",
    "from sklearn.feature_extraction.text import CountVectorizer, TfidfVectorizer\n",
    "\n",
    "sentence_1=\"This is a good job.I will not miss it for anything\"\n",
    "sentence_2=\"This is not good at all\"\n",
    "\n",
    "CountVec = CountVectorizer(ngram_range=(1,1), stop_words=\"english\")\n",
    "\n",
    "#transform\n",
    "Count_data = CountVec.fit_transform([sentence_1, sentence_2])\n",
    "\n",
    "#create dataframe\n",
    "cv_datafame = pd.DataFrame(Count_data.toarray(), columns=CountVec.get_feature_names_out())\n",
    "cv_datafame.head()"
   ]
  },
  {
   "cell_type": "code",
   "execution_count": 77,
   "id": "999e9c33",
   "metadata": {},
   "outputs": [
    {
     "data": {
      "text/plain": [
       "['This',\n",
       " 'is',\n",
       " 'a',\n",
       " 'good',\n",
       " 'job.I',\n",
       " 'will',\n",
       " 'not',\n",
       " 'miss',\n",
       " 'it',\n",
       " 'for',\n",
       " 'anything']"
      ]
     },
     "execution_count": 77,
     "metadata": {},
     "output_type": "execute_result"
    }
   ],
   "source": [
    "from nltk import word_tokenize\n",
    "\n",
    "word_tokenize(sentence_1)"
   ]
  },
  {
   "cell_type": "code",
   "execution_count": 78,
   "id": "54e22d81",
   "metadata": {},
   "outputs": [
    {
     "data": {
      "text/html": [
       "<div>\n",
       "<style scoped>\n",
       "    .dataframe tbody tr th:only-of-type {\n",
       "        vertical-align: middle;\n",
       "    }\n",
       "\n",
       "    .dataframe tbody tr th {\n",
       "        vertical-align: top;\n",
       "    }\n",
       "\n",
       "    .dataframe thead th {\n",
       "        text-align: right;\n",
       "    }\n",
       "</style>\n",
       "<table border=\"1\" class=\"dataframe\">\n",
       "  <thead>\n",
       "    <tr style=\"text-align: right;\">\n",
       "      <th></th>\n",
       "      <th>review</th>\n",
       "      <th>sentiment</th>\n",
       "      <th>label</th>\n",
       "    </tr>\n",
       "  </thead>\n",
       "  <tbody>\n",
       "    <tr>\n",
       "      <th>0</th>\n",
       "      <td>One of the other reviewers has mentioned that ...</td>\n",
       "      <td>positive</td>\n",
       "      <td>1</td>\n",
       "    </tr>\n",
       "    <tr>\n",
       "      <th>1</th>\n",
       "      <td>A wonderful little production. &lt;br /&gt;&lt;br /&gt;The...</td>\n",
       "      <td>positive</td>\n",
       "      <td>1</td>\n",
       "    </tr>\n",
       "    <tr>\n",
       "      <th>2</th>\n",
       "      <td>I thought this was a wonderful way to spend ti...</td>\n",
       "      <td>positive</td>\n",
       "      <td>1</td>\n",
       "    </tr>\n",
       "    <tr>\n",
       "      <th>3</th>\n",
       "      <td>Basically there's a family where a little boy ...</td>\n",
       "      <td>negative</td>\n",
       "      <td>0</td>\n",
       "    </tr>\n",
       "    <tr>\n",
       "      <th>4</th>\n",
       "      <td>Petter Mattei's \"Love in the Time of Money\" is...</td>\n",
       "      <td>positive</td>\n",
       "      <td>1</td>\n",
       "    </tr>\n",
       "  </tbody>\n",
       "</table>\n",
       "</div>"
      ],
      "text/plain": [
       "                                              review sentiment  label\n",
       "0  One of the other reviewers has mentioned that ...  positive      1\n",
       "1  A wonderful little production. <br /><br />The...  positive      1\n",
       "2  I thought this was a wonderful way to spend ti...  positive      1\n",
       "3  Basically there's a family where a little boy ...  negative      0\n",
       "4  Petter Mattei's \"Love in the Time of Money\" is...  positive      1"
      ]
     },
     "execution_count": 78,
     "metadata": {},
     "output_type": "execute_result"
    }
   ],
   "source": [
    "movies.head()"
   ]
  },
  {
   "cell_type": "code",
   "execution_count": 79,
   "id": "4d4e2de0",
   "metadata": {},
   "outputs": [
    {
     "name": "stderr",
     "output_type": "stream",
     "text": [
      "IOPub data rate exceeded.\n",
      "The notebook server will temporarily stop sending output\n",
      "to the client in order to avoid crashing it.\n",
      "To change this limit, set the config variable\n",
      "`--NotebookApp.iopub_data_rate_limit`.\n",
      "\n",
      "Current values:\n",
      "NotebookApp.iopub_data_rate_limit=1000000.0 (bytes/sec)\n",
      "NotebookApp.rate_limit_window=3.0 (secs)\n",
      "\n"
     ]
    }
   ],
   "source": [
    "word_tokens = [word_tokenize(review) for review in movies.review]\n",
    "print(word_tokens)"
   ]
  },
  {
   "cell_type": "code",
   "execution_count": 80,
   "id": "bff87e3f",
   "metadata": {},
   "outputs": [],
   "source": [
    "len_tokens = []\n",
    "\n",
    "#iterate over the word_tokens list\n",
    "for i in range(len(word_tokens)):\n",
    "    len_tokens.append(len(word_tokens[i]))\n",
    "    \n",
    "#create a new feature for the length of each review\n",
    "movies['n_tokens'] = len_tokens"
   ]
  },
  {
   "cell_type": "code",
   "execution_count": 81,
   "id": "44a48647",
   "metadata": {},
   "outputs": [
    {
     "data": {
      "text/html": [
       "<div>\n",
       "<style scoped>\n",
       "    .dataframe tbody tr th:only-of-type {\n",
       "        vertical-align: middle;\n",
       "    }\n",
       "\n",
       "    .dataframe tbody tr th {\n",
       "        vertical-align: top;\n",
       "    }\n",
       "\n",
       "    .dataframe thead th {\n",
       "        text-align: right;\n",
       "    }\n",
       "</style>\n",
       "<table border=\"1\" class=\"dataframe\">\n",
       "  <thead>\n",
       "    <tr style=\"text-align: right;\">\n",
       "      <th></th>\n",
       "      <th>review</th>\n",
       "      <th>sentiment</th>\n",
       "      <th>label</th>\n",
       "      <th>n_tokens</th>\n",
       "    </tr>\n",
       "  </thead>\n",
       "  <tbody>\n",
       "    <tr>\n",
       "      <th>0</th>\n",
       "      <td>One of the other reviewers has mentioned that ...</td>\n",
       "      <td>positive</td>\n",
       "      <td>1</td>\n",
       "      <td>380</td>\n",
       "    </tr>\n",
       "    <tr>\n",
       "      <th>1</th>\n",
       "      <td>A wonderful little production. &lt;br /&gt;&lt;br /&gt;The...</td>\n",
       "      <td>positive</td>\n",
       "      <td>1</td>\n",
       "      <td>201</td>\n",
       "    </tr>\n",
       "    <tr>\n",
       "      <th>2</th>\n",
       "      <td>I thought this was a wonderful way to spend ti...</td>\n",
       "      <td>positive</td>\n",
       "      <td>1</td>\n",
       "      <td>205</td>\n",
       "    </tr>\n",
       "    <tr>\n",
       "      <th>3</th>\n",
       "      <td>Basically there's a family where a little boy ...</td>\n",
       "      <td>negative</td>\n",
       "      <td>0</td>\n",
       "      <td>175</td>\n",
       "    </tr>\n",
       "    <tr>\n",
       "      <th>4</th>\n",
       "      <td>Petter Mattei's \"Love in the Time of Money\" is...</td>\n",
       "      <td>positive</td>\n",
       "      <td>1</td>\n",
       "      <td>283</td>\n",
       "    </tr>\n",
       "  </tbody>\n",
       "</table>\n",
       "</div>"
      ],
      "text/plain": [
       "                                              review sentiment  label   \n",
       "0  One of the other reviewers has mentioned that ...  positive      1  \\\n",
       "1  A wonderful little production. <br /><br />The...  positive      1   \n",
       "2  I thought this was a wonderful way to spend ti...  positive      1   \n",
       "3  Basically there's a family where a little boy ...  negative      0   \n",
       "4  Petter Mattei's \"Love in the Time of Money\" is...  positive      1   \n",
       "\n",
       "   n_tokens  \n",
       "0       380  \n",
       "1       201  \n",
       "2       205  \n",
       "3       175  \n",
       "4       283  "
      ]
     },
     "execution_count": 81,
     "metadata": {},
     "output_type": "execute_result"
    }
   ],
   "source": [
    "movies.head()"
   ]
  },
  {
   "cell_type": "code",
   "execution_count": null,
   "id": "75f5c24e",
   "metadata": {},
   "outputs": [],
   "source": []
  },
  {
   "cell_type": "code",
   "execution_count": null,
   "id": "81960ea1",
   "metadata": {},
   "outputs": [],
   "source": []
  },
  {
   "cell_type": "markdown",
   "id": "01c3c546",
   "metadata": {},
   "source": [
    "# More on Numeric Vectors: Transforming Tweets\n",
    "\n",
    "### This chapter continues the process of understanding product reviews. We will cover additional complexities, especially when working with sentiment analysis data from social media platforms such as Twitter. We will also learn other ways to obtain numeric features from the text.\n",
    "\n",
    "Stop words\n",
    "\n",
    "Word cloud of tweets\n",
    "\n",
    "Airline sentiment with stop words\n",
    "\n",
    "Multiple text columns\n",
    "\n",
    "Capturing a token pattern\n",
    "\n",
    "Specify the token pattern\n",
    "\n",
    "String operators with the Twitter data\n",
    "\n",
    "More string operators and Twitter\n",
    "\n",
    "Stemming and lemmatization\n",
    "\n",
    "Stems and lemmas from GoT\n",
    "\n",
    "Stem Spanish reviews\n",
    "\n",
    "Stems from tweets\n",
    "\n",
    "TfIdf: More ways to transform text\n",
    "\n",
    "Your first TfIdf\n",
    "\n",
    "TfIdf on Twitter airline sentiment data\n",
    "\n",
    "Tfidf and a BOW on same data"
   ]
  },
  {
   "cell_type": "code",
   "execution_count": 82,
   "id": "8424f023",
   "metadata": {},
   "outputs": [
    {
     "data": {
      "text/plain": [
       "False"
      ]
     },
     "execution_count": 82,
     "metadata": {},
     "output_type": "execute_result"
    }
   ],
   "source": [
    "#Capturing a token pattern\n",
    "\n",
    "mystring = \"This chapter continues the process of understanding product reviews. We will cover additional complexities, especially when working with sentiment analysis data from social media platforms such as Twitter. \"\n",
    "\n",
    "#check is a string is composed of letters\n",
    "mystring.isalpha()"
   ]
  },
  {
   "cell_type": "code",
   "execution_count": 83,
   "id": "9587d028",
   "metadata": {},
   "outputs": [
    {
     "data": {
      "text/plain": [
       "False"
      ]
     },
     "execution_count": 83,
     "metadata": {},
     "output_type": "execute_result"
    }
   ],
   "source": [
    "#checks if a string is composed only of digits\n",
    "mystring.isdigit()"
   ]
  },
  {
   "cell_type": "code",
   "execution_count": 84,
   "id": "b6724356",
   "metadata": {},
   "outputs": [
    {
     "data": {
      "text/plain": [
       "False"
      ]
     },
     "execution_count": 84,
     "metadata": {},
     "output_type": "execute_result"
    }
   ],
   "source": [
    "#checks if a string is composed only of digits\n",
    "mystring.isdigit()"
   ]
  },
  {
   "cell_type": "code",
   "execution_count": 85,
   "id": "ca6993be",
   "metadata": {},
   "outputs": [
    {
     "data": {
      "text/plain": [
       "False"
      ]
     },
     "execution_count": 85,
     "metadata": {},
     "output_type": "execute_result"
    }
   ],
   "source": [
    "#checks if a string is composed only of alphanumeric characters\n",
    "mystring.isalnum()"
   ]
  },
  {
   "cell_type": "code",
   "execution_count": 86,
   "id": "b4aa1e07",
   "metadata": {},
   "outputs": [],
   "source": [
    "#original word tokenization\n",
    "word_tokens = [word_tokenize(review) for review in movies.review]\n",
    "\n",
    "#keepinfg only tokens composed of letters\n",
    "cleaned_tokens = [[word for word in item if word.isalpha()] for item in word_tokens]"
   ]
  },
  {
   "cell_type": "code",
   "execution_count": 87,
   "id": "d1694cc6",
   "metadata": {},
   "outputs": [
    {
     "data": {
      "text/plain": [
       "380"
      ]
     },
     "execution_count": 87,
     "metadata": {},
     "output_type": "execute_result"
    }
   ],
   "source": [
    "len(word_tokens[0])"
   ]
  },
  {
   "cell_type": "code",
   "execution_count": 88,
   "id": "194bc6a1",
   "metadata": {},
   "outputs": [
    {
     "data": {
      "text/plain": [
       "310"
      ]
     },
     "execution_count": 88,
     "metadata": {},
     "output_type": "execute_result"
    }
   ],
   "source": [
    "len(cleaned_tokens[0])"
   ]
  },
  {
   "cell_type": "code",
   "execution_count": 89,
   "id": "372a5a92",
   "metadata": {},
   "outputs": [],
   "source": [
    "#regular expressions\n",
    "import re\n",
    "\n",
    "mystring = '#Wonderfulday'\n",
    "\n",
    "#extract # followed by letter, small or capital\n",
    "x = re.search(r'#A-Za-z', mystring)"
   ]
  },
  {
   "cell_type": "code",
   "execution_count": 90,
   "id": "370e12d9",
   "metadata": {},
   "outputs": [
    {
     "name": "stdout",
     "output_type": "stream",
     "text": [
      "None\n"
     ]
    }
   ],
   "source": [
    "print(x)"
   ]
  },
  {
   "cell_type": "code",
   "execution_count": 91,
   "id": "29e7e3d8",
   "metadata": {},
   "outputs": [
    {
     "data": {
      "text/plain": [
       "CountVectorizer(token_pattern='\\\\b[^\\\\d\\\\W][^\\\\d\\\\W]+\\\\b')"
      ]
     },
     "execution_count": 91,
     "metadata": {},
     "output_type": "execute_result"
    }
   ],
   "source": [
    "#token pattern i CountVectorizer\n",
    "\n",
    "#default token pattern in CountVectorizer\n",
    "#specify a particular token pattern\n",
    "CountVectorizer(token_pattern=r'\\b[^\\d\\W][^\\d\\W]+\\b')"
   ]
  },
  {
   "cell_type": "code",
   "execution_count": 92,
   "id": "138dc198",
   "metadata": {},
   "outputs": [
    {
     "name": "stdout",
     "output_type": "stream",
     "text": [
      "Length of vectorizer:  99962\n"
     ]
    }
   ],
   "source": [
    "#specify the token pattern\n",
    "#build a vectorized from the text column, specifying the regex to be equal to r'\\b[^\\d\\W][^\\d\\W]'\n",
    "\n",
    "#build and fit the vectorizer\n",
    "vect = CountVectorizer(token_pattern=r'\\b[^\\d\\W][^\\d\\W]+\\b').fit(movies.review)\n",
    "vect.transform(movies.review)\n",
    "print(\"Length of vectorizer: \", len(vect.get_feature_names_out()))"
   ]
  },
  {
   "cell_type": "code",
   "execution_count": 93,
   "id": "a57a8732",
   "metadata": {},
   "outputs": [
    {
     "data": {
      "text/plain": [
       "CountVectorizer(token_pattern='\\\\b[^\\\\d\\\\W][^\\\\d\\\\W]+\\\\b')"
      ]
     },
     "execution_count": 93,
     "metadata": {},
     "output_type": "execute_result"
    }
   ],
   "source": [
    "vect"
   ]
  },
  {
   "cell_type": "code",
   "execution_count": 94,
   "id": "f2eaa0aa",
   "metadata": {},
   "outputs": [
    {
     "data": {
      "text/html": [
       "<div>\n",
       "<style scoped>\n",
       "    .dataframe tbody tr th:only-of-type {\n",
       "        vertical-align: middle;\n",
       "    }\n",
       "\n",
       "    .dataframe tbody tr th {\n",
       "        vertical-align: top;\n",
       "    }\n",
       "\n",
       "    .dataframe thead th {\n",
       "        text-align: right;\n",
       "    }\n",
       "</style>\n",
       "<table border=\"1\" class=\"dataframe\">\n",
       "  <thead>\n",
       "    <tr style=\"text-align: right;\">\n",
       "      <th></th>\n",
       "      <th>big</th>\n",
       "      <th>count</th>\n",
       "      <th>create</th>\n",
       "      <th>dataset</th>\n",
       "      <th>differnt</th>\n",
       "      <th>features</th>\n",
       "      <th>hello</th>\n",
       "      <th>is</th>\n",
       "      <th>james</th>\n",
       "      <th>my</th>\n",
       "      <th>name</th>\n",
       "      <th>notebook</th>\n",
       "      <th>of</th>\n",
       "      <th>python</th>\n",
       "      <th>this</th>\n",
       "      <th>to</th>\n",
       "      <th>try</th>\n",
       "      <th>trying</th>\n",
       "      <th>vectorizer</th>\n",
       "      <th>words</th>\n",
       "    </tr>\n",
       "  </thead>\n",
       "  <tbody>\n",
       "    <tr>\n",
       "      <th>0</th>\n",
       "      <td>0</td>\n",
       "      <td>0</td>\n",
       "      <td>0</td>\n",
       "      <td>0</td>\n",
       "      <td>0</td>\n",
       "      <td>0</td>\n",
       "      <td>1</td>\n",
       "      <td>1</td>\n",
       "      <td>1</td>\n",
       "      <td>1</td>\n",
       "      <td>1</td>\n",
       "      <td>0</td>\n",
       "      <td>0</td>\n",
       "      <td>0</td>\n",
       "      <td>0</td>\n",
       "      <td>0</td>\n",
       "      <td>0</td>\n",
       "      <td>0</td>\n",
       "      <td>0</td>\n",
       "      <td>0</td>\n",
       "    </tr>\n",
       "    <tr>\n",
       "      <th>1</th>\n",
       "      <td>0</td>\n",
       "      <td>0</td>\n",
       "      <td>0</td>\n",
       "      <td>0</td>\n",
       "      <td>0</td>\n",
       "      <td>0</td>\n",
       "      <td>0</td>\n",
       "      <td>1</td>\n",
       "      <td>1</td>\n",
       "      <td>1</td>\n",
       "      <td>0</td>\n",
       "      <td>1</td>\n",
       "      <td>0</td>\n",
       "      <td>1</td>\n",
       "      <td>1</td>\n",
       "      <td>0</td>\n",
       "      <td>0</td>\n",
       "      <td>0</td>\n",
       "      <td>0</td>\n",
       "      <td>0</td>\n",
       "    </tr>\n",
       "    <tr>\n",
       "      <th>2</th>\n",
       "      <td>1</td>\n",
       "      <td>0</td>\n",
       "      <td>1</td>\n",
       "      <td>1</td>\n",
       "      <td>0</td>\n",
       "      <td>0</td>\n",
       "      <td>0</td>\n",
       "      <td>0</td>\n",
       "      <td>1</td>\n",
       "      <td>0</td>\n",
       "      <td>0</td>\n",
       "      <td>0</td>\n",
       "      <td>0</td>\n",
       "      <td>0</td>\n",
       "      <td>0</td>\n",
       "      <td>1</td>\n",
       "      <td>0</td>\n",
       "      <td>1</td>\n",
       "      <td>0</td>\n",
       "      <td>0</td>\n",
       "    </tr>\n",
       "    <tr>\n",
       "      <th>3</th>\n",
       "      <td>0</td>\n",
       "      <td>0</td>\n",
       "      <td>0</td>\n",
       "      <td>0</td>\n",
       "      <td>1</td>\n",
       "      <td>0</td>\n",
       "      <td>0</td>\n",
       "      <td>0</td>\n",
       "      <td>1</td>\n",
       "      <td>0</td>\n",
       "      <td>0</td>\n",
       "      <td>0</td>\n",
       "      <td>1</td>\n",
       "      <td>0</td>\n",
       "      <td>0</td>\n",
       "      <td>1</td>\n",
       "      <td>1</td>\n",
       "      <td>0</td>\n",
       "      <td>0</td>\n",
       "      <td>1</td>\n",
       "    </tr>\n",
       "    <tr>\n",
       "      <th>4</th>\n",
       "      <td>0</td>\n",
       "      <td>1</td>\n",
       "      <td>0</td>\n",
       "      <td>0</td>\n",
       "      <td>0</td>\n",
       "      <td>1</td>\n",
       "      <td>0</td>\n",
       "      <td>0</td>\n",
       "      <td>0</td>\n",
       "      <td>0</td>\n",
       "      <td>0</td>\n",
       "      <td>0</td>\n",
       "      <td>1</td>\n",
       "      <td>0</td>\n",
       "      <td>0</td>\n",
       "      <td>0</td>\n",
       "      <td>0</td>\n",
       "      <td>0</td>\n",
       "      <td>1</td>\n",
       "      <td>0</td>\n",
       "    </tr>\n",
       "  </tbody>\n",
       "</table>\n",
       "</div>"
      ],
      "text/plain": [
       "   big  count  create  dataset  differnt  features  hello  is  james  my   \n",
       "0    0      0       0        0         0         0      1   1      1   1  \\\n",
       "1    0      0       0        0         0         0      0   1      1   1   \n",
       "2    1      0       1        1         0         0      0   0      1   0   \n",
       "3    0      0       0        0         1         0      0   0      1   0   \n",
       "4    0      1       0        0         0         1      0   0      0   0   \n",
       "\n",
       "   name  notebook  of  python  this  to  try  trying  vectorizer  words  \n",
       "0     1         0   0       0     0   0    0       0           0      0  \n",
       "1     0         1   0       1     1   0    0       0           0      0  \n",
       "2     0         0   0       0     0   1    0       1           0      0  \n",
       "3     0         0   1       0     0   1    1       0           0      1  \n",
       "4     0         0   1       0     0   0    0       0           1      0  "
      ]
     },
     "execution_count": 94,
     "metadata": {},
     "output_type": "execute_result"
    }
   ],
   "source": [
    "#Basics of CountVectorizer\n",
    "import pandas as pd\n",
    "from sklearn.feature_extraction.text import CountVectorizer\n",
    "\n",
    "text = [\"Hello my name is james\",\"james this is my python notebook\",\"james trying to create a big dataset\",\"james of words to try differnt\",\"features of count vectorizer\"]\n",
    "\n",
    "count_vect = CountVectorizer()\n",
    "count_matrix = count_vect.fit_transform(text)\n",
    "count_array = count_matrix.toarray()\n",
    "\n",
    "df = pd.DataFrame(data = count_array, columns=count_vect.get_feature_names_out())\n",
    "df.head()"
   ]
  },
  {
   "cell_type": "code",
   "execution_count": 95,
   "id": "d2051db3",
   "metadata": {},
   "outputs": [
    {
     "data": {
      "text/html": [
       "<div>\n",
       "<style scoped>\n",
       "    .dataframe tbody tr th:only-of-type {\n",
       "        vertical-align: middle;\n",
       "    }\n",
       "\n",
       "    .dataframe tbody tr th {\n",
       "        vertical-align: top;\n",
       "    }\n",
       "\n",
       "    .dataframe thead th {\n",
       "        text-align: right;\n",
       "    }\n",
       "</style>\n",
       "<table border=\"1\" class=\"dataframe\">\n",
       "  <thead>\n",
       "    <tr style=\"text-align: right;\">\n",
       "      <th></th>\n",
       "      <th>Hello</th>\n",
       "      <th>James</th>\n",
       "      <th>hello</th>\n",
       "      <th>is</th>\n",
       "      <th>james</th>\n",
       "      <th>my</th>\n",
       "      <th>name</th>\n",
       "    </tr>\n",
       "  </thead>\n",
       "  <tbody>\n",
       "    <tr>\n",
       "      <th>0</th>\n",
       "      <td>0</td>\n",
       "      <td>0</td>\n",
       "      <td>1</td>\n",
       "      <td>1</td>\n",
       "      <td>1</td>\n",
       "      <td>1</td>\n",
       "      <td>1</td>\n",
       "    </tr>\n",
       "    <tr>\n",
       "      <th>1</th>\n",
       "      <td>1</td>\n",
       "      <td>1</td>\n",
       "      <td>0</td>\n",
       "      <td>1</td>\n",
       "      <td>0</td>\n",
       "      <td>1</td>\n",
       "      <td>1</td>\n",
       "    </tr>\n",
       "  </tbody>\n",
       "</table>\n",
       "</div>"
      ],
      "text/plain": [
       "   Hello  James  hello  is  james  my  name\n",
       "0      0      0      1   1      1   1     1\n",
       "1      1      1      0   1      0   1     1"
      ]
     },
     "execution_count": 95,
     "metadata": {},
     "output_type": "execute_result"
    }
   ],
   "source": [
    "text = [\"hello my name is james\",\"Hello my name is James\"]\n",
    "#lowercase\n",
    "count_vect = CountVectorizer(lowercase=False)\n",
    "count_matrix = count_vect.fit_transform(text)\n",
    "count_array = count_matrix.toarray()\n",
    "\n",
    "df = pd.DataFrame(data=count_array, columns=count_vect.get_feature_names_out())\n",
    "df.head()"
   ]
  },
  {
   "cell_type": "code",
   "execution_count": 96,
   "id": "a71ad0c7",
   "metadata": {},
   "outputs": [
    {
     "name": "stdout",
     "output_type": "stream",
     "text": [
      "   hello  is  james  my  name\n",
      "0      1   1      1   1     1\n",
      "1      1   1      1   1     1\n"
     ]
    }
   ],
   "source": [
    "#lowercase=True\n",
    "\n",
    "text = [\"hello my name is james\",\"Hello my name is James\"]\n",
    "count_vect = CountVectorizer()\n",
    "count_matrix = count_vect.fit_transform(text)\n",
    "count_array = count_matrix.toarray()\n",
    "df = pd.DataFrame(data = count_array, columns=count_vect.get_feature_names_out())\n",
    "print(df)"
   ]
  },
  {
   "cell_type": "code",
   "execution_count": 97,
   "id": "d1ada60e",
   "metadata": {},
   "outputs": [
    {
     "data": {
      "text/html": [
       "<div>\n",
       "<style scoped>\n",
       "    .dataframe tbody tr th:only-of-type {\n",
       "        vertical-align: middle;\n",
       "    }\n",
       "\n",
       "    .dataframe tbody tr th {\n",
       "        vertical-align: top;\n",
       "    }\n",
       "\n",
       "    .dataframe thead th {\n",
       "        text-align: right;\n",
       "    }\n",
       "</style>\n",
       "<table border=\"1\" class=\"dataframe\">\n",
       "  <thead>\n",
       "    <tr style=\"text-align: right;\">\n",
       "      <th></th>\n",
       "      <th>big</th>\n",
       "      <th>count</th>\n",
       "      <th>create</th>\n",
       "      <th>dataset</th>\n",
       "      <th>differnt</th>\n",
       "      <th>features</th>\n",
       "      <th>hello</th>\n",
       "      <th>james</th>\n",
       "      <th>name</th>\n",
       "      <th>notebook</th>\n",
       "      <th>of</th>\n",
       "      <th>python</th>\n",
       "      <th>this</th>\n",
       "      <th>try</th>\n",
       "      <th>trying</th>\n",
       "      <th>vectorizer</th>\n",
       "      <th>words</th>\n",
       "    </tr>\n",
       "  </thead>\n",
       "  <tbody>\n",
       "    <tr>\n",
       "      <th>0</th>\n",
       "      <td>0</td>\n",
       "      <td>0</td>\n",
       "      <td>0</td>\n",
       "      <td>0</td>\n",
       "      <td>0</td>\n",
       "      <td>0</td>\n",
       "      <td>1</td>\n",
       "      <td>1</td>\n",
       "      <td>1</td>\n",
       "      <td>0</td>\n",
       "      <td>0</td>\n",
       "      <td>0</td>\n",
       "      <td>0</td>\n",
       "      <td>0</td>\n",
       "      <td>0</td>\n",
       "      <td>0</td>\n",
       "      <td>0</td>\n",
       "    </tr>\n",
       "    <tr>\n",
       "      <th>1</th>\n",
       "      <td>0</td>\n",
       "      <td>0</td>\n",
       "      <td>0</td>\n",
       "      <td>0</td>\n",
       "      <td>0</td>\n",
       "      <td>0</td>\n",
       "      <td>0</td>\n",
       "      <td>1</td>\n",
       "      <td>0</td>\n",
       "      <td>1</td>\n",
       "      <td>0</td>\n",
       "      <td>1</td>\n",
       "      <td>1</td>\n",
       "      <td>0</td>\n",
       "      <td>0</td>\n",
       "      <td>0</td>\n",
       "      <td>0</td>\n",
       "    </tr>\n",
       "    <tr>\n",
       "      <th>2</th>\n",
       "      <td>1</td>\n",
       "      <td>0</td>\n",
       "      <td>1</td>\n",
       "      <td>1</td>\n",
       "      <td>0</td>\n",
       "      <td>0</td>\n",
       "      <td>0</td>\n",
       "      <td>1</td>\n",
       "      <td>0</td>\n",
       "      <td>0</td>\n",
       "      <td>0</td>\n",
       "      <td>0</td>\n",
       "      <td>0</td>\n",
       "      <td>0</td>\n",
       "      <td>1</td>\n",
       "      <td>0</td>\n",
       "      <td>0</td>\n",
       "    </tr>\n",
       "    <tr>\n",
       "      <th>3</th>\n",
       "      <td>0</td>\n",
       "      <td>0</td>\n",
       "      <td>0</td>\n",
       "      <td>0</td>\n",
       "      <td>1</td>\n",
       "      <td>0</td>\n",
       "      <td>0</td>\n",
       "      <td>1</td>\n",
       "      <td>0</td>\n",
       "      <td>0</td>\n",
       "      <td>1</td>\n",
       "      <td>0</td>\n",
       "      <td>0</td>\n",
       "      <td>1</td>\n",
       "      <td>0</td>\n",
       "      <td>0</td>\n",
       "      <td>1</td>\n",
       "    </tr>\n",
       "    <tr>\n",
       "      <th>4</th>\n",
       "      <td>0</td>\n",
       "      <td>1</td>\n",
       "      <td>0</td>\n",
       "      <td>0</td>\n",
       "      <td>0</td>\n",
       "      <td>1</td>\n",
       "      <td>0</td>\n",
       "      <td>0</td>\n",
       "      <td>0</td>\n",
       "      <td>0</td>\n",
       "      <td>1</td>\n",
       "      <td>0</td>\n",
       "      <td>0</td>\n",
       "      <td>0</td>\n",
       "      <td>0</td>\n",
       "      <td>1</td>\n",
       "      <td>0</td>\n",
       "    </tr>\n",
       "  </tbody>\n",
       "</table>\n",
       "</div>"
      ],
      "text/plain": [
       "   big  count  create  dataset  differnt  features  hello  james  name   \n",
       "0    0      0       0        0         0         0      1      1     1  \\\n",
       "1    0      0       0        0         0         0      0      1     0   \n",
       "2    1      0       1        1         0         0      0      1     0   \n",
       "3    0      0       0        0         1         0      0      1     0   \n",
       "4    0      1       0        0         0         1      0      0     0   \n",
       "\n",
       "   notebook  of  python  this  try  trying  vectorizer  words  \n",
       "0         0   0       0     0    0       0           0      0  \n",
       "1         1   0       1     1    0       0           0      0  \n",
       "2         0   0       0     0    0       1           0      0  \n",
       "3         0   1       0     0    1       0           0      1  \n",
       "4         0   1       0     0    0       0           1      0  "
      ]
     },
     "execution_count": 97,
     "metadata": {},
     "output_type": "execute_result"
    }
   ],
   "source": [
    "#stop_words\n",
    "text = [\"Hello my name is james\",\"james this is my python notebook\",\"james trying to create a big dataset\",\"james of words to try differnt\",\"features of count vectorizer\"]\n",
    "count_vect = CountVectorizer(stop_words=[\"is\", \"to\", \"my\"])\n",
    "count_matrix = count_vect.fit_transform(text)\n",
    "count_array = count_matrix.toarray()\n",
    "df = pd.DataFrame(data = count_array, columns=count_vect.get_feature_names_out())\n",
    "df.head()"
   ]
  },
  {
   "cell_type": "code",
   "execution_count": 98,
   "id": "fbb81dd9",
   "metadata": {},
   "outputs": [
    {
     "data": {
      "text/html": [
       "<div>\n",
       "<style scoped>\n",
       "    .dataframe tbody tr th:only-of-type {\n",
       "        vertical-align: middle;\n",
       "    }\n",
       "\n",
       "    .dataframe tbody tr th {\n",
       "        vertical-align: top;\n",
       "    }\n",
       "\n",
       "    .dataframe thead th {\n",
       "        text-align: right;\n",
       "    }\n",
       "</style>\n",
       "<table border=\"1\" class=\"dataframe\">\n",
       "  <thead>\n",
       "    <tr style=\"text-align: right;\">\n",
       "      <th></th>\n",
       "      <th>big</th>\n",
       "      <th>count</th>\n",
       "      <th>create</th>\n",
       "      <th>dataset</th>\n",
       "      <th>differnt</th>\n",
       "      <th>features</th>\n",
       "      <th>hello</th>\n",
       "      <th>james</th>\n",
       "      <th>notebook</th>\n",
       "      <th>python</th>\n",
       "      <th>try</th>\n",
       "      <th>trying</th>\n",
       "      <th>vectorizer</th>\n",
       "      <th>words</th>\n",
       "    </tr>\n",
       "  </thead>\n",
       "  <tbody>\n",
       "    <tr>\n",
       "      <th>0</th>\n",
       "      <td>0</td>\n",
       "      <td>0</td>\n",
       "      <td>0</td>\n",
       "      <td>0</td>\n",
       "      <td>0</td>\n",
       "      <td>0</td>\n",
       "      <td>1</td>\n",
       "      <td>1</td>\n",
       "      <td>0</td>\n",
       "      <td>0</td>\n",
       "      <td>0</td>\n",
       "      <td>0</td>\n",
       "      <td>0</td>\n",
       "      <td>0</td>\n",
       "    </tr>\n",
       "    <tr>\n",
       "      <th>1</th>\n",
       "      <td>0</td>\n",
       "      <td>0</td>\n",
       "      <td>0</td>\n",
       "      <td>0</td>\n",
       "      <td>0</td>\n",
       "      <td>0</td>\n",
       "      <td>0</td>\n",
       "      <td>1</td>\n",
       "      <td>1</td>\n",
       "      <td>1</td>\n",
       "      <td>0</td>\n",
       "      <td>0</td>\n",
       "      <td>0</td>\n",
       "      <td>0</td>\n",
       "    </tr>\n",
       "    <tr>\n",
       "      <th>2</th>\n",
       "      <td>1</td>\n",
       "      <td>0</td>\n",
       "      <td>1</td>\n",
       "      <td>1</td>\n",
       "      <td>0</td>\n",
       "      <td>0</td>\n",
       "      <td>0</td>\n",
       "      <td>1</td>\n",
       "      <td>0</td>\n",
       "      <td>0</td>\n",
       "      <td>0</td>\n",
       "      <td>1</td>\n",
       "      <td>0</td>\n",
       "      <td>0</td>\n",
       "    </tr>\n",
       "    <tr>\n",
       "      <th>3</th>\n",
       "      <td>0</td>\n",
       "      <td>0</td>\n",
       "      <td>0</td>\n",
       "      <td>0</td>\n",
       "      <td>1</td>\n",
       "      <td>0</td>\n",
       "      <td>0</td>\n",
       "      <td>1</td>\n",
       "      <td>0</td>\n",
       "      <td>0</td>\n",
       "      <td>1</td>\n",
       "      <td>0</td>\n",
       "      <td>0</td>\n",
       "      <td>1</td>\n",
       "    </tr>\n",
       "    <tr>\n",
       "      <th>4</th>\n",
       "      <td>0</td>\n",
       "      <td>1</td>\n",
       "      <td>0</td>\n",
       "      <td>0</td>\n",
       "      <td>0</td>\n",
       "      <td>1</td>\n",
       "      <td>0</td>\n",
       "      <td>0</td>\n",
       "      <td>0</td>\n",
       "      <td>0</td>\n",
       "      <td>0</td>\n",
       "      <td>0</td>\n",
       "      <td>1</td>\n",
       "      <td>0</td>\n",
       "    </tr>\n",
       "  </tbody>\n",
       "</table>\n",
       "</div>"
      ],
      "text/plain": [
       "   big  count  create  dataset  differnt  features  hello  james  notebook   \n",
       "0    0      0       0        0         0         0      1      1         0  \\\n",
       "1    0      0       0        0         0         0      0      1         1   \n",
       "2    1      0       1        1         0         0      0      1         0   \n",
       "3    0      0       0        0         1         0      0      1         0   \n",
       "4    0      1       0        0         0         1      0      0         0   \n",
       "\n",
       "   python  try  trying  vectorizer  words  \n",
       "0       0    0       0           0      0  \n",
       "1       1    0       0           0      0  \n",
       "2       0    0       1           0      0  \n",
       "3       0    1       0           0      1  \n",
       "4       0    0       0           1      0  "
      ]
     },
     "execution_count": 98,
     "metadata": {},
     "output_type": "execute_result"
    }
   ],
   "source": [
    "count_vect = CountVectorizer(stop_words=\"english\")\n",
    "count_matrix = count_vect.fit_transform(text)\n",
    "count_array = count_matrix.toarray()\n",
    "df = pd.DataFrame(data = count_array, columns=count_vect.get_feature_names_out())\n",
    "df.head()"
   ]
  },
  {
   "cell_type": "code",
   "execution_count": 99,
   "id": "63b77846",
   "metadata": {},
   "outputs": [
    {
     "data": {
      "text/html": [
       "<div>\n",
       "<style scoped>\n",
       "    .dataframe tbody tr th:only-of-type {\n",
       "        vertical-align: middle;\n",
       "    }\n",
       "\n",
       "    .dataframe tbody tr th {\n",
       "        vertical-align: top;\n",
       "    }\n",
       "\n",
       "    .dataframe thead th {\n",
       "        text-align: right;\n",
       "    }\n",
       "</style>\n",
       "<table border=\"1\" class=\"dataframe\">\n",
       "  <thead>\n",
       "    <tr style=\"text-align: right;\">\n",
       "      <th></th>\n",
       "      <th>big</th>\n",
       "      <th>count</th>\n",
       "      <th>create</th>\n",
       "      <th>dataset</th>\n",
       "      <th>differnt</th>\n",
       "      <th>features</th>\n",
       "      <th>hello</th>\n",
       "      <th>name</th>\n",
       "      <th>notebook</th>\n",
       "      <th>python</th>\n",
       "      <th>this</th>\n",
       "      <th>try</th>\n",
       "      <th>trying</th>\n",
       "      <th>vectorizer</th>\n",
       "      <th>words</th>\n",
       "    </tr>\n",
       "  </thead>\n",
       "  <tbody>\n",
       "    <tr>\n",
       "      <th>0</th>\n",
       "      <td>0</td>\n",
       "      <td>0</td>\n",
       "      <td>0</td>\n",
       "      <td>0</td>\n",
       "      <td>0</td>\n",
       "      <td>0</td>\n",
       "      <td>1</td>\n",
       "      <td>1</td>\n",
       "      <td>0</td>\n",
       "      <td>0</td>\n",
       "      <td>0</td>\n",
       "      <td>0</td>\n",
       "      <td>0</td>\n",
       "      <td>0</td>\n",
       "      <td>0</td>\n",
       "    </tr>\n",
       "    <tr>\n",
       "      <th>1</th>\n",
       "      <td>0</td>\n",
       "      <td>0</td>\n",
       "      <td>0</td>\n",
       "      <td>0</td>\n",
       "      <td>0</td>\n",
       "      <td>0</td>\n",
       "      <td>0</td>\n",
       "      <td>0</td>\n",
       "      <td>1</td>\n",
       "      <td>1</td>\n",
       "      <td>1</td>\n",
       "      <td>0</td>\n",
       "      <td>0</td>\n",
       "      <td>0</td>\n",
       "      <td>0</td>\n",
       "    </tr>\n",
       "    <tr>\n",
       "      <th>2</th>\n",
       "      <td>1</td>\n",
       "      <td>0</td>\n",
       "      <td>1</td>\n",
       "      <td>1</td>\n",
       "      <td>0</td>\n",
       "      <td>0</td>\n",
       "      <td>0</td>\n",
       "      <td>0</td>\n",
       "      <td>0</td>\n",
       "      <td>0</td>\n",
       "      <td>0</td>\n",
       "      <td>0</td>\n",
       "      <td>1</td>\n",
       "      <td>0</td>\n",
       "      <td>0</td>\n",
       "    </tr>\n",
       "    <tr>\n",
       "      <th>3</th>\n",
       "      <td>0</td>\n",
       "      <td>0</td>\n",
       "      <td>0</td>\n",
       "      <td>0</td>\n",
       "      <td>1</td>\n",
       "      <td>0</td>\n",
       "      <td>0</td>\n",
       "      <td>0</td>\n",
       "      <td>0</td>\n",
       "      <td>0</td>\n",
       "      <td>0</td>\n",
       "      <td>1</td>\n",
       "      <td>0</td>\n",
       "      <td>0</td>\n",
       "      <td>1</td>\n",
       "    </tr>\n",
       "    <tr>\n",
       "      <th>4</th>\n",
       "      <td>0</td>\n",
       "      <td>1</td>\n",
       "      <td>0</td>\n",
       "      <td>0</td>\n",
       "      <td>0</td>\n",
       "      <td>1</td>\n",
       "      <td>0</td>\n",
       "      <td>0</td>\n",
       "      <td>0</td>\n",
       "      <td>0</td>\n",
       "      <td>0</td>\n",
       "      <td>0</td>\n",
       "      <td>0</td>\n",
       "      <td>1</td>\n",
       "      <td>0</td>\n",
       "    </tr>\n",
       "  </tbody>\n",
       "</table>\n",
       "</div>"
      ],
      "text/plain": [
       "   big  count  create  dataset  differnt  features  hello  name  notebook   \n",
       "0    0      0       0        0         0         0      1     1         0  \\\n",
       "1    0      0       0        0         0         0      0     0         1   \n",
       "2    1      0       1        1         0         0      0     0         0   \n",
       "3    0      0       0        0         1         0      0     0         0   \n",
       "4    0      1       0        0         0         1      0     0         0   \n",
       "\n",
       "   python  this  try  trying  vectorizer  words  \n",
       "0       0     0    0       0           0      0  \n",
       "1       1     1    0       0           0      0  \n",
       "2       0     0    0       1           0      0  \n",
       "3       0     0    1       0           0      1  \n",
       "4       0     0    0       0           1      0  "
      ]
     },
     "execution_count": 99,
     "metadata": {},
     "output_type": "execute_result"
    }
   ],
   "source": [
    "#max_df\n",
    "count_vect = CountVectorizer(max_df = 1)\n",
    "count_matrix = count_vect.fit_transform(text)\n",
    "count_array = count_matrix.toarray()\n",
    "df = pd.DataFrame(data = count_array, columns=count_vect.get_feature_names_out())\n",
    "df.head()\n",
    "#The words ‘is’, ‘to’, ‘james’, ‘my’ and ‘of’ have been removed from the sparse matrix as they occur in more than 1 document."
   ]
  },
  {
   "cell_type": "code",
   "execution_count": 100,
   "id": "b7415476",
   "metadata": {},
   "outputs": [
    {
     "data": {
      "text/html": [
       "<div>\n",
       "<style scoped>\n",
       "    .dataframe tbody tr th:only-of-type {\n",
       "        vertical-align: middle;\n",
       "    }\n",
       "\n",
       "    .dataframe tbody tr th {\n",
       "        vertical-align: top;\n",
       "    }\n",
       "\n",
       "    .dataframe thead th {\n",
       "        text-align: right;\n",
       "    }\n",
       "</style>\n",
       "<table border=\"1\" class=\"dataframe\">\n",
       "  <thead>\n",
       "    <tr style=\"text-align: right;\">\n",
       "      <th></th>\n",
       "      <th>big</th>\n",
       "      <th>count</th>\n",
       "      <th>create</th>\n",
       "      <th>dataset</th>\n",
       "      <th>differnt</th>\n",
       "      <th>features</th>\n",
       "      <th>hello</th>\n",
       "      <th>is</th>\n",
       "      <th>my</th>\n",
       "      <th>name</th>\n",
       "      <th>notebook</th>\n",
       "      <th>of</th>\n",
       "      <th>python</th>\n",
       "      <th>this</th>\n",
       "      <th>to</th>\n",
       "      <th>try</th>\n",
       "      <th>trying</th>\n",
       "      <th>vectorizer</th>\n",
       "      <th>words</th>\n",
       "    </tr>\n",
       "  </thead>\n",
       "  <tbody>\n",
       "    <tr>\n",
       "      <th>0</th>\n",
       "      <td>0</td>\n",
       "      <td>0</td>\n",
       "      <td>0</td>\n",
       "      <td>0</td>\n",
       "      <td>0</td>\n",
       "      <td>0</td>\n",
       "      <td>1</td>\n",
       "      <td>1</td>\n",
       "      <td>1</td>\n",
       "      <td>1</td>\n",
       "      <td>0</td>\n",
       "      <td>0</td>\n",
       "      <td>0</td>\n",
       "      <td>0</td>\n",
       "      <td>0</td>\n",
       "      <td>0</td>\n",
       "      <td>0</td>\n",
       "      <td>0</td>\n",
       "      <td>0</td>\n",
       "    </tr>\n",
       "    <tr>\n",
       "      <th>1</th>\n",
       "      <td>0</td>\n",
       "      <td>0</td>\n",
       "      <td>0</td>\n",
       "      <td>0</td>\n",
       "      <td>0</td>\n",
       "      <td>0</td>\n",
       "      <td>0</td>\n",
       "      <td>1</td>\n",
       "      <td>1</td>\n",
       "      <td>0</td>\n",
       "      <td>1</td>\n",
       "      <td>0</td>\n",
       "      <td>1</td>\n",
       "      <td>1</td>\n",
       "      <td>0</td>\n",
       "      <td>0</td>\n",
       "      <td>0</td>\n",
       "      <td>0</td>\n",
       "      <td>0</td>\n",
       "    </tr>\n",
       "    <tr>\n",
       "      <th>2</th>\n",
       "      <td>1</td>\n",
       "      <td>0</td>\n",
       "      <td>1</td>\n",
       "      <td>1</td>\n",
       "      <td>0</td>\n",
       "      <td>0</td>\n",
       "      <td>0</td>\n",
       "      <td>0</td>\n",
       "      <td>0</td>\n",
       "      <td>0</td>\n",
       "      <td>0</td>\n",
       "      <td>0</td>\n",
       "      <td>0</td>\n",
       "      <td>0</td>\n",
       "      <td>1</td>\n",
       "      <td>0</td>\n",
       "      <td>1</td>\n",
       "      <td>0</td>\n",
       "      <td>0</td>\n",
       "    </tr>\n",
       "    <tr>\n",
       "      <th>3</th>\n",
       "      <td>0</td>\n",
       "      <td>0</td>\n",
       "      <td>0</td>\n",
       "      <td>0</td>\n",
       "      <td>1</td>\n",
       "      <td>0</td>\n",
       "      <td>0</td>\n",
       "      <td>0</td>\n",
       "      <td>0</td>\n",
       "      <td>0</td>\n",
       "      <td>0</td>\n",
       "      <td>1</td>\n",
       "      <td>0</td>\n",
       "      <td>0</td>\n",
       "      <td>1</td>\n",
       "      <td>1</td>\n",
       "      <td>0</td>\n",
       "      <td>0</td>\n",
       "      <td>1</td>\n",
       "    </tr>\n",
       "    <tr>\n",
       "      <th>4</th>\n",
       "      <td>0</td>\n",
       "      <td>1</td>\n",
       "      <td>0</td>\n",
       "      <td>0</td>\n",
       "      <td>0</td>\n",
       "      <td>1</td>\n",
       "      <td>0</td>\n",
       "      <td>0</td>\n",
       "      <td>0</td>\n",
       "      <td>0</td>\n",
       "      <td>0</td>\n",
       "      <td>1</td>\n",
       "      <td>0</td>\n",
       "      <td>0</td>\n",
       "      <td>0</td>\n",
       "      <td>0</td>\n",
       "      <td>0</td>\n",
       "      <td>1</td>\n",
       "      <td>0</td>\n",
       "    </tr>\n",
       "  </tbody>\n",
       "</table>\n",
       "</div>"
      ],
      "text/plain": [
       "   big  count  create  dataset  differnt  features  hello  is  my  name   \n",
       "0    0      0       0        0         0         0      1   1   1     1  \\\n",
       "1    0      0       0        0         0         0      0   1   1     0   \n",
       "2    1      0       1        1         0         0      0   0   0     0   \n",
       "3    0      0       0        0         1         0      0   0   0     0   \n",
       "4    0      1       0        0         0         1      0   0   0     0   \n",
       "\n",
       "   notebook  of  python  this  to  try  trying  vectorizer  words  \n",
       "0         0   0       0     0   0    0       0           0      0  \n",
       "1         1   0       1     1   0    0       0           0      0  \n",
       "2         0   0       0     0   1    0       1           0      0  \n",
       "3         0   1       0     0   1    1       0           0      1  \n",
       "4         0   1       0     0   0    0       0           1      0  "
      ]
     },
     "execution_count": 100,
     "metadata": {},
     "output_type": "execute_result"
    }
   ],
   "source": [
    "#max_df=0.75\n",
    "count_vect = CountVectorizer(max_df = 0.75)\n",
    "count_matrix = count_vect.fit_transform(text)\n",
    "count_array = count_matrix.toarray()\n",
    "\n",
    "df = pd.DataFrame(data = count_array, columns=count_vect.get_feature_names_out())\n",
    "df.head()\n",
    "#As you can see the word ‘james’ appears in 4 out of 5 documents(85%) \n",
    "#and hence crosses the threshold of 75% and removed from the sparse matrix"
   ]
  },
  {
   "cell_type": "code",
   "execution_count": 101,
   "id": "b0eec225",
   "metadata": {},
   "outputs": [
    {
     "data": {
      "text/html": [
       "<div>\n",
       "<style scoped>\n",
       "    .dataframe tbody tr th:only-of-type {\n",
       "        vertical-align: middle;\n",
       "    }\n",
       "\n",
       "    .dataframe tbody tr th {\n",
       "        vertical-align: top;\n",
       "    }\n",
       "\n",
       "    .dataframe thead th {\n",
       "        text-align: right;\n",
       "    }\n",
       "</style>\n",
       "<table border=\"1\" class=\"dataframe\">\n",
       "  <thead>\n",
       "    <tr style=\"text-align: right;\">\n",
       "      <th></th>\n",
       "      <th>big</th>\n",
       "      <th>count</th>\n",
       "      <th>create</th>\n",
       "      <th>dataset</th>\n",
       "      <th>differnt</th>\n",
       "      <th>features</th>\n",
       "      <th>hello</th>\n",
       "      <th>is</th>\n",
       "      <th>my</th>\n",
       "      <th>name</th>\n",
       "      <th>notebook</th>\n",
       "      <th>of</th>\n",
       "      <th>python</th>\n",
       "      <th>this</th>\n",
       "      <th>to</th>\n",
       "      <th>try</th>\n",
       "      <th>trying</th>\n",
       "      <th>vectorizer</th>\n",
       "      <th>words</th>\n",
       "    </tr>\n",
       "  </thead>\n",
       "  <tbody>\n",
       "    <tr>\n",
       "      <th>0</th>\n",
       "      <td>0</td>\n",
       "      <td>0</td>\n",
       "      <td>0</td>\n",
       "      <td>0</td>\n",
       "      <td>0</td>\n",
       "      <td>0</td>\n",
       "      <td>1</td>\n",
       "      <td>1</td>\n",
       "      <td>1</td>\n",
       "      <td>1</td>\n",
       "      <td>0</td>\n",
       "      <td>0</td>\n",
       "      <td>0</td>\n",
       "      <td>0</td>\n",
       "      <td>0</td>\n",
       "      <td>0</td>\n",
       "      <td>0</td>\n",
       "      <td>0</td>\n",
       "      <td>0</td>\n",
       "    </tr>\n",
       "    <tr>\n",
       "      <th>1</th>\n",
       "      <td>0</td>\n",
       "      <td>0</td>\n",
       "      <td>0</td>\n",
       "      <td>0</td>\n",
       "      <td>0</td>\n",
       "      <td>0</td>\n",
       "      <td>0</td>\n",
       "      <td>1</td>\n",
       "      <td>1</td>\n",
       "      <td>0</td>\n",
       "      <td>1</td>\n",
       "      <td>0</td>\n",
       "      <td>1</td>\n",
       "      <td>1</td>\n",
       "      <td>0</td>\n",
       "      <td>0</td>\n",
       "      <td>0</td>\n",
       "      <td>0</td>\n",
       "      <td>0</td>\n",
       "    </tr>\n",
       "    <tr>\n",
       "      <th>2</th>\n",
       "      <td>1</td>\n",
       "      <td>0</td>\n",
       "      <td>1</td>\n",
       "      <td>1</td>\n",
       "      <td>0</td>\n",
       "      <td>0</td>\n",
       "      <td>0</td>\n",
       "      <td>0</td>\n",
       "      <td>0</td>\n",
       "      <td>0</td>\n",
       "      <td>0</td>\n",
       "      <td>0</td>\n",
       "      <td>0</td>\n",
       "      <td>0</td>\n",
       "      <td>1</td>\n",
       "      <td>0</td>\n",
       "      <td>1</td>\n",
       "      <td>0</td>\n",
       "      <td>0</td>\n",
       "    </tr>\n",
       "    <tr>\n",
       "      <th>3</th>\n",
       "      <td>0</td>\n",
       "      <td>0</td>\n",
       "      <td>0</td>\n",
       "      <td>0</td>\n",
       "      <td>1</td>\n",
       "      <td>0</td>\n",
       "      <td>0</td>\n",
       "      <td>0</td>\n",
       "      <td>0</td>\n",
       "      <td>0</td>\n",
       "      <td>0</td>\n",
       "      <td>1</td>\n",
       "      <td>0</td>\n",
       "      <td>0</td>\n",
       "      <td>1</td>\n",
       "      <td>1</td>\n",
       "      <td>0</td>\n",
       "      <td>0</td>\n",
       "      <td>1</td>\n",
       "    </tr>\n",
       "    <tr>\n",
       "      <th>4</th>\n",
       "      <td>0</td>\n",
       "      <td>1</td>\n",
       "      <td>0</td>\n",
       "      <td>0</td>\n",
       "      <td>0</td>\n",
       "      <td>1</td>\n",
       "      <td>0</td>\n",
       "      <td>0</td>\n",
       "      <td>0</td>\n",
       "      <td>0</td>\n",
       "      <td>0</td>\n",
       "      <td>1</td>\n",
       "      <td>0</td>\n",
       "      <td>0</td>\n",
       "      <td>0</td>\n",
       "      <td>0</td>\n",
       "      <td>0</td>\n",
       "      <td>1</td>\n",
       "      <td>0</td>\n",
       "    </tr>\n",
       "  </tbody>\n",
       "</table>\n",
       "</div>"
      ],
      "text/plain": [
       "   big  count  create  dataset  differnt  features  hello  is  my  name   \n",
       "0    0      0       0        0         0         0      1   1   1     1  \\\n",
       "1    0      0       0        0         0         0      0   1   1     0   \n",
       "2    1      0       1        1         0         0      0   0   0     0   \n",
       "3    0      0       0        0         1         0      0   0   0     0   \n",
       "4    0      1       0        0         0         1      0   0   0     0   \n",
       "\n",
       "   notebook  of  python  this  to  try  trying  vectorizer  words  \n",
       "0         0   0       0     0   0    0       0           0      0  \n",
       "1         1   0       1     1   0    0       0           0      0  \n",
       "2         0   0       0     0   1    0       1           0      0  \n",
       "3         0   1       0     0   1    1       0           0      1  \n",
       "4         0   1       0     0   0    0       0           1      0  "
      ]
     },
     "execution_count": 101,
     "metadata": {},
     "output_type": "execute_result"
    }
   ],
   "source": [
    "#min_df\n",
    "coun_vect = CountVectorizer(min_df = 2)\n",
    "count_matrix = count_vect.fit_transform(text)\n",
    "count_array = count_matrix.toarray()\n",
    "\n",
    "df = pd.DataFrame(data = count_array, columns=count_vect.get_feature_names_out())\n",
    "df.head()"
   ]
  },
  {
   "cell_type": "code",
   "execution_count": 102,
   "id": "3f903af2",
   "metadata": {},
   "outputs": [
    {
     "data": {
      "text/html": [
       "<div>\n",
       "<style scoped>\n",
       "    .dataframe tbody tr th:only-of-type {\n",
       "        vertical-align: middle;\n",
       "    }\n",
       "\n",
       "    .dataframe tbody tr th {\n",
       "        vertical-align: top;\n",
       "    }\n",
       "\n",
       "    .dataframe thead th {\n",
       "        text-align: right;\n",
       "    }\n",
       "</style>\n",
       "<table border=\"1\" class=\"dataframe\">\n",
       "  <thead>\n",
       "    <tr style=\"text-align: right;\">\n",
       "      <th></th>\n",
       "      <th>james</th>\n",
       "      <th>my</th>\n",
       "      <th>to</th>\n",
       "    </tr>\n",
       "  </thead>\n",
       "  <tbody>\n",
       "    <tr>\n",
       "      <th>0</th>\n",
       "      <td>1</td>\n",
       "      <td>1</td>\n",
       "      <td>0</td>\n",
       "    </tr>\n",
       "    <tr>\n",
       "      <th>1</th>\n",
       "      <td>1</td>\n",
       "      <td>1</td>\n",
       "      <td>0</td>\n",
       "    </tr>\n",
       "    <tr>\n",
       "      <th>2</th>\n",
       "      <td>1</td>\n",
       "      <td>0</td>\n",
       "      <td>1</td>\n",
       "    </tr>\n",
       "    <tr>\n",
       "      <th>3</th>\n",
       "      <td>1</td>\n",
       "      <td>0</td>\n",
       "      <td>1</td>\n",
       "    </tr>\n",
       "    <tr>\n",
       "      <th>4</th>\n",
       "      <td>0</td>\n",
       "      <td>0</td>\n",
       "      <td>0</td>\n",
       "    </tr>\n",
       "  </tbody>\n",
       "</table>\n",
       "</div>"
      ],
      "text/plain": [
       "   james  my  to\n",
       "0      1   1   0\n",
       "1      1   1   0\n",
       "2      1   0   1\n",
       "3      1   0   1\n",
       "4      0   0   0"
      ]
     },
     "execution_count": 102,
     "metadata": {},
     "output_type": "execute_result"
    }
   ],
   "source": [
    "#max_features\n",
    "count_vect = CountVectorizer(max_features=3)\n",
    "count_matrix = count_vect.fit_transform(text)\n",
    "count_array = count_matrix.toarray()\n",
    "\n",
    "df = pd.DataFrame(data=count_array, columns=count_vect.get_feature_names_out())\n",
    "df.head()\n",
    "#The CountVectorizer will select the words/features/terms which occur the most frequently. \n",
    "#It takes absolute values so if you set the ‘max_features = 3’, \n",
    "#it will select the 3 most common words in the data."
   ]
  },
  {
   "cell_type": "code",
   "execution_count": 103,
   "id": "7e36b452",
   "metadata": {},
   "outputs": [
    {
     "name": "stderr",
     "output_type": "stream",
     "text": [
      "/opt/anaconda3/lib/python3.9/site-packages/sklearn/utils/deprecation.py:87: FutureWarning: Function get_feature_names is deprecated; get_feature_names is deprecated in 1.0 and will be removed in 1.2. Please use get_feature_names_out instead.\n",
      "  warnings.warn(msg, category=FutureWarning)\n"
     ]
    },
    {
     "data": {
      "text/html": [
       "<div>\n",
       "<style scoped>\n",
       "    .dataframe tbody tr th:only-of-type {\n",
       "        vertical-align: middle;\n",
       "    }\n",
       "\n",
       "    .dataframe tbody tr th {\n",
       "        vertical-align: top;\n",
       "    }\n",
       "\n",
       "    .dataframe thead th {\n",
       "        text-align: right;\n",
       "    }\n",
       "</style>\n",
       "<table border=\"1\" class=\"dataframe\">\n",
       "  <thead>\n",
       "    <tr style=\"text-align: right;\">\n",
       "      <th></th>\n",
       "      <th>big</th>\n",
       "      <th>count</th>\n",
       "      <th>create</th>\n",
       "      <th>dataset</th>\n",
       "      <th>differnt</th>\n",
       "      <th>features</th>\n",
       "      <th>hello</th>\n",
       "      <th>is</th>\n",
       "      <th>james</th>\n",
       "      <th>my</th>\n",
       "      <th>name</th>\n",
       "      <th>notebook</th>\n",
       "      <th>of</th>\n",
       "      <th>python</th>\n",
       "      <th>this</th>\n",
       "      <th>to</th>\n",
       "      <th>try</th>\n",
       "      <th>trying</th>\n",
       "      <th>vectorizer</th>\n",
       "      <th>words</th>\n",
       "    </tr>\n",
       "  </thead>\n",
       "  <tbody>\n",
       "    <tr>\n",
       "      <th>0</th>\n",
       "      <td>0</td>\n",
       "      <td>0</td>\n",
       "      <td>0</td>\n",
       "      <td>0</td>\n",
       "      <td>0</td>\n",
       "      <td>0</td>\n",
       "      <td>1</td>\n",
       "      <td>1</td>\n",
       "      <td>1</td>\n",
       "      <td>1</td>\n",
       "      <td>1</td>\n",
       "      <td>0</td>\n",
       "      <td>0</td>\n",
       "      <td>0</td>\n",
       "      <td>0</td>\n",
       "      <td>0</td>\n",
       "      <td>0</td>\n",
       "      <td>0</td>\n",
       "      <td>0</td>\n",
       "      <td>0</td>\n",
       "    </tr>\n",
       "    <tr>\n",
       "      <th>1</th>\n",
       "      <td>0</td>\n",
       "      <td>0</td>\n",
       "      <td>0</td>\n",
       "      <td>0</td>\n",
       "      <td>0</td>\n",
       "      <td>0</td>\n",
       "      <td>0</td>\n",
       "      <td>1</td>\n",
       "      <td>1</td>\n",
       "      <td>1</td>\n",
       "      <td>0</td>\n",
       "      <td>1</td>\n",
       "      <td>0</td>\n",
       "      <td>1</td>\n",
       "      <td>1</td>\n",
       "      <td>0</td>\n",
       "      <td>0</td>\n",
       "      <td>0</td>\n",
       "      <td>0</td>\n",
       "      <td>0</td>\n",
       "    </tr>\n",
       "    <tr>\n",
       "      <th>2</th>\n",
       "      <td>1</td>\n",
       "      <td>0</td>\n",
       "      <td>1</td>\n",
       "      <td>1</td>\n",
       "      <td>0</td>\n",
       "      <td>0</td>\n",
       "      <td>0</td>\n",
       "      <td>0</td>\n",
       "      <td>1</td>\n",
       "      <td>0</td>\n",
       "      <td>0</td>\n",
       "      <td>0</td>\n",
       "      <td>0</td>\n",
       "      <td>0</td>\n",
       "      <td>0</td>\n",
       "      <td>1</td>\n",
       "      <td>0</td>\n",
       "      <td>1</td>\n",
       "      <td>0</td>\n",
       "      <td>0</td>\n",
       "    </tr>\n",
       "    <tr>\n",
       "      <th>3</th>\n",
       "      <td>0</td>\n",
       "      <td>0</td>\n",
       "      <td>0</td>\n",
       "      <td>0</td>\n",
       "      <td>1</td>\n",
       "      <td>0</td>\n",
       "      <td>0</td>\n",
       "      <td>0</td>\n",
       "      <td>1</td>\n",
       "      <td>0</td>\n",
       "      <td>0</td>\n",
       "      <td>0</td>\n",
       "      <td>1</td>\n",
       "      <td>0</td>\n",
       "      <td>0</td>\n",
       "      <td>1</td>\n",
       "      <td>1</td>\n",
       "      <td>0</td>\n",
       "      <td>0</td>\n",
       "      <td>1</td>\n",
       "    </tr>\n",
       "    <tr>\n",
       "      <th>4</th>\n",
       "      <td>0</td>\n",
       "      <td>1</td>\n",
       "      <td>0</td>\n",
       "      <td>0</td>\n",
       "      <td>0</td>\n",
       "      <td>1</td>\n",
       "      <td>0</td>\n",
       "      <td>0</td>\n",
       "      <td>0</td>\n",
       "      <td>0</td>\n",
       "      <td>0</td>\n",
       "      <td>0</td>\n",
       "      <td>1</td>\n",
       "      <td>0</td>\n",
       "      <td>0</td>\n",
       "      <td>0</td>\n",
       "      <td>0</td>\n",
       "      <td>0</td>\n",
       "      <td>1</td>\n",
       "      <td>0</td>\n",
       "    </tr>\n",
       "  </tbody>\n",
       "</table>\n",
       "</div>"
      ],
      "text/plain": [
       "   big  count  create  dataset  differnt  features  hello  is  james  my   \n",
       "0    0      0       0        0         0         0      1   1      1   1  \\\n",
       "1    0      0       0        0         0         0      0   1      1   1   \n",
       "2    1      0       1        1         0         0      0   0      1   0   \n",
       "3    0      0       0        0         1         0      0   0      1   0   \n",
       "4    0      1       0        0         0         1      0   0      0   0   \n",
       "\n",
       "   name  notebook  of  python  this  to  try  trying  vectorizer  words  \n",
       "0     1         0   0       0     0   0    0       0           0      0  \n",
       "1     0         1   0       1     1   0    0       0           0      0  \n",
       "2     0         0   0       0     0   1    0       1           0      0  \n",
       "3     0         0   1       0     0   1    1       0           0      1  \n",
       "4     0         0   1       0     0   0    0       0           1      0  "
      ]
     },
     "execution_count": 103,
     "metadata": {},
     "output_type": "execute_result"
    }
   ],
   "source": [
    "#binary\n",
    "#By setting ‘binary = True’, the CountVectorizer no more takes into consideration the frequency of the term/word. \n",
    "#If it occurs it’s set to 1 otherwise 0. By default, binary is set to False. \n",
    "#This is usually used when the count of the term/word does not provide useful information to the machine learning model.\n",
    "\n",
    "coun_vect = CountVectorizer(binary=True)\n",
    "count_matrix = coun_vect.fit_transform(text)\n",
    "count_array = count_matrix.toarray()\n",
    "df = pd.DataFrame(data=count_array,columns = coun_vect.get_feature_names())\n",
    "\n",
    "#df = pd.DataFrame(data = count_array, columns=count_vect.get_feature_names_out())\n",
    "df.head()"
   ]
  },
  {
   "cell_type": "code",
   "execution_count": 104,
   "id": "bf820c52",
   "metadata": {},
   "outputs": [
    {
     "name": "stdout",
     "output_type": "stream",
     "text": [
      "{'hello': 6, 'my': 9, 'name': 10, 'is': 7, 'james': 8, 'this': 14, 'python': 13, 'notebook': 11, 'trying': 17, 'to': 15, 'create': 2, 'big': 0, 'dataset': 3, 'of': 12, 'words': 19, 'try': 16, 'differnt': 4, 'features': 5, 'count': 1, 'vectorizer': 18}\n"
     ]
    }
   ],
   "source": [
    "#Vocabulary\n",
    "#They are the collection of words in the sparse matrix.\n",
    "\n",
    "count_vect = CountVectorizer()\n",
    "count_matrix = count_vect.fit_transform(text)\n",
    "print(count_vect.vocabulary_)"
   ]
  },
  {
   "cell_type": "code",
   "execution_count": 105,
   "id": "4b5b1bba",
   "metadata": {},
   "outputs": [
    {
     "name": "stdout",
     "output_type": "stream",
     "text": [
      "['big', 'count', 'create', 'dataset', 'differnt', 'features', 'hello', 'is', 'james', 'my', 'name', 'notebook', 'of', 'python', 'this', 'to', 'try', 'trying', 'vectorizer', 'words']\n"
     ]
    },
    {
     "name": "stderr",
     "output_type": "stream",
     "text": [
      "/opt/anaconda3/lib/python3.9/site-packages/sklearn/utils/deprecation.py:87: FutureWarning: Function get_feature_names is deprecated; get_feature_names is deprecated in 1.0 and will be removed in 1.2. Please use get_feature_names_out instead.\n",
      "  warnings.warn(msg, category=FutureWarning)\n"
     ]
    }
   ],
   "source": [
    "#If you just want the vocabulary without the position of the word in the sparse matrix, you can use the method ‘get_feature_names()’. \n",
    "#If you notice this is the same method we use while creating our database and setting our columns.\n",
    "\n",
    "count_vect = CountVectorizer()\n",
    "count_matrix = count_vect.fit_transform(text)\n",
    "print(count_vect.get_feature_names())"
   ]
  },
  {
   "cell_type": "code",
   "execution_count": 106,
   "id": "e74001eb",
   "metadata": {},
   "outputs": [
    {
     "name": "stdout",
     "output_type": "stream",
     "text": [
      "['big' 'count' 'create' 'dataset' 'differnt' 'features' 'hello' 'is'\n",
      " 'james' 'my' 'name' 'notebook' 'of' 'python' 'this' 'to' 'try' 'trying'\n",
      " 'vectorizer' 'words']\n"
     ]
    }
   ],
   "source": [
    "count_vect = CountVectorizer()\n",
    "count_matrix = count_vect.fit_transform(text)\n",
    "print(count_vect.get_feature_names_out())"
   ]
  },
  {
   "cell_type": "code",
   "execution_count": 107,
   "id": "dcb0ee09",
   "metadata": {},
   "outputs": [],
   "source": [
    "#bag of words - Bag of Words Algorithm with Python\n",
    "def vectorize(tokens):\n",
    "    '''this funciton takes list of words in a sentence as input and returns a vector of size of filtered_vocab.\n",
    "    It puts 0 if the word is not present in tokens and count of tokens is present.'''\n",
    "    vector = []\n",
    "    for w in filtered_vocab:\n",
    "        vector.append(tokens.count(w))\n",
    "    return vector\n",
    "\n",
    "def unique(sequence):\n",
    "    '''this functions returns a list i which the order remains same and no item repeats. \n",
    "    Using the set() function does not preserve the original ordering, so i didnt use that instead.'''\n",
    "    seen = set()\n",
    "    return [x for x in sequence if not (x in seen or seen.add(x))]\n",
    "\n",
    "#create a list of stopwords (possible to import stopwords from nltk)\n",
    "stopwords = [\"to\", \"is\", \"a\"]\n",
    "\n",
    "#list of special characters characters\n",
    "special_char = [\",\", \".\", \";\", \":\", \"?\", \"!\"]"
   ]
  },
  {
   "cell_type": "code",
   "execution_count": 108,
   "id": "256bed4d",
   "metadata": {},
   "outputs": [
    {
     "name": "stdout",
     "output_type": "stream",
     "text": [
      "['welocome', 'to', 'the', 'great', 'learning,', 'now', 'start', 'learning.']\n",
      "['learning', 'is', 'a', 'good', 'partice']\n"
     ]
    }
   ],
   "source": [
    "#sentences\n",
    "string1 = \"welocome to the Great Learning, Now start learning.\"\n",
    "string2 = \"Learning is a good partice\"\n",
    "\n",
    "#to lower case\n",
    "string1 = string1.lower()\n",
    "string2 = string2.lower()\n",
    "\n",
    "#split into tokens\n",
    "tokens1 = string1.split()\n",
    "tokens2 = string2.split()\n",
    "\n",
    "print(tokens1)\n",
    "print(tokens2)"
   ]
  },
  {
   "cell_type": "code",
   "execution_count": 109,
   "id": "2afd9ed7",
   "metadata": {},
   "outputs": [
    {
     "name": "stdout",
     "output_type": "stream",
     "text": [
      "['welocome', 'to', 'the', 'great', 'learning,', 'now', 'start', 'learning.', 'learning', 'is', 'a', 'good', 'partice']\n"
     ]
    }
   ],
   "source": [
    "#create a vocabulary list\n",
    "vocab = unique(tokens1 + tokens2)\n",
    "print(vocab)"
   ]
  },
  {
   "cell_type": "code",
   "execution_count": 110,
   "id": "42a7a2a2",
   "metadata": {},
   "outputs": [
    {
     "name": "stdout",
     "output_type": "stream",
     "text": [
      "['welocome', 'the', 'great', 'learning,', 'now', 'start', 'learning.', 'learning', 'good', 'partice']\n"
     ]
    }
   ],
   "source": [
    "#filter the vocabulary list\n",
    "filtered_vocab = []\n",
    "for w in vocab:\n",
    "    if w not in stopwords and w not in special_char:\n",
    "        filtered_vocab.append(w)\n",
    "print(filtered_vocab)"
   ]
  },
  {
   "cell_type": "code",
   "execution_count": 111,
   "id": "0e00d195",
   "metadata": {},
   "outputs": [
    {
     "name": "stdout",
     "output_type": "stream",
     "text": [
      "vector1:  [1, 1, 1, 1, 1, 1, 1, 0, 0, 0] \n",
      "vector2:  [0, 0, 0, 0, 0, 0, 0, 1, 1, 1]\n"
     ]
    }
   ],
   "source": [
    "#convert senctences into vectors\n",
    "vector1 = vectorize(tokens1)\n",
    "vector2 = vectorize(tokens2)\n",
    "print(\"vector1: \", vector1, \"\\nvector2: \", vector2)"
   ]
  },
  {
   "cell_type": "code",
   "execution_count": 112,
   "id": "1875979a",
   "metadata": {},
   "outputs": [],
   "source": [
    "#create a bag of words model with sklearn \n",
    "import pandas as pd\n",
    "from sklearn.feature_extraction.text import CountVectorizer, TfidfVectorizer\n",
    "\n",
    "sentence1 = \"This is a good job. I will not miss it for anything.\"\n",
    "sentence2 = \"This is not good at all.\""
   ]
  },
  {
   "cell_type": "code",
   "execution_count": 113,
   "id": "ad2d69b9",
   "metadata": {},
   "outputs": [
    {
     "name": "stdout",
     "output_type": "stream",
     "text": [
      "   good  job  miss\n",
      "0     1    1     1\n",
      "1     1    0     0\n"
     ]
    }
   ],
   "source": [
    "countvec = CountVectorizer(ngram_range = (1,1), stop_words = \"english\")\n",
    "\n",
    "#transform\n",
    "countdata = countvec.fit_transform([sentence1, sentence2])\n",
    "\n",
    "#create dataframe\n",
    "cvdataframe = pd.DataFrame(countdata.toarray(), columns=countvec.get_feature_names_out())\n",
    "print(cvdataframe)"
   ]
  },
  {
   "cell_type": "code",
   "execution_count": 114,
   "id": "f726e1a6",
   "metadata": {},
   "outputs": [
    {
     "data": {
      "text/html": [
       "<div>\n",
       "<style scoped>\n",
       "    .dataframe tbody tr th:only-of-type {\n",
       "        vertical-align: middle;\n",
       "    }\n",
       "\n",
       "    .dataframe tbody tr th {\n",
       "        vertical-align: top;\n",
       "    }\n",
       "\n",
       "    .dataframe thead th {\n",
       "        text-align: right;\n",
       "    }\n",
       "</style>\n",
       "<table border=\"1\" class=\"dataframe\">\n",
       "  <thead>\n",
       "    <tr style=\"text-align: right;\">\n",
       "      <th></th>\n",
       "      <th>assess</th>\n",
       "      <th>based</th>\n",
       "      <th>bringing</th>\n",
       "      <th>build</th>\n",
       "      <th>building</th>\n",
       "      <th>classifier</th>\n",
       "      <th>cloud</th>\n",
       "      <th>creation</th>\n",
       "      <th>data</th>\n",
       "      <th>did</th>\n",
       "      <th>...</th>\n",
       "      <th>step</th>\n",
       "      <th>twitter</th>\n",
       "      <th>use</th>\n",
       "      <th>used</th>\n",
       "      <th>using</th>\n",
       "      <th>vectorizer</th>\n",
       "      <th>ways</th>\n",
       "      <th>word</th>\n",
       "      <th>words</th>\n",
       "      <th>wrap</th>\n",
       "    </tr>\n",
       "  </thead>\n",
       "  <tbody>\n",
       "    <tr>\n",
       "      <th>0</th>\n",
       "      <td>2</td>\n",
       "      <td>1</td>\n",
       "      <td>1</td>\n",
       "      <td>2</td>\n",
       "      <td>2</td>\n",
       "      <td>1</td>\n",
       "      <td>1</td>\n",
       "      <td>1</td>\n",
       "      <td>4</td>\n",
       "      <td>1</td>\n",
       "      <td>...</td>\n",
       "      <td>3</td>\n",
       "      <td>3</td>\n",
       "      <td>1</td>\n",
       "      <td>1</td>\n",
       "      <td>1</td>\n",
       "      <td>1</td>\n",
       "      <td>1</td>\n",
       "      <td>1</td>\n",
       "      <td>1</td>\n",
       "      <td>1</td>\n",
       "    </tr>\n",
       "  </tbody>\n",
       "</table>\n",
       "<p>1 rows × 46 columns</p>\n",
       "</div>"
      ],
      "text/plain": [
       "   assess  based  bringing  build  building  classifier  cloud  creation   \n",
       "0       2      1         1      2         2           1      1         1  \\\n",
       "\n",
       "   data  did  ...  step  twitter  use  used  using  vectorizer  ways  word   \n",
       "0     4    1  ...     3        3    1     1      1           1     1     1  \\\n",
       "\n",
       "   words  wrap  \n",
       "0      1     1  \n",
       "\n",
       "[1 rows x 46 columns]"
      ]
     },
     "execution_count": 114,
     "metadata": {},
     "output_type": "execute_result"
    }
   ],
   "source": [
    "sentence3 = \"\"\"We employ machine learning to predict the sentiment of a review based on the words used in the review. We use logistic regression and evaluate its performance in a few different ways. These are some solid first models!.Let's predict the sentiment!. Logistic regression of movie reviews. Logistic regression using Twitter data. Did we really predict the sentiment well? Build and assess a model: movies reviews. Performance metrics of Twitter data. Build and assess a model: product reviews data. Logistic regression: revisited. Predict probabilities of movie reviews. Product reviews with regularization. Regularizing models with Twitter data. Bringing it all together Step 1: Word cloud and feature creation Step 2: Building a vectorizer Step 3: Building a classifier. Wrap up\"\"\"\n",
    "countvec = CountVectorizer(stop_words = \"english\")\n",
    "\n",
    "#transform\n",
    "countdata = countvec.fit_transform([sentence3])\n",
    "\n",
    "#create dataframe\n",
    "cvdataframe = pd.DataFrame(countdata.toarray(), columns=countvec.get_feature_names_out())\n",
    "cvdataframe.head()"
   ]
  },
  {
   "cell_type": "code",
   "execution_count": 115,
   "id": "45a574a5",
   "metadata": {},
   "outputs": [
    {
     "data": {
      "text/html": [
       "<div>\n",
       "<style scoped>\n",
       "    .dataframe tbody tr th:only-of-type {\n",
       "        vertical-align: middle;\n",
       "    }\n",
       "\n",
       "    .dataframe tbody tr th {\n",
       "        vertical-align: top;\n",
       "    }\n",
       "\n",
       "    .dataframe thead th {\n",
       "        text-align: right;\n",
       "    }\n",
       "</style>\n",
       "<table border=\"1\" class=\"dataframe\">\n",
       "  <thead>\n",
       "    <tr style=\"text-align: right;\">\n",
       "      <th></th>\n",
       "      <th>assess</th>\n",
       "      <th>building</th>\n",
       "      <th>data</th>\n",
       "      <th>logistic</th>\n",
       "      <th>model</th>\n",
       "      <th>models</th>\n",
       "      <th>movie</th>\n",
       "      <th>performance</th>\n",
       "      <th>predict</th>\n",
       "      <th>regression</th>\n",
       "      <th>review</th>\n",
       "      <th>reviews</th>\n",
       "      <th>sentiment</th>\n",
       "      <th>step</th>\n",
       "      <th>twitter</th>\n",
       "    </tr>\n",
       "  </thead>\n",
       "  <tbody>\n",
       "    <tr>\n",
       "      <th>0</th>\n",
       "      <td>2</td>\n",
       "      <td>2</td>\n",
       "      <td>4</td>\n",
       "      <td>4</td>\n",
       "      <td>2</td>\n",
       "      <td>2</td>\n",
       "      <td>2</td>\n",
       "      <td>2</td>\n",
       "      <td>4</td>\n",
       "      <td>4</td>\n",
       "      <td>2</td>\n",
       "      <td>5</td>\n",
       "      <td>3</td>\n",
       "      <td>3</td>\n",
       "      <td>3</td>\n",
       "    </tr>\n",
       "  </tbody>\n",
       "</table>\n",
       "</div>"
      ],
      "text/plain": [
       "   assess  building  data  logistic  model  models  movie  performance   \n",
       "0       2         2     4         4      2       2      2            2  \\\n",
       "\n",
       "   predict  regression  review  reviews  sentiment  step  twitter  \n",
       "0        4           4       2        5          3     3        3  "
      ]
     },
     "execution_count": 115,
     "metadata": {},
     "output_type": "execute_result"
    }
   ],
   "source": [
    "countvec = CountVectorizer(max_features=15, stop_words = \"english\")\n",
    "countdata = countvec.fit_transform([sentence3])\n",
    "cvdataframe = pd.DataFrame(countdata.toarray(), columns=countvec.get_feature_names_out())\n",
    "cvdataframe.head()"
   ]
  },
  {
   "cell_type": "code",
   "execution_count": 116,
   "id": "2be3db9d",
   "metadata": {},
   "outputs": [
    {
     "data": {
      "text/html": [
       "<div>\n",
       "<style scoped>\n",
       "    .dataframe tbody tr th:only-of-type {\n",
       "        vertical-align: middle;\n",
       "    }\n",
       "\n",
       "    .dataframe tbody tr th {\n",
       "        vertical-align: top;\n",
       "    }\n",
       "\n",
       "    .dataframe thead th {\n",
       "        text-align: right;\n",
       "    }\n",
       "</style>\n",
       "<table border=\"1\" class=\"dataframe\">\n",
       "  <thead>\n",
       "    <tr style=\"text-align: right;\">\n",
       "      <th></th>\n",
       "      <th>assess</th>\n",
       "      <th>based</th>\n",
       "      <th>bringing</th>\n",
       "      <th>build</th>\n",
       "      <th>building</th>\n",
       "      <th>classifier</th>\n",
       "      <th>cloud</th>\n",
       "      <th>creation</th>\n",
       "      <th>data</th>\n",
       "      <th>did</th>\n",
       "      <th>...</th>\n",
       "      <th>step</th>\n",
       "      <th>twitter</th>\n",
       "      <th>use</th>\n",
       "      <th>used</th>\n",
       "      <th>using</th>\n",
       "      <th>vectorizer</th>\n",
       "      <th>ways</th>\n",
       "      <th>word</th>\n",
       "      <th>words</th>\n",
       "      <th>wrap</th>\n",
       "    </tr>\n",
       "  </thead>\n",
       "  <tbody>\n",
       "    <tr>\n",
       "      <th>0</th>\n",
       "      <td>2</td>\n",
       "      <td>1</td>\n",
       "      <td>1</td>\n",
       "      <td>2</td>\n",
       "      <td>2</td>\n",
       "      <td>1</td>\n",
       "      <td>1</td>\n",
       "      <td>1</td>\n",
       "      <td>4</td>\n",
       "      <td>1</td>\n",
       "      <td>...</td>\n",
       "      <td>3</td>\n",
       "      <td>3</td>\n",
       "      <td>1</td>\n",
       "      <td>1</td>\n",
       "      <td>1</td>\n",
       "      <td>1</td>\n",
       "      <td>1</td>\n",
       "      <td>1</td>\n",
       "      <td>1</td>\n",
       "      <td>1</td>\n",
       "    </tr>\n",
       "  </tbody>\n",
       "</table>\n",
       "<p>1 rows × 46 columns</p>\n",
       "</div>"
      ],
      "text/plain": [
       "   assess  based  bringing  build  building  classifier  cloud  creation   \n",
       "0       2      1         1      2         2           1      1         1  \\\n",
       "\n",
       "   data  did  ...  step  twitter  use  used  using  vectorizer  ways  word   \n",
       "0     4    1  ...     3        3    1     1      1           1     1     1  \\\n",
       "\n",
       "   words  wrap  \n",
       "0      1     1  \n",
       "\n",
       "[1 rows x 46 columns]"
      ]
     },
     "execution_count": 116,
     "metadata": {},
     "output_type": "execute_result"
    }
   ],
   "source": [
    "countvec = CountVectorizer(max_df = 1, stop_words = \"english\")\n",
    "countdata = countvec.fit_transform([sentence3])\n",
    "cvdataframe = pd.DataFrame(countdata.toarray(), columns=countvec.get_feature_names_out())\n",
    "cvdataframe.head()"
   ]
  },
  {
   "cell_type": "markdown",
   "id": "aeb425c0",
   "metadata": {},
   "source": [
    "# n-gram\n",
    "An N-gram is an N-token sequence of words: a 2-gram (more commonly called a bigram) is a two-word sequence of words like “really good”, “not good”, or “your homework”, and a 3-gram (more commonly called a trigram) is a three-word sequence of words like “not at all”, or “turn off light”."
   ]
  },
  {
   "cell_type": "code",
   "execution_count": 117,
   "id": "dd7a829b",
   "metadata": {},
   "outputs": [
    {
     "name": "stdout",
     "output_type": "stream",
     "text": [
      "without smoothing: \n"
     ]
    },
    {
     "data": {
      "text/html": [
       "<div>\n",
       "<style scoped>\n",
       "    .dataframe tbody tr th:only-of-type {\n",
       "        vertical-align: middle;\n",
       "    }\n",
       "\n",
       "    .dataframe tbody tr th {\n",
       "        vertical-align: top;\n",
       "    }\n",
       "\n",
       "    .dataframe thead th {\n",
       "        text-align: right;\n",
       "    }\n",
       "</style>\n",
       "<table border=\"1\" class=\"dataframe\">\n",
       "  <thead>\n",
       "    <tr style=\"text-align: right;\">\n",
       "      <th></th>\n",
       "      <th>good</th>\n",
       "      <th>job</th>\n",
       "      <th>miss</th>\n",
       "    </tr>\n",
       "  </thead>\n",
       "  <tbody>\n",
       "    <tr>\n",
       "      <th>0</th>\n",
       "      <td>0.385372</td>\n",
       "      <td>0.652491</td>\n",
       "      <td>0.652491</td>\n",
       "    </tr>\n",
       "    <tr>\n",
       "      <th>1</th>\n",
       "      <td>1.000000</td>\n",
       "      <td>0.000000</td>\n",
       "      <td>0.000000</td>\n",
       "    </tr>\n",
       "  </tbody>\n",
       "</table>\n",
       "</div>"
      ],
      "text/plain": [
       "       good       job      miss\n",
       "0  0.385372  0.652491  0.652491\n",
       "1  1.000000  0.000000  0.000000"
      ]
     },
     "execution_count": 117,
     "metadata": {},
     "output_type": "execute_result"
    }
   ],
   "source": [
    "#Tf-Idf\n",
    "import pandas as pd\n",
    "from sklearn.feature_extraction.text import CountVectorizer, TfidfVectorizer\n",
    "\n",
    "sentence_1=\"This is a good job.I will not miss it for anything\"\n",
    "sentence_2=\"This is not good at all\"\n",
    "\n",
    "#without smooth IDF\n",
    "print(\"without smoothing: \")\n",
    "tfidf_vec = TfidfVectorizer(use_idf=True, smooth_idf=False, ngram_range=(1,1), stop_words=\"english\")\n",
    "tfidf_data = tfidf_vec.fit_transform([sentence_1, sentence_2])\n",
    "\n",
    "tfidf_df = pd.DataFrame(data = tfidf_data.toarray(), columns=tfidf_vec.get_feature_names_out())\n",
    "tfidf_df.head()"
   ]
  },
  {
   "cell_type": "code",
   "execution_count": 118,
   "id": "41dbe332",
   "metadata": {},
   "outputs": [
    {
     "name": "stdout",
     "output_type": "stream",
     "text": [
      "with smoothing: \n"
     ]
    },
    {
     "data": {
      "text/html": [
       "<div>\n",
       "<style scoped>\n",
       "    .dataframe tbody tr th:only-of-type {\n",
       "        vertical-align: middle;\n",
       "    }\n",
       "\n",
       "    .dataframe tbody tr th {\n",
       "        vertical-align: top;\n",
       "    }\n",
       "\n",
       "    .dataframe thead th {\n",
       "        text-align: right;\n",
       "    }\n",
       "</style>\n",
       "<table border=\"1\" class=\"dataframe\">\n",
       "  <thead>\n",
       "    <tr style=\"text-align: right;\">\n",
       "      <th></th>\n",
       "      <th>good</th>\n",
       "      <th>job</th>\n",
       "      <th>miss</th>\n",
       "    </tr>\n",
       "  </thead>\n",
       "  <tbody>\n",
       "    <tr>\n",
       "      <th>0</th>\n",
       "      <td>0.449436</td>\n",
       "      <td>0.631667</td>\n",
       "      <td>0.631667</td>\n",
       "    </tr>\n",
       "    <tr>\n",
       "      <th>1</th>\n",
       "      <td>1.000000</td>\n",
       "      <td>0.000000</td>\n",
       "      <td>0.000000</td>\n",
       "    </tr>\n",
       "  </tbody>\n",
       "</table>\n",
       "</div>"
      ],
      "text/plain": [
       "       good       job      miss\n",
       "0  0.449436  0.631667  0.631667\n",
       "1  1.000000  0.000000  0.000000"
      ]
     },
     "execution_count": 118,
     "metadata": {},
     "output_type": "execute_result"
    }
   ],
   "source": [
    "#with smooth\n",
    "print(\"with smoothing: \")\n",
    "tfidf_vec = TfidfVectorizer(use_idf=True, smooth_idf=True, ngram_range=(1,1), stop_words=\"english\")\n",
    "tfidf_data = tfidf_vec.fit_transform([sentence_1, sentence_2])\n",
    "tfidf_df = pd.DataFrame(data=tfidf_data.toarray(), columns=tfidf_vec.get_feature_names_out())\n",
    "tfidf_df.head()"
   ]
  },
  {
   "cell_type": "code",
   "execution_count": null,
   "id": "719eabf0",
   "metadata": {},
   "outputs": [],
   "source": []
  },
  {
   "cell_type": "markdown",
   "id": "fbe53e23",
   "metadata": {},
   "source": [
    "# Let's Predict the Sentiment\n",
    "\n",
    "### We employ machine learning to predict the sentiment of a review based on the words used in the review. We use logistic regression and evaluate its performance in a few different ways. These are some solid first models!\n",
    "\n",
    "Let's predict the sentiment!\n",
    "\n",
    "Logistic regression of movie reviews\n",
    "\n",
    "Logistic regression using Twitter data\n",
    "\n",
    "Did we really predict the sentiment well?\n",
    "\n",
    "Build and assess a model: movies reviews\n",
    "\n",
    "Performance metrics of Twitter data\n",
    "\n",
    "Build and assess a model: product reviews data\n",
    "\n",
    "Logistic regression: revisited\n",
    "\n",
    "Predict probabilities of movie reviews\n",
    "\n",
    "Product reviews with regularization\n",
    "\n",
    "Regularizing models with Twitter data\n",
    "\n",
    "Bringing it all together\n",
    "\n",
    "Step 1: Word cloud and feature creation\n",
    "\n",
    "Step 2: Building a vectorizer\n",
    "\n",
    "Step 3: Building a classifier\n",
    "\n",
    "Wrap up\n"
   ]
  },
  {
   "cell_type": "code",
   "execution_count": 119,
   "id": "3b552439",
   "metadata": {},
   "outputs": [],
   "source": [
    "#https://towardsdatascience.com/sentiment-analysis-using-logistic-regression-and-naive-bayes-16b806eb4c4b\n",
    "import re\n",
    "import string\n",
    "from nltk.corpus import stopwords\n",
    "from nltk.stem import PorterStemmer\n",
    "from nltk.tokenize import TweetTokenizer\n",
    "import numpy as np"
   ]
  },
  {
   "cell_type": "code",
   "execution_count": 120,
   "id": "49302450",
   "metadata": {},
   "outputs": [],
   "source": [
    "#Preprocessing tweets\n",
    "def process_tweet(tweet):\n",
    "    #Remove old style retweet text \"RT\"\n",
    "    tweet2 = re.sub(r'^RT[\\s]','', tweet)\n",
    "    \n",
    "    #Remove hyperlinks\n",
    "    tweet2 = re.sub(r'https?:\\/\\/.*[\\r\\n]*','', tweet2)\n",
    "    \n",
    "    #Remove hastags\n",
    "    #Only removing the hash # sign from the word\n",
    "    tweet2 = re.sub(r'#','',tweet2)\n",
    "        \n",
    "    # instantiate tokenizer class\n",
    "    tokenizer = TweetTokenizer(preserve_case=False,    strip_handles=True, reduce_len=True)\n",
    "    \n",
    "    # tokenize tweets\n",
    "    tweet_tokens = tokenizer.tokenize(tweet2)    \n",
    "        \n",
    "    #Import the english stop words list from NLTK\n",
    "    stopwords_english = stopwords.words('english') \n",
    "    \n",
    "    #Creating a list of words without stopwords\n",
    "    tweets_clean = []\n",
    "    for word in tweet_tokens:\n",
    "        if word not in stopwords_english and word not in string.punctuation:\n",
    "            tweets_clean.append(word)\n",
    "        \n",
    "    #Instantiate stemming class\n",
    "    stemmer = PorterStemmer()\n",
    "    \n",
    "    #Creating a list of stems of words in tweet\n",
    "    tweets_stem = []\n",
    "    for word in tweets_clean:\n",
    "        stem_word = stemmer.stem(word)\n",
    "        tweets_stem.append(stem_word)\n",
    "        \n",
    "    return tweets_stem"
   ]
  },
  {
   "cell_type": "code",
   "execution_count": 127,
   "id": "9c07d6b1",
   "metadata": {},
   "outputs": [],
   "source": [
    "#Frequency generating function\n",
    "def build_freqs(tweets, ys):\n",
    "    yslist = np.squeeze(ys).tolist()\n",
    "    \n",
    "    freqs = {}\n",
    "    for y, tweet in zip(yslist, tweets):\n",
    "        for word in process_tweet(tweet):\n",
    "            pair = (word, y)\n",
    "            freqs[pair] = freqs.get(pair, 0) + 1\n",
    "            \n",
    "    return freqs"
   ]
  },
  {
   "cell_type": "code",
   "execution_count": 122,
   "id": "f705ade5",
   "metadata": {},
   "outputs": [],
   "source": [
    "def sigmoid(z): \n",
    "    '''\n",
    "    Input:\n",
    "        z: is the input (can be a scalar or an array)\n",
    "    Output:\n",
    "        h: the sigmoid of z\n",
    "    '''\n",
    "    # calculate the sigmoid of z\n",
    "    h = 1/(1 + np.exp(-z))\n",
    "    \n",
    "    return h"
   ]
  },
  {
   "cell_type": "code",
   "execution_count": 123,
   "id": "3429db81",
   "metadata": {},
   "outputs": [],
   "source": [
    "def gradientDescent(x, y, theta, alpha, num_iters):\n",
    "    '''\n",
    "    Input:\n",
    "        x: matrix of features which is (m,n+1)\n",
    "        y: corresponding labels of the input matrix x, dimensions (m,1)\n",
    "        theta: weight vector of dimension (n+1,1)\n",
    "        alpha: learning rate\n",
    "        num_iters: number of iterations you want to train your model for\n",
    "    Output:\n",
    "        J: the final cost\n",
    "        theta: your final weight vector\n",
    "    Hint: you might want to print the cost to make sure that it is going down.\n",
    "    '''\n",
    "    \n",
    "    m = len(x)\n",
    "  \n",
    "    for i in range(0, num_iters):\n",
    "        \n",
    "        # get z, the dot product of x and theta\n",
    "        z = np.dot(x,theta)\n",
    "        \n",
    "        # get the sigmoid of z\n",
    "        h = sigmoid(z)\n",
    "        \n",
    "        # calculate the cost function\n",
    "        J = (-1/m)*(np.dot(y.T,np.log(h)) + np.dot((1-y).T,np.log(1-h)))\n",
    "        \n",
    "        # update the weights theta\n",
    "        theta = theta - (alpha/m)*np.dot(x.T, h-y)\n",
    "        \n",
    "    J = float(J)\n",
    "    return J, theta"
   ]
  },
  {
   "cell_type": "code",
   "execution_count": 124,
   "id": "ab81782d",
   "metadata": {},
   "outputs": [],
   "source": [
    "def extract_features(tweet, freqs):\n",
    "    '''\n",
    "    Input: \n",
    "        tweet: a list of words for one tweet\n",
    "        freqs: a dictionary corresponding to the frequencies of each tuple (word, label)\n",
    "    Output: \n",
    "        x: a feature vector of dimension (1,3)\n",
    "    '''\n",
    "    # process_tweet tokenizes, stems, and removes stopwords\n",
    "    word_l = process_tweet(tweet)\n",
    "    \n",
    "    # 3 elements in the form of a 1 x 3 vector\n",
    "    x = np.zeros((1, 3)) \n",
    "    \n",
    "    #bias term is set to 1\n",
    "    x[0,0] = 1 \n",
    "        \n",
    "    # loop through each word in the list of words\n",
    "    for word in word_l:\n",
    "        \n",
    "        # increment the word count for the positive label 1\n",
    "        x[0,1] += freqs.get((word,1),0)\n",
    "        \n",
    "        # increment the word count for the negative label 0\n",
    "        x[0,2] += freqs.get((word,0),0)\n",
    "        \n",
    "    assert(x.shape == (1, 3))\n",
    "    return x"
   ]
  },
  {
   "cell_type": "code",
   "execution_count": 126,
   "id": "0a7801d4",
   "metadata": {},
   "outputs": [
    {
     "ename": "NameError",
     "evalue": "name 'all_positive_tweets' is not defined",
     "output_type": "error",
     "traceback": [
      "\u001b[0;31m---------------------------------------------------------------------------\u001b[0m",
      "\u001b[0;31mNameError\u001b[0m                                 Traceback (most recent call last)",
      "\u001b[0;32m/var/folders/gd/kyzdlh5x2bj6z9mv_q_r_mx40000gn/T/ipykernel_1346/1890873905.py\u001b[0m in \u001b[0;36m<module>\u001b[0;34m\u001b[0m\n\u001b[1;32m      1\u001b[0m \u001b[0;31m# import the data set from nltk\u001b[0m\u001b[0;34m\u001b[0m\u001b[0;34m\u001b[0m\u001b[0m\n\u001b[1;32m      2\u001b[0m \u001b[0;31m# split the data into two pieces, one for training and one for testing (validation set)\u001b[0m\u001b[0;34m\u001b[0m\u001b[0;34m\u001b[0m\u001b[0m\n\u001b[0;32m----> 3\u001b[0;31m \u001b[0mtest_pos\u001b[0m \u001b[0;34m=\u001b[0m \u001b[0mall_positive_tweets\u001b[0m\u001b[0;34m[\u001b[0m\u001b[0;36m4000\u001b[0m\u001b[0;34m:\u001b[0m\u001b[0;34m]\u001b[0m\u001b[0;34m\u001b[0m\u001b[0;34m\u001b[0m\u001b[0m\n\u001b[0m\u001b[1;32m      4\u001b[0m \u001b[0mtrain_pos\u001b[0m \u001b[0;34m=\u001b[0m \u001b[0mall_positive_tweets\u001b[0m\u001b[0;34m[\u001b[0m\u001b[0;34m:\u001b[0m\u001b[0;36m4000\u001b[0m\u001b[0;34m]\u001b[0m\u001b[0;34m\u001b[0m\u001b[0;34m\u001b[0m\u001b[0m\n\u001b[1;32m      5\u001b[0m \u001b[0mtest_neg\u001b[0m \u001b[0;34m=\u001b[0m \u001b[0mall_negative_tweets\u001b[0m\u001b[0;34m[\u001b[0m\u001b[0;36m4000\u001b[0m\u001b[0;34m:\u001b[0m\u001b[0;34m]\u001b[0m\u001b[0;34m\u001b[0m\u001b[0;34m\u001b[0m\u001b[0m\n",
      "\u001b[0;31mNameError\u001b[0m: name 'all_positive_tweets' is not defined"
     ]
    }
   ],
   "source": [
    "# import the data set from nltk\n",
    "# split the data into two pieces, one for training and one for testing (validation set) \n",
    "test_pos = all_positive_tweets[4000:]\n",
    "train_pos = all_positive_tweets[:4000]\n",
    "test_neg = all_negative_tweets[4000:]\n",
    "train_neg = all_negative_tweets[:4000]\n",
    "train_x = train_pos + train_neg \n",
    "test_x = test_pos + test_neg\n",
    "# combine positive and negative labels\n",
    "train_y = np.append(np.ones((len(train_pos), 1)), np.zeros((len(train_neg), 1)), axis=0)\n",
    "test_y = np.append(np.ones((len(test_pos), 1)), np.zeros((len(test_neg), 1)), axis=0)"
   ]
  },
  {
   "cell_type": "code",
   "execution_count": null,
   "id": "d1f6f087",
   "metadata": {},
   "outputs": [],
   "source": [
    "# collect the features 'x' and stack them into a matrix 'X'\n",
    "X = np.zeros((len(train_x), 3))\n",
    "for i in range(len(train_x)):\n",
    "    X[i, :]= extract_features(train_x[i], freqs)\n",
    "# training labels corresponding to X\n",
    "Y = train_y\n",
    "# Apply gradient descent\n",
    "J, theta = gradientDescent(X, Y, np.zeros((3, 1)), 1e-9, 1500)\n",
    "print(f\"The cost after training is {J:.8f}.\")\n",
    "print(f\"The resulting vector of weights is {[round(t, 8) for t in np.squeeze(theta)]}\")"
   ]
  },
  {
   "cell_type": "code",
   "execution_count": null,
   "id": "0e9734ff",
   "metadata": {},
   "outputs": [],
   "source": []
  }
 ],
 "metadata": {
  "kernelspec": {
   "display_name": "Python 3 (ipykernel)",
   "language": "python",
   "name": "python3"
  },
  "language_info": {
   "codemirror_mode": {
    "name": "ipython",
    "version": 3
   },
   "file_extension": ".py",
   "mimetype": "text/x-python",
   "name": "python",
   "nbconvert_exporter": "python",
   "pygments_lexer": "ipython3",
   "version": "3.9.13"
  }
 },
 "nbformat": 4,
 "nbformat_minor": 5
}
